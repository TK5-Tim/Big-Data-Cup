{
 "cells": [
  {
   "cell_type": "code",
   "execution_count": 414,
   "metadata": {},
   "outputs": [],
   "source": [
    "import pandas as pd\n",
    "import sqlite3\n",
    "import os\n",
    "import pandas as pd\n",
    "import numpy as np\n",
    "from tqdm import tqdm\n",
    "import re\n",
    "import csv\n",
    "\n",
    "# Import XGBoost classifier\n",
    "from xgboost import XGBClassifier\n",
    "\n",
    "# Import scikit-learn functions\n",
    "from sklearn.metrics import average_precision_score\n",
    "from sklearn.metrics import roc_auc_score\n",
    "\n",
    "from sklearn.model_selection import GridSearchCV\n",
    "from sklearn.model_selection import train_test_split\n",
    "from sklearn.model_selection import KFold\n",
    "\n",
    "# Import scikit-plot functions\n",
    "from scikitplot.metrics import plot_roc_curve\n",
    "from scikitplot.metrics import plot_precision_recall_curve\n",
    "from scikitplot.metrics import plot_calibration_curve\n",
    "\n",
    "# Import SciPy function\n",
    "from scipy.spatial import distance\n",
    "\n",
    "pd.set_option(\"display.max_columns\", None)\n"
   ]
  },
  {
   "cell_type": "code",
   "execution_count": 415,
   "metadata": {},
   "outputs": [],
   "source": [
    "# Data Directory\n",
    "data_dir = \"../../Data/Big-Data-Cup-2021\"\n",
    "bucketless_data_dir = '../../Data/bdc/data'\n",
    "tracking_data_dir = \"{}/TrackingData\".format(data_dir)\n",
    "db_path = '/Users/keltim01/Documents/databases/'\n",
    "\n",
    "#connect to database \n",
    "conn = sqlite3.connect(db_path + 'bdc_2022.db')\n",
    "cursor = conn.cursor()"
   ]
  },
  {
   "cell_type": "code",
   "execution_count": 416,
   "metadata": {},
   "outputs": [],
   "source": [
    "df_train = pd.read_sql(\n",
    "    '''\n",
    "    SELECT * FROM pbp_training \n",
    "    WHERE (is_shot = 1 OR is_goal = 1) AND detail_2 NOT IN ('Blocked')\n",
    "    '''\n",
    ",conn)"
   ]
  },
  {
   "cell_type": "code",
   "execution_count": 417,
   "metadata": {},
   "outputs": [],
   "source": [
    "df_test = pd.read_sql(\n",
    "    '''\n",
    "    SELECT * FROM play_by_play\n",
    "    WHERE is_shot = 1 AND event_detail_1 NOT IN ('Blocked')\n",
    "    '''\n",
    ",conn)"
   ]
  },
  {
   "cell_type": "markdown",
   "metadata": {},
   "source": [
    "## Choosing Features of the Expected Goals Model\n",
    "### Source:\n",
    "source/inspiration: https://hockey-graphs.com/2019/08/12/expected-goals-model-with-pre-shot-movement-part-1-the-model/\n",
    "\n",
    "- Unblocked Shots (Fenwick Shots)\n",
    "- using catboost from the bonsai-tree package \n",
    "\n",
    "\n",
    "### Features:\n",
    "- shot type, \n",
    "- shot location \n",
    "- distance from the net\n",
    "- angle from the net\n",
    "- type event prior \n",
    "- location event prior\n",
    "- time \n",
    "- distance from last event\n",
    "- time since last event\n",
    "- angle change between the shot and its prior event\n",
    "- score state\n",
    "- strength state\n",
    "\n",
    "- Dataset mostly contains neutral site games so the home and away should not be as important"
   ]
  },
  {
   "cell_type": "code",
   "execution_count": 418,
   "metadata": {},
   "outputs": [
    {
     "data": {
      "text/plain": [
       "Index(['index', 'game_date', 'season_year', 'team_name', 'opp_team_name',\n",
       "       'venue', 'period', 'clock_seconds', 'situation_type', 'goals_for',\n",
       "       'goals_against', 'player_name', 'event', 'event_successful', 'x_coord',\n",
       "       'y_coord', 'event_type', 'player_name_2', 'x_coord_2', 'y_coord_2',\n",
       "       'event_detail_1', 'event_detail_2', 'event_detail_3', 'frame_id_1',\n",
       "       'frame_id_2', 'home_team', 'away_team', 'is_shot', 'is_goal',\n",
       "       'event_id', 'team_id', 'player_id', 'detail_1_code', 'goal_diff',\n",
       "       'game_seconds_remaining', 'event_code', 'event_type_code',\n",
       "       'skaters_for', 'skaters_against', 'strength_state', 'distance_to_goal',\n",
       "       'angle_to_goal', 'prev_event', 'prev_event_code', 'prev_event_type',\n",
       "       'prev_event_type_code', 'prev_event_x_coord', 'prev_event_y_coord',\n",
       "       'prev_event_game_seconds_remaining', 'prev_event_distance_to_goal',\n",
       "       'prev_event_angle_to_goal', 'time_diff_last_event',\n",
       "       'angle_diff_last_event', 'distance_diff_last_event'],\n",
       "      dtype='object')"
      ]
     },
     "execution_count": 418,
     "metadata": {},
     "output_type": "execute_result"
    }
   ],
   "source": [
    "df_test.columns"
   ]
  },
  {
   "cell_type": "code",
   "execution_count": 419,
   "metadata": {},
   "outputs": [
    {
     "data": {
      "text/plain": [
       "Index(['index', 'game_date', 'home_team', 'away_team', 'period', 'clock',\n",
       "       'home_team_skaters', 'away_team_skaters', 'home_team_goals',\n",
       "       'away_team_goals', 'team', 'player', 'event', 'x_coord', 'y_coord',\n",
       "       'detail_1', 'detail_2', 'detail_3', 'detail_4', 'player_2',\n",
       "       'x_coordinate_2', 'y_coordinate_2', 'game_id', 'event_id', 'team_id',\n",
       "       'player_id', 'is_shot', 'is_goal', 'detail_1_code', 'detail_2_code',\n",
       "       'detail_3_code', 'detail_4_code', 'is_home', 'goal_diff',\n",
       "       'game_seconds_remaining', 'event_code', 'strength_state',\n",
       "       'distance_to_goal', 'angle_to_goal', 'prev_event', 'prev_event_code',\n",
       "       'prev_event_type', 'prev_event_type_code', 'prev_event_x_coord',\n",
       "       'prev_event_y_coord', 'prev_event_game_seconds_remaining',\n",
       "       'prev_event_distance_to_goal', 'prev_event_angle_to_goal',\n",
       "       'time_diff_last_event', 'angle_diff_last_event',\n",
       "       'distance_diff_last_event'],\n",
       "      dtype='object')"
      ]
     },
     "execution_count": 419,
     "metadata": {},
     "output_type": "execute_result"
    }
   ],
   "source": [
    "df_train.columns"
   ]
  },
  {
   "cell_type": "code",
   "execution_count": 420,
   "metadata": {},
   "outputs": [
    {
     "data": {
      "text/plain": [
       "(array(['Snapshot', 'Fan', 'Slapshot', 'Wristshot', 'Deflection',\n",
       "        'Wrap Around'], dtype=object),\n",
       " array(['On Net', 'Missed'], dtype=object))"
      ]
     },
     "execution_count": 420,
     "metadata": {},
     "output_type": "execute_result"
    }
   ],
   "source": [
    "df_train['detail_1'].unique(), df_train['detail_2'].unique()"
   ]
  },
  {
   "cell_type": "code",
   "execution_count": 421,
   "metadata": {},
   "outputs": [
    {
     "data": {
      "text/plain": [
       "(array(['Snapshot', 'Fan', 'Wristshot', 'Slapshot', 'Deflection',\n",
       "        'Wrap Around'], dtype=object),\n",
       " array(['Missed', 'On Net'], dtype=object))"
      ]
     },
     "execution_count": 421,
     "metadata": {},
     "output_type": "execute_result"
    }
   ],
   "source": [
    "df_test['event_type'].unique(), df_test['event_detail_1'].unique()"
   ]
  },
  {
   "cell_type": "code",
   "execution_count": 422,
   "metadata": {},
   "outputs": [
    {
     "data": {
      "text/html": [
       "<div>\n",
       "<style scoped>\n",
       "    .dataframe tbody tr th:only-of-type {\n",
       "        vertical-align: middle;\n",
       "    }\n",
       "\n",
       "    .dataframe tbody tr th {\n",
       "        vertical-align: top;\n",
       "    }\n",
       "\n",
       "    .dataframe thead th {\n",
       "        text-align: right;\n",
       "    }\n",
       "</style>\n",
       "<table border=\"1\" class=\"dataframe\">\n",
       "  <thead>\n",
       "    <tr style=\"text-align: right;\">\n",
       "      <th></th>\n",
       "      <th>index</th>\n",
       "      <th>game_date</th>\n",
       "      <th>season_year</th>\n",
       "      <th>team_name</th>\n",
       "      <th>opp_team_name</th>\n",
       "      <th>venue</th>\n",
       "      <th>period</th>\n",
       "      <th>clock_seconds</th>\n",
       "      <th>situation_type</th>\n",
       "      <th>goals_for</th>\n",
       "      <th>goals_against</th>\n",
       "      <th>player_name</th>\n",
       "      <th>event</th>\n",
       "      <th>event_successful</th>\n",
       "      <th>x_coord</th>\n",
       "      <th>y_coord</th>\n",
       "      <th>event_type</th>\n",
       "      <th>player_name_2</th>\n",
       "      <th>x_coord_2</th>\n",
       "      <th>y_coord_2</th>\n",
       "      <th>event_detail_1</th>\n",
       "      <th>event_detail_2</th>\n",
       "      <th>event_detail_3</th>\n",
       "      <th>frame_id_1</th>\n",
       "      <th>frame_id_2</th>\n",
       "      <th>home_team</th>\n",
       "      <th>away_team</th>\n",
       "      <th>is_shot</th>\n",
       "      <th>is_goal</th>\n",
       "      <th>event_id</th>\n",
       "      <th>team_id</th>\n",
       "      <th>player_id</th>\n",
       "      <th>detail_1_code</th>\n",
       "      <th>goal_diff</th>\n",
       "      <th>game_seconds_remaining</th>\n",
       "      <th>event_code</th>\n",
       "      <th>event_type_code</th>\n",
       "      <th>skaters_for</th>\n",
       "      <th>skaters_against</th>\n",
       "      <th>strength_state</th>\n",
       "      <th>distance_to_goal</th>\n",
       "      <th>angle_to_goal</th>\n",
       "      <th>prev_event</th>\n",
       "      <th>prev_event_code</th>\n",
       "      <th>prev_event_type</th>\n",
       "      <th>prev_event_type_code</th>\n",
       "      <th>prev_event_x_coord</th>\n",
       "      <th>prev_event_y_coord</th>\n",
       "      <th>prev_event_game_seconds_remaining</th>\n",
       "      <th>prev_event_distance_to_goal</th>\n",
       "      <th>prev_event_angle_to_goal</th>\n",
       "      <th>time_diff_last_event</th>\n",
       "      <th>angle_diff_last_event</th>\n",
       "      <th>distance_diff_last_event</th>\n",
       "    </tr>\n",
       "  </thead>\n",
       "  <tbody>\n",
       "    <tr>\n",
       "      <th>0</th>\n",
       "      <td>18</td>\n",
       "      <td>8/2/2022</td>\n",
       "      <td>2021</td>\n",
       "      <td>Olympic (Women) - Canada</td>\n",
       "      <td>Olympic (Women) - United States</td>\n",
       "      <td>away</td>\n",
       "      <td>1</td>\n",
       "      <td>1165</td>\n",
       "      <td>5 on 5</td>\n",
       "      <td>0</td>\n",
       "      <td>0</td>\n",
       "      <td>Sarah Fillier</td>\n",
       "      <td>Shot</td>\n",
       "      <td>0</td>\n",
       "      <td>148</td>\n",
       "      <td>4</td>\n",
       "      <td>Snapshot</td>\n",
       "      <td>None</td>\n",
       "      <td>None</td>\n",
       "      <td>None</td>\n",
       "      <td>Missed</td>\n",
       "      <td>1</td>\n",
       "      <td>0</td>\n",
       "      <td>NaN</td>\n",
       "      <td>None</td>\n",
       "      <td>Olympic (Women) - United States</td>\n",
       "      <td>Olympic (Women) - Canada</td>\n",
       "      <td>1</td>\n",
       "      <td>0</td>\n",
       "      <td>5</td>\n",
       "      <td>0</td>\n",
       "      <td>87</td>\n",
       "      <td>1</td>\n",
       "      <td>0</td>\n",
       "      <td>3565.0</td>\n",
       "      <td>5</td>\n",
       "      <td>21</td>\n",
       "      <td>5</td>\n",
       "      <td>5</td>\n",
       "      <td>0</td>\n",
       "      <td>56.975872</td>\n",
       "      <td>1.090909</td>\n",
       "      <td>Puck Recovery</td>\n",
       "      <td>4.0</td>\n",
       "      <td>None</td>\n",
       "      <td>-1.0</td>\n",
       "      <td>146.0</td>\n",
       "      <td>8.0</td>\n",
       "      <td>3565.0</td>\n",
       "      <td>55.912879</td>\n",
       "      <td>1.275362</td>\n",
       "      <td>0.0</td>\n",
       "      <td>-0.184453</td>\n",
       "      <td>1.062993</td>\n",
       "    </tr>\n",
       "    <tr>\n",
       "      <th>1</th>\n",
       "      <td>58</td>\n",
       "      <td>8/2/2022</td>\n",
       "      <td>2021</td>\n",
       "      <td>Olympic (Women) - United States</td>\n",
       "      <td>Olympic (Women) - Canada</td>\n",
       "      <td>home</td>\n",
       "      <td>1</td>\n",
       "      <td>1095</td>\n",
       "      <td>5 on 5</td>\n",
       "      <td>0</td>\n",
       "      <td>0</td>\n",
       "      <td>Abby Roque</td>\n",
       "      <td>Shot</td>\n",
       "      <td>0</td>\n",
       "      <td>23</td>\n",
       "      <td>57</td>\n",
       "      <td>Snapshot</td>\n",
       "      <td>None</td>\n",
       "      <td>None</td>\n",
       "      <td>None</td>\n",
       "      <td>On Net</td>\n",
       "      <td>0</td>\n",
       "      <td>0</td>\n",
       "      <td>NaN</td>\n",
       "      <td>None</td>\n",
       "      <td>Olympic (Women) - United States</td>\n",
       "      <td>Olympic (Women) - Canada</td>\n",
       "      <td>1</td>\n",
       "      <td>0</td>\n",
       "      <td>5</td>\n",
       "      <td>4</td>\n",
       "      <td>1</td>\n",
       "      <td>2</td>\n",
       "      <td>0</td>\n",
       "      <td>3495.0</td>\n",
       "      <td>5</td>\n",
       "      <td>21</td>\n",
       "      <td>5</td>\n",
       "      <td>5</td>\n",
       "      <td>0</td>\n",
       "      <td>167.628309</td>\n",
       "      <td>11.517241</td>\n",
       "      <td>Puck Recovery</td>\n",
       "      <td>4.0</td>\n",
       "      <td>None</td>\n",
       "      <td>-1.0</td>\n",
       "      <td>50.0</td>\n",
       "      <td>69.0</td>\n",
       "      <td>3499.0</td>\n",
       "      <td>142.485964</td>\n",
       "      <td>5.283019</td>\n",
       "      <td>-4.0</td>\n",
       "      <td>6.234223</td>\n",
       "      <td>25.142345</td>\n",
       "    </tr>\n",
       "    <tr>\n",
       "      <th>2</th>\n",
       "      <td>68</td>\n",
       "      <td>8/2/2022</td>\n",
       "      <td>2021</td>\n",
       "      <td>Olympic (Women) - United States</td>\n",
       "      <td>Olympic (Women) - Canada</td>\n",
       "      <td>home</td>\n",
       "      <td>1</td>\n",
       "      <td>1083</td>\n",
       "      <td>5 on 5</td>\n",
       "      <td>0</td>\n",
       "      <td>0</td>\n",
       "      <td>Kelly Pannek</td>\n",
       "      <td>Shot</td>\n",
       "      <td>0</td>\n",
       "      <td>37</td>\n",
       "      <td>32</td>\n",
       "      <td>Snapshot</td>\n",
       "      <td>None</td>\n",
       "      <td>None</td>\n",
       "      <td>None</td>\n",
       "      <td>On Net</td>\n",
       "      <td>0</td>\n",
       "      <td>0</td>\n",
       "      <td>NaN</td>\n",
       "      <td>None</td>\n",
       "      <td>Olympic (Women) - United States</td>\n",
       "      <td>Olympic (Women) - Canada</td>\n",
       "      <td>1</td>\n",
       "      <td>0</td>\n",
       "      <td>5</td>\n",
       "      <td>4</td>\n",
       "      <td>46</td>\n",
       "      <td>2</td>\n",
       "      <td>0</td>\n",
       "      <td>3483.0</td>\n",
       "      <td>5</td>\n",
       "      <td>21</td>\n",
       "      <td>5</td>\n",
       "      <td>5</td>\n",
       "      <td>0</td>\n",
       "      <td>153.359871</td>\n",
       "      <td>14.571429</td>\n",
       "      <td>Puck Recovery</td>\n",
       "      <td>4.0</td>\n",
       "      <td>None</td>\n",
       "      <td>-1.0</td>\n",
       "      <td>37.0</td>\n",
       "      <td>32.0</td>\n",
       "      <td>3483.0</td>\n",
       "      <td>153.359871</td>\n",
       "      <td>14.571429</td>\n",
       "      <td>0.0</td>\n",
       "      <td>0.000000</td>\n",
       "      <td>0.000000</td>\n",
       "    </tr>\n",
       "    <tr>\n",
       "      <th>3</th>\n",
       "      <td>82</td>\n",
       "      <td>8/2/2022</td>\n",
       "      <td>2021</td>\n",
       "      <td>Olympic (Women) - Canada</td>\n",
       "      <td>Olympic (Women) - United States</td>\n",
       "      <td>away</td>\n",
       "      <td>1</td>\n",
       "      <td>1061</td>\n",
       "      <td>5 on 5</td>\n",
       "      <td>0</td>\n",
       "      <td>0</td>\n",
       "      <td>Sarah Nurse</td>\n",
       "      <td>Shot</td>\n",
       "      <td>0</td>\n",
       "      <td>154</td>\n",
       "      <td>2</td>\n",
       "      <td>Snapshot</td>\n",
       "      <td>None</td>\n",
       "      <td>None</td>\n",
       "      <td>None</td>\n",
       "      <td>Missed</td>\n",
       "      <td>0</td>\n",
       "      <td>0</td>\n",
       "      <td>NaN</td>\n",
       "      <td>None</td>\n",
       "      <td>Olympic (Women) - United States</td>\n",
       "      <td>Olympic (Women) - Canada</td>\n",
       "      <td>1</td>\n",
       "      <td>0</td>\n",
       "      <td>5</td>\n",
       "      <td>0</td>\n",
       "      <td>89</td>\n",
       "      <td>1</td>\n",
       "      <td>0</td>\n",
       "      <td>3461.0</td>\n",
       "      <td>5</td>\n",
       "      <td>21</td>\n",
       "      <td>5</td>\n",
       "      <td>5</td>\n",
       "      <td>0</td>\n",
       "      <td>54.187176</td>\n",
       "      <td>0.888889</td>\n",
       "      <td>Puck Recovery</td>\n",
       "      <td>4.0</td>\n",
       "      <td>None</td>\n",
       "      <td>-1.0</td>\n",
       "      <td>151.0</td>\n",
       "      <td>5.0</td>\n",
       "      <td>3462.0</td>\n",
       "      <td>54.104066</td>\n",
       "      <td>1.040000</td>\n",
       "      <td>-1.0</td>\n",
       "      <td>-0.151111</td>\n",
       "      <td>0.083109</td>\n",
       "    </tr>\n",
       "    <tr>\n",
       "      <th>4</th>\n",
       "      <td>106</td>\n",
       "      <td>8/2/2022</td>\n",
       "      <td>2021</td>\n",
       "      <td>Olympic (Women) - Canada</td>\n",
       "      <td>Olympic (Women) - United States</td>\n",
       "      <td>away</td>\n",
       "      <td>1</td>\n",
       "      <td>1017</td>\n",
       "      <td>5 on 5</td>\n",
       "      <td>0</td>\n",
       "      <td>0</td>\n",
       "      <td>Natalie Spooner</td>\n",
       "      <td>Shot</td>\n",
       "      <td>0</td>\n",
       "      <td>158</td>\n",
       "      <td>50</td>\n",
       "      <td>Snapshot</td>\n",
       "      <td>None</td>\n",
       "      <td>None</td>\n",
       "      <td>None</td>\n",
       "      <td>Missed</td>\n",
       "      <td>0</td>\n",
       "      <td>0</td>\n",
       "      <td>NaN</td>\n",
       "      <td>None</td>\n",
       "      <td>Olympic (Women) - United States</td>\n",
       "      <td>Olympic (Women) - Canada</td>\n",
       "      <td>1</td>\n",
       "      <td>0</td>\n",
       "      <td>5</td>\n",
       "      <td>0</td>\n",
       "      <td>68</td>\n",
       "      <td>1</td>\n",
       "      <td>0</td>\n",
       "      <td>3417.0</td>\n",
       "      <td>5</td>\n",
       "      <td>21</td>\n",
       "      <td>5</td>\n",
       "      <td>5</td>\n",
       "      <td>0</td>\n",
       "      <td>32.867157</td>\n",
       "      <td>4.266667</td>\n",
       "      <td>Takeaway</td>\n",
       "      <td>6.0</td>\n",
       "      <td>None</td>\n",
       "      <td>-1.0</td>\n",
       "      <td>196.0</td>\n",
       "      <td>60.0</td>\n",
       "      <td>3421.0</td>\n",
       "      <td>18.500000</td>\n",
       "      <td>-0.342857</td>\n",
       "      <td>-4.0</td>\n",
       "      <td>4.609524</td>\n",
       "      <td>14.367157</td>\n",
       "    </tr>\n",
       "  </tbody>\n",
       "</table>\n",
       "</div>"
      ],
      "text/plain": [
       "   index game_date  season_year                        team_name  \\\n",
       "0     18  8/2/2022         2021         Olympic (Women) - Canada   \n",
       "1     58  8/2/2022         2021  Olympic (Women) - United States   \n",
       "2     68  8/2/2022         2021  Olympic (Women) - United States   \n",
       "3     82  8/2/2022         2021         Olympic (Women) - Canada   \n",
       "4    106  8/2/2022         2021         Olympic (Women) - Canada   \n",
       "\n",
       "                     opp_team_name venue  period  clock_seconds  \\\n",
       "0  Olympic (Women) - United States  away       1           1165   \n",
       "1         Olympic (Women) - Canada  home       1           1095   \n",
       "2         Olympic (Women) - Canada  home       1           1083   \n",
       "3  Olympic (Women) - United States  away       1           1061   \n",
       "4  Olympic (Women) - United States  away       1           1017   \n",
       "\n",
       "  situation_type  goals_for  goals_against      player_name event  \\\n",
       "0         5 on 5          0              0    Sarah Fillier  Shot   \n",
       "1         5 on 5          0              0       Abby Roque  Shot   \n",
       "2         5 on 5          0              0     Kelly Pannek  Shot   \n",
       "3         5 on 5          0              0      Sarah Nurse  Shot   \n",
       "4         5 on 5          0              0  Natalie Spooner  Shot   \n",
       "\n",
       "   event_successful  x_coord  y_coord event_type player_name_2 x_coord_2  \\\n",
       "0                 0      148        4   Snapshot          None      None   \n",
       "1                 0       23       57   Snapshot          None      None   \n",
       "2                 0       37       32   Snapshot          None      None   \n",
       "3                 0      154        2   Snapshot          None      None   \n",
       "4                 0      158       50   Snapshot          None      None   \n",
       "\n",
       "  y_coord_2 event_detail_1  event_detail_2  event_detail_3  frame_id_1  \\\n",
       "0      None         Missed               1               0         NaN   \n",
       "1      None         On Net               0               0         NaN   \n",
       "2      None         On Net               0               0         NaN   \n",
       "3      None         Missed               0               0         NaN   \n",
       "4      None         Missed               0               0         NaN   \n",
       "\n",
       "  frame_id_2                        home_team                 away_team  \\\n",
       "0       None  Olympic (Women) - United States  Olympic (Women) - Canada   \n",
       "1       None  Olympic (Women) - United States  Olympic (Women) - Canada   \n",
       "2       None  Olympic (Women) - United States  Olympic (Women) - Canada   \n",
       "3       None  Olympic (Women) - United States  Olympic (Women) - Canada   \n",
       "4       None  Olympic (Women) - United States  Olympic (Women) - Canada   \n",
       "\n",
       "   is_shot  is_goal  event_id  team_id  player_id  detail_1_code  goal_diff  \\\n",
       "0        1        0         5        0         87              1          0   \n",
       "1        1        0         5        4          1              2          0   \n",
       "2        1        0         5        4         46              2          0   \n",
       "3        1        0         5        0         89              1          0   \n",
       "4        1        0         5        0         68              1          0   \n",
       "\n",
       "   game_seconds_remaining  event_code  event_type_code  skaters_for  \\\n",
       "0                  3565.0           5               21            5   \n",
       "1                  3495.0           5               21            5   \n",
       "2                  3483.0           5               21            5   \n",
       "3                  3461.0           5               21            5   \n",
       "4                  3417.0           5               21            5   \n",
       "\n",
       "   skaters_against  strength_state  distance_to_goal  angle_to_goal  \\\n",
       "0                5               0         56.975872       1.090909   \n",
       "1                5               0        167.628309      11.517241   \n",
       "2                5               0        153.359871      14.571429   \n",
       "3                5               0         54.187176       0.888889   \n",
       "4                5               0         32.867157       4.266667   \n",
       "\n",
       "      prev_event  prev_event_code prev_event_type  prev_event_type_code  \\\n",
       "0  Puck Recovery              4.0            None                  -1.0   \n",
       "1  Puck Recovery              4.0            None                  -1.0   \n",
       "2  Puck Recovery              4.0            None                  -1.0   \n",
       "3  Puck Recovery              4.0            None                  -1.0   \n",
       "4       Takeaway              6.0            None                  -1.0   \n",
       "\n",
       "   prev_event_x_coord  prev_event_y_coord  prev_event_game_seconds_remaining  \\\n",
       "0               146.0                 8.0                             3565.0   \n",
       "1                50.0                69.0                             3499.0   \n",
       "2                37.0                32.0                             3483.0   \n",
       "3               151.0                 5.0                             3462.0   \n",
       "4               196.0                60.0                             3421.0   \n",
       "\n",
       "   prev_event_distance_to_goal  prev_event_angle_to_goal  \\\n",
       "0                    55.912879                  1.275362   \n",
       "1                   142.485964                  5.283019   \n",
       "2                   153.359871                 14.571429   \n",
       "3                    54.104066                  1.040000   \n",
       "4                    18.500000                 -0.342857   \n",
       "\n",
       "   time_diff_last_event  angle_diff_last_event  distance_diff_last_event  \n",
       "0                   0.0              -0.184453                  1.062993  \n",
       "1                  -4.0               6.234223                 25.142345  \n",
       "2                   0.0               0.000000                  0.000000  \n",
       "3                  -1.0              -0.151111                  0.083109  \n",
       "4                  -4.0               4.609524                 14.367157  "
      ]
     },
     "execution_count": 422,
     "metadata": {},
     "output_type": "execute_result"
    }
   ],
   "source": [
    "df_test.head()"
   ]
  },
  {
   "cell_type": "code",
   "execution_count": 423,
   "metadata": {},
   "outputs": [],
   "source": [
    "df_test_model = pd.read_sql(\n",
    "    '''\n",
    "    SELECT is_goal, event_type_code, x_coord, y_coord, distance_to_goal, angle_to_goal, prev_event_code, prev_event_x_coord, prev_event_y_coord, game_seconds_remaining, time_diff_last_event, angle_diff_last_event, distance_diff_last_event, goal_diff, strength_state\n",
    "    FROM play_by_play\n",
    "    WHERE is_shot = 1 AND event_detail_1 NOT IN ('Blocked')\n",
    "    '''\n",
    ",conn)"
   ]
  },
  {
   "cell_type": "code",
   "execution_count": 424,
   "metadata": {},
   "outputs": [
    {
     "name": "stdout",
     "output_type": "stream",
     "text": [
      "<class 'pandas.core.frame.DataFrame'>\n",
      "RangeIndex: 502 entries, 0 to 501\n",
      "Data columns (total 15 columns):\n",
      " #   Column                    Non-Null Count  Dtype  \n",
      "---  ------                    --------------  -----  \n",
      " 0   is_goal                   502 non-null    int64  \n",
      " 1   event_type_code           502 non-null    int64  \n",
      " 2   x_coord                   502 non-null    int64  \n",
      " 3   y_coord                   502 non-null    int64  \n",
      " 4   distance_to_goal          502 non-null    float64\n",
      " 5   angle_to_goal             502 non-null    float64\n",
      " 6   prev_event_code           502 non-null    float64\n",
      " 7   prev_event_x_coord        502 non-null    float64\n",
      " 8   prev_event_y_coord        502 non-null    float64\n",
      " 9   game_seconds_remaining    502 non-null    float64\n",
      " 10  time_diff_last_event      502 non-null    float64\n",
      " 11  angle_diff_last_event     502 non-null    float64\n",
      " 12  distance_diff_last_event  502 non-null    float64\n",
      " 13  goal_diff                 502 non-null    int64  \n",
      " 14  strength_state            502 non-null    int64  \n",
      "dtypes: float64(9), int64(6)\n",
      "memory usage: 59.0 KB\n"
     ]
    }
   ],
   "source": [
    "df_test_model.info()"
   ]
  },
  {
   "cell_type": "code",
   "execution_count": 425,
   "metadata": {},
   "outputs": [
    {
     "data": {
      "text/plain": [
       "(502, 15)"
      ]
     },
     "execution_count": 425,
     "metadata": {},
     "output_type": "execute_result"
    }
   ],
   "source": [
    "df_test_model.shape"
   ]
  },
  {
   "cell_type": "code",
   "execution_count": 426,
   "metadata": {},
   "outputs": [],
   "source": [
    "df_train_model = pd.read_sql(\n",
    "    '''\n",
    "    SELECT is_goal, detail_1_code event_type_code, x_coord, y_coord, distance_to_goal, angle_to_goal, prev_event_code, prev_event_x_coord, prev_event_y_coord, game_seconds_remaining, time_diff_last_event, angle_diff_last_event, distance_diff_last_event, goal_diff, strength_state\n",
    "    FROM pbp_training \n",
    "    WHERE (is_shot = 1 OR is_goal = 1) AND detail_2 NOT IN ('Blocked')\n",
    "    '''\n",
    ",conn)"
   ]
  },
  {
   "cell_type": "code",
   "execution_count": 427,
   "metadata": {},
   "outputs": [
    {
     "name": "stdout",
     "output_type": "stream",
     "text": [
      "<class 'pandas.core.frame.DataFrame'>\n",
      "RangeIndex: 2652 entries, 0 to 2651\n",
      "Data columns (total 15 columns):\n",
      " #   Column                    Non-Null Count  Dtype  \n",
      "---  ------                    --------------  -----  \n",
      " 0   is_goal                   2652 non-null   int64  \n",
      " 1   event_type_code           2652 non-null   int64  \n",
      " 2   x_coord                   2652 non-null   int64  \n",
      " 3   y_coord                   2652 non-null   int64  \n",
      " 4   distance_to_goal          2652 non-null   float64\n",
      " 5   angle_to_goal             2652 non-null   float64\n",
      " 6   prev_event_code           2652 non-null   float64\n",
      " 7   prev_event_x_coord        2652 non-null   float64\n",
      " 8   prev_event_y_coord        2652 non-null   float64\n",
      " 9   game_seconds_remaining    2652 non-null   int64  \n",
      " 10  time_diff_last_event      2652 non-null   float64\n",
      " 11  angle_diff_last_event     2652 non-null   float64\n",
      " 12  distance_diff_last_event  2652 non-null   float64\n",
      " 13  goal_diff                 2652 non-null   int64  \n",
      " 14  strength_state            2652 non-null   float64\n",
      "dtypes: float64(9), int64(6)\n",
      "memory usage: 310.9 KB\n"
     ]
    }
   ],
   "source": [
    "df_train_model.info()"
   ]
  },
  {
   "cell_type": "code",
   "execution_count": 428,
   "metadata": {},
   "outputs": [
    {
     "data": {
      "text/plain": [
       "((2652, 15), (502, 15))"
      ]
     },
     "execution_count": 428,
     "metadata": {},
     "output_type": "execute_result"
    }
   ],
   "source": [
    "df_train_model.shape, df_test_model.shape"
   ]
  },
  {
   "cell_type": "code",
   "execution_count": 429,
   "metadata": {},
   "outputs": [
    {
     "data": {
      "text/plain": [
       "array([21,  8, 26, 19,  5, 25])"
      ]
     },
     "execution_count": 429,
     "metadata": {},
     "output_type": "execute_result"
    }
   ],
   "source": [
    "df_test_model['event_type_code'].unique()"
   ]
  },
  {
   "cell_type": "code",
   "execution_count": 430,
   "metadata": {},
   "outputs": [],
   "source": [
    "features = ['event_type_code', 'x_coord', 'y_coord', 'distance_to_goal', 'angle_to_goal', 'prev_event_code', 'prev_event_x_coord', 'prev_event_y_coord', 'game_seconds_remaining', 'time_diff_last_event', 'angle_diff_last_event', 'distance_diff_last_event', 'goal_diff', 'strength_state']\n",
    "label = ['is_goal']\n",
    "X_train = df_train_model[features]\n",
    "y_train = df_train_model[label]\n",
    "X_test = df_test_model[features]\n",
    "y_test = df_test_model[label]\n",
    "\n",
    "categorical_features_indices = np.where(X_train.dtypes != np.float)[0]"
   ]
  },
  {
   "cell_type": "code",
   "execution_count": 431,
   "metadata": {},
   "outputs": [],
   "source": [
    "parameters = {\n",
    "    'nthread': [4],\n",
    "    'objective': ['binary:logistic'],\n",
    "    'max_depth': [3,4,5,6],\n",
    "    'learning_rate': [0.01],\n",
    "    'n_estimators': [100, 500, 1000],\n",
    "    'seed': [42]\n",
    "}"
   ]
  },
  {
   "cell_type": "code",
   "execution_count": null,
   "metadata": {},
   "outputs": [],
   "source": [
    "df_xg_model = pd.DataFrame()\n",
    "auc_roc = []\n",
    "kf = KFold(10, shuffle=True)\n",
    "vals_y_test = pd.DataFrame()\n",
    "vals_y_pred = np.ndarray(shape=(0,))\n",
    "\n",
    "for train_idx, text_idx in kf.split(df_test_model):\n",
    "    df_train_data = df_train_model.append(df_test_model.iloc[train_idx].copy(), ignore_index=True) \n",
    "    df_test_data = df_test_model.iloc[text_idx].copy()\n",
    "    X_train = df_train_data[features]\n",
    "    y_train = df_train_data[label]\n",
    "    X_test = df_test_data[features]\n",
    "    y_test = df_test_data[label]\n",
    "\n",
    "    classifier = XGBClassifier()\n",
    "    classifier = GridSearchCV(classifier, parameters, cv=5, scoring='roc_auc', verbose=2)\n",
    "    classifier.fit(X_train, y_train)\n",
    "    dfs_predictions = {}\n",
    "    y_pred = classifier.predict_proba(X_test)\n",
    "    dfs_predictions[label[0]] = pd.Series(y_pred[:, 1],index=df_test_data.index)\n",
    "    df_predictions = pd.concat(dfs_predictions, axis=1)\n",
    "    df_xg_model = df_xg_model.append(df_predictions)\n",
    "\n",
    "    vals_y_test = vals_y_test.append(y_test) \n",
    "    vals_y_pred = np.concatenate([vals_y_pred,y_pred[:, 1]], axis=0)\n",
    "    auc_roc.append(roc_auc_score(y_test, y_pred[:, 1]))"
   ]
  },
  {
   "cell_type": "code",
   "execution_count": 439,
   "metadata": {},
   "outputs": [
    {
     "data": {
      "text/plain": [
       "0.7325034029038112"
      ]
     },
     "execution_count": 439,
     "metadata": {},
     "output_type": "execute_result"
    }
   ],
   "source": [
    "new_auc_roc = roc_auc_score(vals_y_test, vals_y_pred)\n",
    "new_auc_roc"
   ]
  },
  {
   "cell_type": "code",
   "execution_count": 444,
   "metadata": {},
   "outputs": [],
   "source": [
    "df_test_model['expected_goals'] = df_xg_model['is_goal']"
   ]
  },
  {
   "cell_type": "code",
   "execution_count": 449,
   "metadata": {},
   "outputs": [
    {
     "data": {
      "text/plain": [
       "Index(['is_goal', 'event_type_code', 'x_coord', 'y_coord', 'distance_to_goal',\n",
       "       'angle_to_goal', 'prev_event_code', 'prev_event_x_coord',\n",
       "       'prev_event_y_coord', 'game_seconds_remaining', 'time_diff_last_event',\n",
       "       'angle_diff_last_event', 'distance_diff_last_event', 'goal_diff',\n",
       "       'strength_state', 'expected_goals'],\n",
       "      dtype='object')"
      ]
     },
     "execution_count": 449,
     "metadata": {},
     "output_type": "execute_result"
    }
   ],
   "source": [
    "df_test_model.columns"
   ]
  },
  {
   "cell_type": "code",
   "execution_count": 453,
   "metadata": {},
   "outputs": [
    {
     "data": {
      "text/plain": [
       "(38, 30.986307)"
      ]
     },
     "execution_count": 453,
     "metadata": {},
     "output_type": "execute_result"
    }
   ],
   "source": [
    "df_test_model['is_goal'].sum(), df_test_model['expected_goals'].sum()"
   ]
  },
  {
   "cell_type": "code",
   "execution_count": 441,
   "metadata": {},
   "outputs": [
    {
     "data": {
      "text/html": [
       "<div>\n",
       "<style scoped>\n",
       "    .dataframe tbody tr th:only-of-type {\n",
       "        vertical-align: middle;\n",
       "    }\n",
       "\n",
       "    .dataframe tbody tr th {\n",
       "        vertical-align: top;\n",
       "    }\n",
       "\n",
       "    .dataframe thead th {\n",
       "        text-align: right;\n",
       "    }\n",
       "</style>\n",
       "<table border=\"1\" class=\"dataframe\">\n",
       "  <thead>\n",
       "    <tr style=\"text-align: right;\">\n",
       "      <th></th>\n",
       "      <th>is_goal</th>\n",
       "    </tr>\n",
       "  </thead>\n",
       "  <tbody>\n",
       "    <tr>\n",
       "      <th>8</th>\n",
       "      <td>0.024361</td>\n",
       "    </tr>\n",
       "    <tr>\n",
       "      <th>32</th>\n",
       "      <td>0.042356</td>\n",
       "    </tr>\n",
       "    <tr>\n",
       "      <th>47</th>\n",
       "      <td>0.035301</td>\n",
       "    </tr>\n",
       "    <tr>\n",
       "      <th>52</th>\n",
       "      <td>0.092760</td>\n",
       "    </tr>\n",
       "    <tr>\n",
       "      <th>57</th>\n",
       "      <td>0.049870</td>\n",
       "    </tr>\n",
       "    <tr>\n",
       "      <th>...</th>\n",
       "      <td>...</td>\n",
       "    </tr>\n",
       "    <tr>\n",
       "      <th>422</th>\n",
       "      <td>0.043602</td>\n",
       "    </tr>\n",
       "    <tr>\n",
       "      <th>447</th>\n",
       "      <td>0.023864</td>\n",
       "    </tr>\n",
       "    <tr>\n",
       "      <th>490</th>\n",
       "      <td>0.032824</td>\n",
       "    </tr>\n",
       "    <tr>\n",
       "      <th>493</th>\n",
       "      <td>0.053627</td>\n",
       "    </tr>\n",
       "    <tr>\n",
       "      <th>499</th>\n",
       "      <td>0.097964</td>\n",
       "    </tr>\n",
       "  </tbody>\n",
       "</table>\n",
       "<p>502 rows × 1 columns</p>\n",
       "</div>"
      ],
      "text/plain": [
       "      is_goal\n",
       "8    0.024361\n",
       "32   0.042356\n",
       "47   0.035301\n",
       "52   0.092760\n",
       "57   0.049870\n",
       "..        ...\n",
       "422  0.043602\n",
       "447  0.023864\n",
       "490  0.032824\n",
       "493  0.053627\n",
       "499  0.097964\n",
       "\n",
       "[502 rows x 1 columns]"
      ]
     },
     "execution_count": 441,
     "metadata": {},
     "output_type": "execute_result"
    }
   ],
   "source": [
    "df_xg_model"
   ]
  },
  {
   "cell_type": "code",
   "execution_count": null,
   "metadata": {},
   "outputs": [],
   "source": []
  }
 ],
 "metadata": {
  "interpreter": {
   "hash": "aee8b7b246df8f9039afb4144a1f6fd8d2ca17a180786b69acc140d282b71a49"
  },
  "kernelspec": {
   "display_name": "Python 3.9.10 64-bit",
   "language": "python",
   "name": "python3"
  },
  "language_info": {
   "codemirror_mode": {
    "name": "ipython",
    "version": 3
   },
   "file_extension": ".py",
   "mimetype": "text/x-python",
   "name": "python",
   "nbconvert_exporter": "python",
   "pygments_lexer": "ipython3",
   "version": "3.9.10"
  },
  "orig_nbformat": 4
 },
 "nbformat": 4,
 "nbformat_minor": 2
}
