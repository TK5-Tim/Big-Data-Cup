{
 "cells": [
  {
   "cell_type": "code",
   "execution_count": 131,
   "metadata": {},
   "outputs": [],
   "source": [
    "import pandas as pd\n",
    "import sqlite3\n",
    "import os\n",
    "import pandas as pd\n",
    "import numpy as np\n",
    "from tqdm import tqdm\n",
    "import re\n",
    "import csv\n",
    "\n",
    "pd.set_option(\"display.max_columns\", None)"
   ]
  },
  {
   "cell_type": "code",
   "execution_count": 132,
   "metadata": {},
   "outputs": [],
   "source": [
    "# Data Directory\n",
    "data_dir = \"../../Data/Big-Data-Cup-2021\"\n",
    "bucketless_data_dir = '../../Data/bdc/data'\n",
    "tracking_data_dir = \"{}/TrackingData\".format(data_dir)\n",
    "db_path = '/Users/keltim01/Documents/databases/'\n"
   ]
  },
  {
   "cell_type": "markdown",
   "metadata": {},
   "source": [
    "### Importing and cleaning the data"
   ]
  },
  {
   "cell_type": "markdown",
   "metadata": {},
   "source": [
    "Thanks to [The Bucketless](https://twitter.com/the_bucketless) for the great [Tutorial](https://github.com/the-bucketless/bdc/blob/main/bdc_merge_example.ipynb) and the [Cleaned Data](https://github.com/the-bucketless/bdc/tree/main/data) as well as the [hockey_rink](https://github.com/the-bucketless/hockey_rink) package"
   ]
  },
  {
   "cell_type": "markdown",
   "metadata": {},
   "source": [
    "### Play by Play Data "
   ]
  },
  {
   "cell_type": "code",
   "execution_count": 133,
   "metadata": {},
   "outputs": [],
   "source": [
    "# important numbers for the hockey rink \n",
    "ICE_LENGTH = 200\n",
    "ICE_WIDTH = 85\n",
    "GOAL_X = ICE_LENGTH - 10\n",
    "GOAL_Y = ICE_WIDTH / 2\n",
    "D_ZONE = 75\n",
    "O_ZONE = ICE_LENGTH - 75"
   ]
  },
  {
   "cell_type": "code",
   "execution_count": 134,
   "metadata": {},
   "outputs": [],
   "source": [
    "# create and connect to database \n",
    "conn = sqlite3.connect(db_path + 'bdc_2022.db')\n",
    "cursor = conn.cursor()"
   ]
  },
  {
   "cell_type": "code",
   "execution_count": 135,
   "metadata": {},
   "outputs": [],
   "source": [
    "df_pp_info = pd.read_csv(\"{}/pp_info.csv\".format(bucketless_data_dir))\n"
   ]
  },
  {
   "cell_type": "code",
   "execution_count": 136,
   "metadata": {},
   "outputs": [],
   "source": [
    "df_pbp = pd.read_csv(\"{}/pxp_womens_oly_2022_v2.csv\".format(bucketless_data_dir))\n"
   ]
  },
  {
   "cell_type": "code",
   "execution_count": 137,
   "metadata": {},
   "outputs": [],
   "source": [
    "df_pbp['home_team'] = df_pbp.apply(lambda x: x['team_name'] if x['venue'] == 'home' else x['opp_team_name'], axis=1)\n",
    "df_pbp['away_team'] = df_pbp.apply(lambda x: x['team_name'] if x['venue'] == 'away' else x['opp_team_name'], axis=1)\n",
    "df_pbp['game_id'] = df_pbp.loc[:, ['game_date', 'home_team', 'away_team']].sum(axis=1).astype('category').cat.codes\n",
    "df_pbp['is_shot'] = 0\n",
    "df_pbp['is_goal'] = 0\n",
    "df_pbp['event_id'] = df_pbp['event'].astype('category').cat.codes\n",
    "df_pbp['team_id'] = df_pbp['team_name'].astype('category').cat.codes\n",
    "df_pbp['player_id'] = df_pbp['player_name'].astype('category').cat.codes\n",
    "df_pbp['event_successful'] = df_pbp.apply(lambda x: True if x['event_successful']=='t' else False, axis=1)\n",
    "df_pbp['event_detail_2'] = df_pbp.apply(lambda x: True if x['event_detail_2']=='t' else False, axis=1)\n",
    "df_pbp['event_detail_3'] = df_pbp.apply(lambda x: True if x['event_detail_3']=='t' else False, axis=1)\n",
    "df_pbp[f'detail_1_code'] = df_pbp[f'event_detail_1'].astype('category').cat.codes\n",
    "df_pbp.loc[df_pbp['event']=='Shot', 'is_shot'] = 1\n",
    "df_pbp.loc[(df_pbp['event']=='Shot') & (df_pbp['event_successful']), 'is_goal'] = 1\n",
    "df_pbp['goal_diff'] = df_pbp['goals_for'].sub(df_pbp['goals_against'])\n",
    "df_pbp.loc[df_pbp['period'] == 1,'game_seconds_remaining'] = 2400 + df_pbp.loc[df_pbp['period'] == 1,'clock_seconds'] \n",
    "df_pbp.loc[df_pbp['period'] == 2,'game_seconds_remaining'] = 1200 + df_pbp.loc[df_pbp['period'] == 2,'clock_seconds']\n",
    "df_pbp.loc[df_pbp['period'] == 3,'game_seconds_remaining'] = df_pbp.loc[df_pbp['period'] == 3,'clock_seconds']\n",
    "\n",
    "df_pbp['event_code'] = df_pbp['event'].astype('category').cat.codes\n",
    "df_pbp['event_type_code'] = df_pbp['event_type'].astype('category').cat.codes\n",
    "# mirror home team in even-numbered periods / away team in odd-numbered periods and the opposite for Canada - Usa Game (Thanks to the Bucketless for the code)\n",
    "wrong_way_teams = [\"Olympic (Women) - Canada\", \"Olympic (Women) - United States\"]\n",
    "mirror_indices = (\n",
    "    (\n",
    "        # need to mirror the home team in even-numbered periods\n",
    "        ((df_pbp.venue == \"home\") & ~(df_pbp.period % 2))\n",
    "        # and the away team in odd-numbered\n",
    "        | ((df_pbp.venue == \"away\") & (df_pbp.period % 2))\n",
    "    )\n",
    "    # flipping things in the Canada-USA game\n",
    "    ^ (df_pbp.team_name.isin(wrong_way_teams) & df_pbp.opp_team_name.isin(wrong_way_teams))\n",
    ")\n",
    "\n",
    "# a rink is 200 ft long\n",
    "coord_columns = [\"x_coord\", \"x_coord_2\"]\n",
    "df_pbp.loc[mirror_indices, coord_columns] = 200 - df_pbp.loc[mirror_indices, coord_columns]\n",
    "df_pbp[['skaters_for','skaters_against']] = df_pbp['situation_type'].str.extract(r'(\\d) on (\\d)')\n",
    "df_pbp = df_pbp.astype({'skaters_for': 'int64', 'skaters_against': 'int64'})\n",
    "df_pbp['strength_state'] = df_pbp['skaters_for'].sub(df_pbp['skaters_against'])\n",
    "\n",
    "# calculating angles and distances to the goal\n",
    "diff_x1 = GOAL_X - df_pbp['x_coord']\n",
    "diff_x1 = diff_x1.astype(float)\n",
    "diff_y1 = abs(GOAL_Y - df_pbp['y_coord'])\n",
    "df_pbp['distance_to_goal'] = np.sqrt(diff_x1 ** 2 + diff_y1 ** 2)\n",
    "df_pbp['angle_to_goal'] = np.divide(diff_x1, diff_y1,out=np.zeros_like(diff_x1),where=(diff_y1 != 0))\n",
    "\n",
    "# getting the information about the previous event\n",
    "df_pbp[['prev_event','prev_event_code','prev_event_type','prev_event_type_code','prev_event_x_coord','prev_event_y_coord','prev_event_game_seconds_remaining','prev_event_distance_to_goal','prev_event_angle_to_goal']] = df_pbp[['event','event_code','event_type','event_type_code','x_coord', 'y_coord', 'game_seconds_remaining', 'distance_to_goal', 'angle_to_goal']].shift(1)\n",
    "df_pbp['time_diff_last_event'] = df_pbp['game_seconds_remaining'] - df_pbp['prev_event_game_seconds_remaining']\n",
    "df_pbp['angle_diff_last_event'] = df_pbp['angle_to_goal'] - df_pbp['prev_event_angle_to_goal']\n",
    "df_pbp['distance_diff_last_event'] = df_pbp['distance_to_goal'] - df_pbp['prev_event_distance_to_goal']\n",
    "# geting the information about the second previous event\n",
    "df_pbp[['second_prev_event','second_prev_event_code','second_prev_event_type','second_prev_event_type_code','second_prev_event_x_coord','second_prev_event_y_coord','second_prev_event_game_seconds_remaining','second_prev_event_distance_to_goal','second_prev_event_angle_to_goal']] = df_pbp[['event','event_code','event_type','event_type_code','x_coord', 'y_coord', 'game_seconds_remaining', 'distance_to_goal', 'angle_to_goal']].shift(2)\n",
    "df_pbp['prev_time_diff_last_event'] = df_pbp['prev_event_game_seconds_remaining'] - df_pbp['second_prev_event_game_seconds_remaining']\n",
    "df_pbp['prev_angle_diff_last_event'] = df_pbp['prev_event_angle_to_goal'] - df_pbp['second_prev_event_angle_to_goal']\n",
    "df_pbp['prev_distance_diff_last_event'] = df_pbp['prev_event_distance_to_goal'] - df_pbp['second_prev_event_distance_to_goal']"
   ]
  },
  {
   "cell_type": "code",
   "execution_count": 138,
   "metadata": {},
   "outputs": [
    {
     "name": "stdout",
     "output_type": "stream",
     "text": [
      "<class 'pandas.core.frame.DataFrame'>\n",
      "RangeIndex: 10609 entries, 0 to 10608\n",
      "Data columns (total 66 columns):\n",
      " #   Column                                    Non-Null Count  Dtype  \n",
      "---  ------                                    --------------  -----  \n",
      " 0   game_date                                 10609 non-null  object \n",
      " 1   season_year                               10609 non-null  int64  \n",
      " 2   team_name                                 10609 non-null  object \n",
      " 3   opp_team_name                             10609 non-null  object \n",
      " 4   venue                                     10609 non-null  object \n",
      " 5   period                                    10609 non-null  int64  \n",
      " 6   clock_seconds                             10609 non-null  int64  \n",
      " 7   situation_type                            10609 non-null  object \n",
      " 8   goals_for                                 10609 non-null  int64  \n",
      " 9   goals_against                             10609 non-null  int64  \n",
      " 10  player_name                               10609 non-null  object \n",
      " 11  event                                     10609 non-null  object \n",
      " 12  event_successful                          10609 non-null  bool   \n",
      " 13  x_coord                                   10609 non-null  int64  \n",
      " 14  y_coord                                   10609 non-null  int64  \n",
      " 15  event_type                                6221 non-null   object \n",
      " 16  player_name_2                             5512 non-null   object \n",
      " 17  x_coord_2                                 4392 non-null   float64\n",
      " 18  y_coord_2                                 4392 non-null   float64\n",
      " 19  event_detail_1                            709 non-null    object \n",
      " 20  event_detail_2                            10609 non-null  bool   \n",
      " 21  event_detail_3                            10609 non-null  bool   \n",
      " 22  frame_id_1                                1246 non-null   float64\n",
      " 23  frame_id_2                                476 non-null    float64\n",
      " 24  home_team                                 10609 non-null  object \n",
      " 25  away_team                                 10609 non-null  object \n",
      " 26  game_id                                   10609 non-null  int8   \n",
      " 27  is_shot                                   10609 non-null  int64  \n",
      " 28  is_goal                                   10609 non-null  int64  \n",
      " 29  event_id                                  10609 non-null  int8   \n",
      " 30  team_id                                   10609 non-null  int8   \n",
      " 31  player_id                                 10609 non-null  int8   \n",
      " 32  detail_1_code                             10609 non-null  int8   \n",
      " 33  goal_diff                                 10609 non-null  int64  \n",
      " 34  game_seconds_remaining                    10609 non-null  float64\n",
      " 35  event_code                                10609 non-null  int8   \n",
      " 36  event_type_code                           10609 non-null  int8   \n",
      " 37  skaters_for                               10609 non-null  int64  \n",
      " 38  skaters_against                           10609 non-null  int64  \n",
      " 39  strength_state                            10609 non-null  int64  \n",
      " 40  distance_to_goal                          10609 non-null  float64\n",
      " 41  angle_to_goal                             10609 non-null  float64\n",
      " 42  prev_event                                10608 non-null  object \n",
      " 43  prev_event_code                           10608 non-null  float64\n",
      " 44  prev_event_type                           6220 non-null   object \n",
      " 45  prev_event_type_code                      10608 non-null  float64\n",
      " 46  prev_event_x_coord                        10608 non-null  float64\n",
      " 47  prev_event_y_coord                        10608 non-null  float64\n",
      " 48  prev_event_game_seconds_remaining         10608 non-null  float64\n",
      " 49  prev_event_distance_to_goal               10608 non-null  float64\n",
      " 50  prev_event_angle_to_goal                  10608 non-null  float64\n",
      " 51  time_diff_last_event                      10608 non-null  float64\n",
      " 52  angle_diff_last_event                     10608 non-null  float64\n",
      " 53  distance_diff_last_event                  10608 non-null  float64\n",
      " 54  second_prev_event                         10607 non-null  object \n",
      " 55  second_prev_event_code                    10607 non-null  float64\n",
      " 56  second_prev_event_type                    6219 non-null   object \n",
      " 57  second_prev_event_type_code               10607 non-null  float64\n",
      " 58  second_prev_event_x_coord                 10607 non-null  float64\n",
      " 59  second_prev_event_y_coord                 10607 non-null  float64\n",
      " 60  second_prev_event_game_seconds_remaining  10607 non-null  float64\n",
      " 61  second_prev_event_distance_to_goal        10607 non-null  float64\n",
      " 62  second_prev_event_angle_to_goal           10607 non-null  float64\n",
      " 63  prev_time_diff_last_event                 10607 non-null  float64\n",
      " 64  prev_angle_diff_last_event                10607 non-null  float64\n",
      " 65  prev_distance_diff_last_event             10607 non-null  float64\n",
      "dtypes: bool(3), float64(27), int64(13), int8(7), object(16)\n",
      "memory usage: 4.6+ MB\n"
     ]
    }
   ],
   "source": [
    "df_pbp.info()"
   ]
  },
  {
   "cell_type": "code",
   "execution_count": 139,
   "metadata": {},
   "outputs": [
    {
     "data": {
      "text/plain": [
       "10609"
      ]
     },
     "execution_count": 139,
     "metadata": {},
     "output_type": "execute_result"
    }
   ],
   "source": [
    "df_pbp.to_sql('play_by_play', conn, if_exists='replace')"
   ]
  },
  {
   "cell_type": "markdown",
   "metadata": {},
   "source": [
    "### Powerplay Info "
   ]
  },
  {
   "cell_type": "code",
   "execution_count": 140,
   "metadata": {},
   "outputs": [
    {
     "data": {
      "text/plain": [
       "Index(['game_name', 'penalty_number', 'start_video_clock_seconds',\n",
       "       'end_video_clock_seconds', 'start_period', 'end_period',\n",
       "       'start_game_clock_seconds', 'end_game_clock_seconds'],\n",
       "      dtype='object')"
      ]
     },
     "execution_count": 140,
     "metadata": {},
     "output_type": "execute_result"
    }
   ],
   "source": [
    "df_pp_info.columns"
   ]
  },
  {
   "cell_type": "code",
   "execution_count": 141,
   "metadata": {},
   "outputs": [
    {
     "data": {
      "text/html": [
       "<div>\n",
       "<style scoped>\n",
       "    .dataframe tbody tr th:only-of-type {\n",
       "        vertical-align: middle;\n",
       "    }\n",
       "\n",
       "    .dataframe tbody tr th {\n",
       "        vertical-align: top;\n",
       "    }\n",
       "\n",
       "    .dataframe thead th {\n",
       "        text-align: right;\n",
       "    }\n",
       "</style>\n",
       "<table border=\"1\" class=\"dataframe\">\n",
       "  <thead>\n",
       "    <tr style=\"text-align: right;\">\n",
       "      <th></th>\n",
       "      <th>game_name</th>\n",
       "      <th>penalty_number</th>\n",
       "      <th>start_video_clock_seconds</th>\n",
       "      <th>end_video_clock_seconds</th>\n",
       "      <th>start_period</th>\n",
       "      <th>end_period</th>\n",
       "      <th>start_game_clock_seconds</th>\n",
       "      <th>end_game_clock_seconds</th>\n",
       "    </tr>\n",
       "  </thead>\n",
       "  <tbody>\n",
       "    <tr>\n",
       "      <th>0</th>\n",
       "      <td>2022-02-08 Canada at USA</td>\n",
       "      <td>1</td>\n",
       "      <td>1278</td>\n",
       "      <td>1314</td>\n",
       "      <td>1</td>\n",
       "      <td>1</td>\n",
       "      <td>386</td>\n",
       "      <td>350</td>\n",
       "    </tr>\n",
       "    <tr>\n",
       "      <th>1</th>\n",
       "      <td>2022-02-08 Canada at USA</td>\n",
       "      <td>2</td>\n",
       "      <td>1624</td>\n",
       "      <td>1744</td>\n",
       "      <td>1</td>\n",
       "      <td>1</td>\n",
       "      <td>216</td>\n",
       "      <td>96</td>\n",
       "    </tr>\n",
       "    <tr>\n",
       "      <th>2</th>\n",
       "      <td>2022-02-08 Canada at USA</td>\n",
       "      <td>3</td>\n",
       "      <td>409</td>\n",
       "      <td>562</td>\n",
       "      <td>2</td>\n",
       "      <td>2</td>\n",
       "      <td>991</td>\n",
       "      <td>871</td>\n",
       "    </tr>\n",
       "    <tr>\n",
       "      <th>3</th>\n",
       "      <td>2022-02-08 Canada at USA</td>\n",
       "      <td>4</td>\n",
       "      <td>898</td>\n",
       "      <td>898</td>\n",
       "      <td>2</td>\n",
       "      <td>2</td>\n",
       "      <td>613</td>\n",
       "      <td>613</td>\n",
       "    </tr>\n",
       "    <tr>\n",
       "      <th>4</th>\n",
       "      <td>2022-02-08 Canada at USA</td>\n",
       "      <td>5</td>\n",
       "      <td>1690</td>\n",
       "      <td>1927</td>\n",
       "      <td>2</td>\n",
       "      <td>2</td>\n",
       "      <td>272</td>\n",
       "      <td>152</td>\n",
       "    </tr>\n",
       "  </tbody>\n",
       "</table>\n",
       "</div>"
      ],
      "text/plain": [
       "                  game_name  penalty_number  start_video_clock_seconds  \\\n",
       "0  2022-02-08 Canada at USA               1                       1278   \n",
       "1  2022-02-08 Canada at USA               2                       1624   \n",
       "2  2022-02-08 Canada at USA               3                        409   \n",
       "3  2022-02-08 Canada at USA               4                        898   \n",
       "4  2022-02-08 Canada at USA               5                       1690   \n",
       "\n",
       "   end_video_clock_seconds  start_period  end_period  \\\n",
       "0                     1314             1           1   \n",
       "1                     1744             1           1   \n",
       "2                      562             2           2   \n",
       "3                      898             2           2   \n",
       "4                     1927             2           2   \n",
       "\n",
       "   start_game_clock_seconds  end_game_clock_seconds  \n",
       "0                       386                     350  \n",
       "1                       216                      96  \n",
       "2                       991                     871  \n",
       "3                       613                     613  \n",
       "4                       272                     152  "
      ]
     },
     "execution_count": 141,
     "metadata": {},
     "output_type": "execute_result"
    }
   ],
   "source": [
    "df_pp_info.head()"
   ]
  },
  {
   "cell_type": "code",
   "execution_count": 142,
   "metadata": {},
   "outputs": [],
   "source": [
    "df_pp_info.loc[df_pp_info['start_period'] == 1,'start_game_seconds_remaining'] = 2400 + df_pp_info.loc[df_pp_info['start_period'] == 1,'start_game_clock_seconds'] \n",
    "df_pp_info.loc[df_pp_info['start_period'] == 2,'start_game_seconds_remaining'] = 1200 + df_pp_info.loc[df_pp_info['start_period'] == 2,'start_game_clock_seconds']\n",
    "df_pp_info.loc[df_pp_info['start_period'] == 3,'start_game_seconds_remaining'] = df_pp_info.loc[df_pp_info['start_period'] == 3,'end_game_clock_seconds']\n",
    "df_pp_info.loc[df_pp_info['end_period'] == 1,'end_game_seconds_remaining'] = 2400 + df_pp_info.loc[df_pp_info['end_period'] == 1,'end_game_clock_seconds'] \n",
    "df_pp_info.loc[df_pp_info['end_period'] == 2,'end_game_seconds_remaining'] = 1200 + df_pp_info.loc[df_pp_info['end_period'] == 2,'end_game_clock_seconds']\n",
    "df_pp_info.loc[df_pp_info['end_period'] == 3,'end_game_seconds_remaining'] = df_pp_info.loc[df_pp_info['end_period'] == 3,'end_game_clock_seconds']"
   ]
  },
  {
   "cell_type": "code",
   "execution_count": 143,
   "metadata": {},
   "outputs": [
    {
     "data": {
      "text/plain": [
       "37"
      ]
     },
     "execution_count": 143,
     "metadata": {},
     "output_type": "execute_result"
    }
   ],
   "source": [
    "df_pp_info.to_sql('powerplay_info', conn, if_exists='replace')"
   ]
  },
  {
   "cell_type": "markdown",
   "metadata": {},
   "source": [
    "### tracking data "
   ]
  },
  {
   "cell_type": "code",
   "execution_count": 144,
   "metadata": {},
   "outputs": [
    {
     "data": {
      "text/plain": [
       "['2022-02-08 ROC at Finland',\n",
       " '2022-02-14 USA at Finland',\n",
       " '2022-02-14 Switzerland at Canada',\n",
       " '2022-02-08 Canada at USA',\n",
       " '2022-02-16 Switzerland at Finland',\n",
       " '2022-02-12 Switzerland at ROC']"
      ]
     },
     "execution_count": 144,
     "metadata": {},
     "output_type": "execute_result"
    }
   ],
   "source": [
    "bucketless_games = [x for x in os.listdir('{}'.format(bucketless_data_dir)) if x.startswith('2022')]\n",
    "bucketless_games"
   ]
  },
  {
   "cell_type": "code",
   "execution_count": 145,
   "metadata": {},
   "outputs": [
    {
     "data": {
      "text/plain": [
       "['2022-02-08 ROC at Finland',\n",
       " '2022-02-14 Switzerland at Canada',\n",
       " '2022-02-08 Canada at USA',\n",
       " '2022-02-14 Finland at USA',\n",
       " '2022-02-16 Switzerland at Finland',\n",
       " '2022-02-12 Switzerland at ROC']"
      ]
     },
     "execution_count": 145,
     "metadata": {},
     "output_type": "execute_result"
    }
   ],
   "source": [
    "tracking_games = [x for x in os.listdir('{}'.format(tracking_data_dir)) if bool(re.search('\\d{4}', x))]\n",
    "tracking_games"
   ]
  },
  {
   "cell_type": "code",
   "execution_count": 146,
   "metadata": {},
   "outputs": [
    {
     "data": {
      "text/plain": [
       "game_id  home_team                                       away_team                                       game_date\n",
       "5        Olympic (Women) - United States                 Olympic (Women) - Canada                        8/2/2022     1826\n",
       "2        Olympic (Women) - Finland                       Olympic (Women) - United States                 14/2/2022    1810\n",
       "1        Olympic (Women) - Canada                        Olympic (Women) - Switzerland                   14/2/2022    1765\n",
       "0        Olympic (Women) - Olympic Athletes from Russia  Olympic (Women) - Switzerland                   12/2/2022    1748\n",
       "4        Olympic (Women) - Finland                       Olympic (Women) - Olympic Athletes from Russia  8/2/2022     1739\n",
       "3        Olympic (Women) - Finland                       Olympic (Women) - Switzerland                   16/2/2022    1721\n",
       "dtype: int64"
      ]
     },
     "execution_count": 146,
     "metadata": {},
     "output_type": "execute_result"
    }
   ],
   "source": [
    "df_pbp[['game_id', 'home_team', 'away_team','game_date']].value_counts()"
   ]
  },
  {
   "cell_type": "code",
   "execution_count": 147,
   "metadata": {},
   "outputs": [],
   "source": [
    "game_ids = {\n",
    "'2022-02-08 ROC at Finland': 4,\n",
    "'2022-02-14 Switzerland at Canada': 1,\n",
    "'2022-02-08 Canada at USA': 5,\n",
    "'2022-02-16 Switzerland at Finland':3,\n",
    "'2022-02-12 Switzerland at ROC': 0,\n",
    "'2022-02-14 USA at Finland': 2\n",
    "}"
   ]
  },
  {
   "cell_type": "code",
   "execution_count": 148,
   "metadata": {},
   "outputs": [],
   "source": [
    "for game in bucketless_games:\n",
    "        files = [x for x in os.listdir('{}/{}'.format(bucketless_data_dir, game)) if not x.endswith('roster.csv')]\n",
    "        game_date, away_team, _, home_team = game.split(' ')\n",
    "        df_roster = pd.read_csv('{}/{}/{} roster.csv'.format(bucketless_data_dir, game, game))\n",
    "        df_roster = df_roster.rename(columns={'jn': 'jersey_number', 'team':'venue'})\n",
    "        for file in files:\n",
    "                df_tracking = pd.read_csv('{}/{}/{}'.format(bucketless_data_dir, game, file))\n",
    "                df_tracking.loc[df_tracking['period'] == 1,'game_seconds'] = 2400 + df_tracking.loc[df_tracking['period'] == 1,'game_seconds'] \n",
    "                df_tracking.loc[df_tracking['period'] == 2,'game_seconds'] = 1200 + df_tracking.loc[df_tracking['period'] == 2,'game_seconds']\n",
    "                df_tracking['venue'] = df_tracking['team_name'].map({home_team: 'home', away_team: 'away'})\n",
    "                df_tracking = df_tracking.merge(df_roster, on=['venue','jersey_number'],how=\"left\")\n",
    "                df_tracking = df_tracking.rename(columns={'x_ft': \"x_coord\", 'y_ft': \"y_coord\"})\n",
    "                df_tracking['game_id'] = game_ids[game]\n",
    "                df_tracking.to_sql('tracking', conn, if_exists='append')\n"
   ]
  },
  {
   "cell_type": "markdown",
   "metadata": {},
   "source": [
    "### old Event data as training data"
   ]
  },
  {
   "cell_type": "code",
   "execution_count": 149,
   "metadata": {},
   "outputs": [
    {
     "name": "stderr",
     "output_type": "stream",
     "text": [
      "<ipython-input-149-c1d8cb5a3f18>:3: FutureWarning: The frame.append method is deprecated and will be removed from pandas in a future version. Use pandas.concat instead.\n",
      "  df_pbp_2021_womens = df_pbp_2021_womens.append(df_pbp_2021_nwhl, ignore_index=True)\n"
     ]
    }
   ],
   "source": [
    "df_pbp_2021_womens = pd.read_csv(\"{}/hackathon_womens.csv\".format(data_dir))\n",
    "df_pbp_2021_nwhl = pd.read_csv(\"{}/hackathon_nwhl.csv\".format(data_dir))\n",
    "df_pbp_2021_womens = df_pbp_2021_womens.append(df_pbp_2021_nwhl, ignore_index=True)\n"
   ]
  },
  {
   "cell_type": "code",
   "execution_count": 150,
   "metadata": {},
   "outputs": [],
   "source": [
    "df_pbp_2021_womens.columns = df_pbp_2021_womens.columns.str.lower().str.replace(' ', '_')\n",
    "df_pbp_2021_womens = df_pbp_2021_womens.rename(columns={'x_coordinate': 'x_coord', 'y_coordinate': 'y_coord'})"
   ]
  },
  {
   "cell_type": "code",
   "execution_count": 151,
   "metadata": {},
   "outputs": [],
   "source": [
    "df_pbp_2021_womens['game_id'] = df_pbp_2021_womens.loc[:, ['game_date', 'home_team', 'away_team']].sum(axis=1).astype('category').cat.codes\n",
    "df_pbp_2021_womens['event_id'] = df_pbp_2021_womens['event'].astype('category').cat.codes\n",
    "df_pbp_2021_womens['team_id'] = df_pbp_2021_womens['team'].astype('category').cat.codes\n",
    "df_pbp_2021_womens['player_id'] = df_pbp_2021_womens['player'].astype('category').cat.codes\n",
    "df_pbp_2021_womens['is_shot'] = 0\n",
    "df_pbp_2021_womens['is_goal'] = 0\n",
    "for x in range(1,5):\n",
    "    df_pbp_2021_womens[f'detail_{x}_code'] = df_pbp_2021_womens[f'detail_{x}'].astype('category').cat.codes\n",
    "df_pbp_2021_womens.loc[df_pbp_2021_womens['home_team'] == df_pbp_2021_womens['team'], 'is_home'] = 1\n",
    "df_pbp_2021_womens.loc[df_pbp_2021_womens['event']=='Shot', 'is_shot'] = 1\n",
    "df_pbp_2021_womens.loc[df_pbp_2021_womens['event']=='Goal', 'is_goal'] = 1\n",
    "df_pbp_2021_womens['goal_diff'] = df_pbp_2021_womens['home_team_goals'].sub(df_pbp_2021_womens['away_team_goals'])\n",
    "df_pbp_2021_womens['clock'] = pd.to_datetime(df_pbp_2021_womens['clock'], format='%M:%S')\n",
    "df_pbp_2021_womens['game_seconds_remaining'] = df_pbp_2021_womens['clock'].dt.minute.mul(60).add(df_pbp_2021_womens['clock'].dt.second)\n",
    "\n",
    "df_pbp_2021_womens['event_code'] = df_pbp_2021_womens['event'].astype('category').cat.codes\n",
    "df_pbp_2021_womens['detail_1_code'] = df_pbp_2021_womens['detail_1'].astype('category').cat.codes\n"
   ]
  },
  {
   "cell_type": "code",
   "execution_count": 152,
   "metadata": {},
   "outputs": [],
   "source": [
    "df_pbp_2021_womens.loc[df_pbp_2021_womens['team']==df_pbp_2021_womens['home_team'],'strength_state'] = df_pbp_2021_womens.loc[df_pbp_2021_womens['team']==df_pbp_2021_womens['home_team'],'home_team_skaters'].sub(df_pbp_2021_womens.loc[df_pbp_2021_womens['team']==df_pbp_2021_womens['home_team'],'away_team_skaters'])\n",
    "df_pbp_2021_womens.loc[df_pbp_2021_womens['team']==df_pbp_2021_womens['away_team'],'strength_state'] = df_pbp_2021_womens.loc[df_pbp_2021_womens['team']==df_pbp_2021_womens['away_team'],'away_team_skaters'].sub(df_pbp_2021_womens.loc[df_pbp_2021_womens['team']==df_pbp_2021_womens['away_team'],'home_team_skaters'])"
   ]
  },
  {
   "cell_type": "code",
   "execution_count": 153,
   "metadata": {},
   "outputs": [],
   "source": [
    "# calculating angles and distances to the goal\n",
    "diff_2021_x1 = GOAL_X - df_pbp_2021_womens['x_coord']\n",
    "diff_2021_x1 = diff_2021_x1.astype(float)\n",
    "diff_2021_y1 = abs(GOAL_Y - df_pbp_2021_womens['y_coord'])\n",
    "\n",
    "df_pbp_2021_womens['distance_to_goal'] = np.sqrt(diff_2021_x1 ** 2 + diff_2021_y1 ** 2)\n",
    "df_pbp_2021_womens['angle_to_goal'] = np.divide(diff_2021_x1, diff_2021_y1,out=np.zeros_like(diff_2021_x1),where=(diff_2021_y1 != 0))\n",
    "\n",
    "# getting the information about the previous event\n",
    "df_pbp_2021_womens[['prev_event','prev_event_code','prev_event_type','prev_event_type_code','prev_event_x_coord','prev_event_y_coord','prev_event_game_seconds_remaining','prev_event_distance_to_goal','prev_event_angle_to_goal']] = df_pbp_2021_womens[['event','event_code','detail_1','detail_1_code','x_coord', 'y_coord', 'game_seconds_remaining', 'distance_to_goal', 'angle_to_goal']].shift(1)\n",
    "df_pbp_2021_womens['time_diff_last_event'] = df_pbp_2021_womens['game_seconds_remaining'] - df_pbp_2021_womens['prev_event_game_seconds_remaining']\n",
    "df_pbp_2021_womens['angle_diff_last_event'] = df_pbp_2021_womens['angle_to_goal'] - df_pbp_2021_womens['prev_event_angle_to_goal']\n",
    "df_pbp_2021_womens['distance_diff_last_event'] = df_pbp_2021_womens['distance_to_goal'] - df_pbp_2021_womens['prev_event_distance_to_goal']\n",
    "\n",
    "#getting information about second previous event \n",
    "df_pbp_2021_womens[['second_prev_event','second_prev_event_code','second_prev_event_type','second_prev_event_type_code','second_prev_event_x_coord','second_prev_event_y_coord','second_prev_event_game_seconds_remaining','second_prev_event_distance_to_goal','second_prev_event_angle_to_goal']] = df_pbp_2021_womens[['event','event_code','detail_1','detail_1_code','x_coord', 'y_coord', 'game_seconds_remaining', 'distance_to_goal', 'angle_to_goal']].shift(2)\n",
    "df_pbp_2021_womens['prev_time_diff_last_event'] = df_pbp_2021_womens['prev_event_game_seconds_remaining'] - df_pbp_2021_womens['second_prev_event_game_seconds_remaining']\n",
    "df_pbp_2021_womens['prev_angle_diff_last_event'] = df_pbp_2021_womens['prev_event_angle_to_goal'] - df_pbp_2021_womens['second_prev_event_angle_to_goal']\n",
    "df_pbp_2021_womens['prev_distance_diff_last_event'] = df_pbp_2021_womens['prev_event_distance_to_goal'] - df_pbp_2021_womens['second_prev_event_distance_to_goal']"
   ]
  },
  {
   "cell_type": "code",
   "execution_count": 154,
   "metadata": {},
   "outputs": [
    {
     "data": {
      "text/plain": [
       "50884"
      ]
     },
     "execution_count": 154,
     "metadata": {},
     "output_type": "execute_result"
    }
   ],
   "source": [
    "df_pbp_2021_womens.to_sql('pbp_training', conn, if_exists='replace')"
   ]
  },
  {
   "cell_type": "code",
   "execution_count": 155,
   "metadata": {},
   "outputs": [
    {
     "data": {
      "text/plain": [
       "array([nan, 'Backhand', 'Retained', 'Dumped', 'Indirect', 'Direct',\n",
       "       'Carried', 'Lost', 'Played', 'Snapshot', 'Fan', 'Cross-checking',\n",
       "       'Slapshot', 'Wristshot', 'Deflection', 'Forehand', 'Tripping',\n",
       "       'Wrap Around', 'Roughing', 'Holding', 'Delay of game', 'Slashing',\n",
       "       'Too many men on the ice', 'Interference', 'Closing hand on puck',\n",
       "       'Hooking', 'Goalkeeper interference', 'Boarding', 'High-sticking',\n",
       "       'Charging', 'Illegal Check to the Head', 'Game Misconduct', 'Feet',\n",
       "       'Elbowing', 'Unsportsmanlike conduct', 'Face-off violation',\n",
       "       'Holding the stick'], dtype=object)"
      ]
     },
     "execution_count": 155,
     "metadata": {},
     "output_type": "execute_result"
    }
   ],
   "source": [
    "df_pbp_2021_womens['prev_event_type'].unique()"
   ]
  },
  {
   "cell_type": "code",
   "execution_count": 156,
   "metadata": {},
   "outputs": [
    {
     "data": {
      "text/plain": [
       "(array(['Backhand', nan, 'Dumped', 'Indirect', 'Direct', 'Slapshot',\n",
       "        'Snapshot', 'Carried', 'Fan', 'Played', 'Wristshot', 'Deflection',\n",
       "        'Forehand', 'Cross-checking', 'Hooking', 'Boarding',\n",
       "        'Interference', 'Wrap Around', 'Unsportsmanlike conduct',\n",
       "        'Tripping', 'Roughing', 'Holding', 'Slashing', 'High-sticking',\n",
       "        'Feet', 'Checking from behind', 'Goalkeeper interference',\n",
       "        'Too many men on the ice'], dtype=object),\n",
       " array([nan, 'Backhand', 'Dumped', 'Indirect', 'Direct', 'Slapshot',\n",
       "        'Snapshot', 'Carried', 'Fan', 'Played', 'Wristshot', 'Deflection',\n",
       "        'Forehand', 'Cross-checking', 'Hooking', 'Boarding',\n",
       "        'Interference', 'Wrap Around', 'Unsportsmanlike conduct',\n",
       "        'Tripping', 'Roughing', 'Holding', 'Slashing', 'High-sticking',\n",
       "        'Feet', 'Checking from behind', 'Goalkeeper interference',\n",
       "        'Too many men on the ice'], dtype=object))"
      ]
     },
     "execution_count": 156,
     "metadata": {},
     "output_type": "execute_result"
    }
   ],
   "source": [
    "df_pbp['event_type'].unique(), df_pbp['prev_event_type'].unique()"
   ]
  },
  {
   "cell_type": "code",
   "execution_count": 157,
   "metadata": {},
   "outputs": [
    {
     "data": {
      "text/plain": [
       "(array(['Faceoff Win', 'Puck Recovery', 'Dump In/Out', 'Zone Entry',\n",
       "        'Play', 'Shot', 'Takeaway', 'Penalty Taken'], dtype=object),\n",
       " array([nan, 'Faceoff Win', 'Puck Recovery', 'Dump In/Out', 'Zone Entry',\n",
       "        'Play', 'Shot', 'Takeaway', 'Penalty Taken'], dtype=object))"
      ]
     },
     "execution_count": 157,
     "metadata": {},
     "output_type": "execute_result"
    }
   ],
   "source": [
    "df_pbp['event'].unique(), df_pbp['prev_event'].unique()"
   ]
  },
  {
   "cell_type": "code",
   "execution_count": 158,
   "metadata": {},
   "outputs": [
    {
     "data": {
      "text/plain": [
       "(array(['Faceoff Win', 'Puck Recovery', 'Dump In/Out', 'Zone Entry',\n",
       "        'Play', 'Takeaway', 'Incomplete Play', 'Shot', 'Penalty Taken',\n",
       "        'Goal'], dtype=object),\n",
       " array([nan, 'Faceoff Win', 'Puck Recovery', 'Dump In/Out', 'Zone Entry',\n",
       "        'Play', 'Takeaway', 'Incomplete Play', 'Shot', 'Penalty Taken',\n",
       "        'Goal'], dtype=object))"
      ]
     },
     "execution_count": 158,
     "metadata": {},
     "output_type": "execute_result"
    }
   ],
   "source": [
    "df_pbp_2021_womens['event'].unique(), df_pbp_2021_womens['prev_event'].unique()"
   ]
  },
  {
   "cell_type": "code",
   "execution_count": 159,
   "metadata": {},
   "outputs": [
    {
     "data": {
      "text/html": [
       "<div>\n",
       "<style scoped>\n",
       "    .dataframe tbody tr th:only-of-type {\n",
       "        vertical-align: middle;\n",
       "    }\n",
       "\n",
       "    .dataframe tbody tr th {\n",
       "        vertical-align: top;\n",
       "    }\n",
       "\n",
       "    .dataframe thead th {\n",
       "        text-align: right;\n",
       "    }\n",
       "</style>\n",
       "<table border=\"1\" class=\"dataframe\">\n",
       "  <thead>\n",
       "    <tr style=\"text-align: right;\">\n",
       "      <th></th>\n",
       "      <th>game_date</th>\n",
       "      <th>season_year</th>\n",
       "      <th>team_name</th>\n",
       "      <th>opp_team_name</th>\n",
       "      <th>venue</th>\n",
       "      <th>period</th>\n",
       "      <th>clock_seconds</th>\n",
       "      <th>situation_type</th>\n",
       "      <th>goals_for</th>\n",
       "      <th>goals_against</th>\n",
       "      <th>player_name</th>\n",
       "      <th>event</th>\n",
       "      <th>event_successful</th>\n",
       "      <th>x_coord</th>\n",
       "      <th>y_coord</th>\n",
       "      <th>event_type</th>\n",
       "      <th>player_name_2</th>\n",
       "      <th>x_coord_2</th>\n",
       "      <th>y_coord_2</th>\n",
       "      <th>event_detail_1</th>\n",
       "      <th>event_detail_2</th>\n",
       "      <th>event_detail_3</th>\n",
       "      <th>frame_id_1</th>\n",
       "      <th>frame_id_2</th>\n",
       "      <th>home_team</th>\n",
       "      <th>away_team</th>\n",
       "      <th>game_id</th>\n",
       "      <th>is_shot</th>\n",
       "      <th>is_goal</th>\n",
       "      <th>event_id</th>\n",
       "      <th>team_id</th>\n",
       "      <th>player_id</th>\n",
       "      <th>detail_1_code</th>\n",
       "      <th>goal_diff</th>\n",
       "      <th>game_seconds_remaining</th>\n",
       "      <th>event_code</th>\n",
       "      <th>event_type_code</th>\n",
       "      <th>skaters_for</th>\n",
       "      <th>skaters_against</th>\n",
       "      <th>strength_state</th>\n",
       "      <th>distance_to_goal</th>\n",
       "      <th>angle_to_goal</th>\n",
       "      <th>prev_event</th>\n",
       "      <th>prev_event_code</th>\n",
       "      <th>prev_event_type</th>\n",
       "      <th>prev_event_type_code</th>\n",
       "      <th>prev_event_x_coord</th>\n",
       "      <th>prev_event_y_coord</th>\n",
       "      <th>prev_event_game_seconds_remaining</th>\n",
       "      <th>prev_event_distance_to_goal</th>\n",
       "      <th>prev_event_angle_to_goal</th>\n",
       "      <th>time_diff_last_event</th>\n",
       "      <th>angle_diff_last_event</th>\n",
       "      <th>distance_diff_last_event</th>\n",
       "      <th>second_prev_event</th>\n",
       "      <th>second_prev_event_code</th>\n",
       "      <th>second_prev_event_type</th>\n",
       "      <th>second_prev_event_type_code</th>\n",
       "      <th>second_prev_event_x_coord</th>\n",
       "      <th>second_prev_event_y_coord</th>\n",
       "      <th>second_prev_event_game_seconds_remaining</th>\n",
       "      <th>second_prev_event_distance_to_goal</th>\n",
       "      <th>second_prev_event_angle_to_goal</th>\n",
       "      <th>prev_time_diff_last_event</th>\n",
       "      <th>prev_angle_diff_last_event</th>\n",
       "      <th>prev_distance_diff_last_event</th>\n",
       "    </tr>\n",
       "  </thead>\n",
       "  <tbody>\n",
       "    <tr>\n",
       "      <th>4996</th>\n",
       "      <td>12/2/2022</td>\n",
       "      <td>2021</td>\n",
       "      <td>Olympic (Women) - Switzerland</td>\n",
       "      <td>Olympic (Women) - Olympic Athletes from Russia</td>\n",
       "      <td>away</td>\n",
       "      <td>3</td>\n",
       "      <td>737</td>\n",
       "      <td>5 on 4</td>\n",
       "      <td>2</td>\n",
       "      <td>1</td>\n",
       "      <td>Alina Muller</td>\n",
       "      <td>Shot</td>\n",
       "      <td>False</td>\n",
       "      <td>59</td>\n",
       "      <td>26</td>\n",
       "      <td>Wristshot</td>\n",
       "      <td>NaN</td>\n",
       "      <td>NaN</td>\n",
       "      <td>NaN</td>\n",
       "      <td>Blocked</td>\n",
       "      <td>True</td>\n",
       "      <td>False</td>\n",
       "      <td>219.0</td>\n",
       "      <td>NaN</td>\n",
       "      <td>Olympic (Women) - Olympic Athletes from Russia</td>\n",
       "      <td>Olympic (Women) - Switzerland</td>\n",
       "      <td>0</td>\n",
       "      <td>1</td>\n",
       "      <td>0</td>\n",
       "      <td>5</td>\n",
       "      <td>3</td>\n",
       "      <td>6</td>\n",
       "      <td>0</td>\n",
       "      <td>1</td>\n",
       "      <td>737.0</td>\n",
       "      <td>5</td>\n",
       "      <td>26</td>\n",
       "      <td>5</td>\n",
       "      <td>4</td>\n",
       "      <td>1</td>\n",
       "      <td>132.035033</td>\n",
       "      <td>7.939394</td>\n",
       "      <td>Play</td>\n",
       "      <td>3.0</td>\n",
       "      <td>Direct</td>\n",
       "      <td>6.0</td>\n",
       "      <td>68.0</td>\n",
       "      <td>42.0</td>\n",
       "      <td>739.0</td>\n",
       "      <td>122.001025</td>\n",
       "      <td>244.000000</td>\n",
       "      <td>-2.0</td>\n",
       "      <td>-236.060606</td>\n",
       "      <td>10.034009</td>\n",
       "      <td>Play</td>\n",
       "      <td>3.0</td>\n",
       "      <td>Direct</td>\n",
       "      <td>6.0</td>\n",
       "      <td>50.0</td>\n",
       "      <td>5.0</td>\n",
       "      <td>741.0</td>\n",
       "      <td>144.935330</td>\n",
       "      <td>3.733333</td>\n",
       "      <td>-2.0</td>\n",
       "      <td>240.266667</td>\n",
       "      <td>-22.934306</td>\n",
       "    </tr>\n",
       "    <tr>\n",
       "      <th>5049</th>\n",
       "      <td>12/2/2022</td>\n",
       "      <td>2021</td>\n",
       "      <td>Olympic (Women) - Switzerland</td>\n",
       "      <td>Olympic (Women) - Olympic Athletes from Russia</td>\n",
       "      <td>away</td>\n",
       "      <td>3</td>\n",
       "      <td>642</td>\n",
       "      <td>5 on 4</td>\n",
       "      <td>2</td>\n",
       "      <td>1</td>\n",
       "      <td>Alina Muller</td>\n",
       "      <td>Shot</td>\n",
       "      <td>False</td>\n",
       "      <td>40</td>\n",
       "      <td>27</td>\n",
       "      <td>Slapshot</td>\n",
       "      <td>NaN</td>\n",
       "      <td>NaN</td>\n",
       "      <td>NaN</td>\n",
       "      <td>On Net</td>\n",
       "      <td>False</td>\n",
       "      <td>False</td>\n",
       "      <td>4887.0</td>\n",
       "      <td>NaN</td>\n",
       "      <td>Olympic (Women) - Olympic Athletes from Russia</td>\n",
       "      <td>Olympic (Women) - Switzerland</td>\n",
       "      <td>0</td>\n",
       "      <td>1</td>\n",
       "      <td>0</td>\n",
       "      <td>5</td>\n",
       "      <td>3</td>\n",
       "      <td>6</td>\n",
       "      <td>2</td>\n",
       "      <td>1</td>\n",
       "      <td>642.0</td>\n",
       "      <td>5</td>\n",
       "      <td>19</td>\n",
       "      <td>5</td>\n",
       "      <td>4</td>\n",
       "      <td>1</td>\n",
       "      <td>150.798707</td>\n",
       "      <td>9.677419</td>\n",
       "      <td>Play</td>\n",
       "      <td>3.0</td>\n",
       "      <td>Direct</td>\n",
       "      <td>6.0</td>\n",
       "      <td>38.0</td>\n",
       "      <td>63.0</td>\n",
       "      <td>643.0</td>\n",
       "      <td>153.376172</td>\n",
       "      <td>7.414634</td>\n",
       "      <td>-1.0</td>\n",
       "      <td>2.262785</td>\n",
       "      <td>-2.577465</td>\n",
       "      <td>Play</td>\n",
       "      <td>3.0</td>\n",
       "      <td>Direct</td>\n",
       "      <td>6.0</td>\n",
       "      <td>66.0</td>\n",
       "      <td>38.0</td>\n",
       "      <td>645.0</td>\n",
       "      <td>124.081626</td>\n",
       "      <td>27.555556</td>\n",
       "      <td>-2.0</td>\n",
       "      <td>-20.140921</td>\n",
       "      <td>29.294545</td>\n",
       "    </tr>\n",
       "    <tr>\n",
       "      <th>10165</th>\n",
       "      <td>16/2/2022</td>\n",
       "      <td>2021</td>\n",
       "      <td>Olympic (Women) - Switzerland</td>\n",
       "      <td>Olympic (Women) - Finland</td>\n",
       "      <td>away</td>\n",
       "      <td>3</td>\n",
       "      <td>960</td>\n",
       "      <td>5 on 4</td>\n",
       "      <td>0</td>\n",
       "      <td>2</td>\n",
       "      <td>Alina Muller</td>\n",
       "      <td>Shot</td>\n",
       "      <td>False</td>\n",
       "      <td>51</td>\n",
       "      <td>20</td>\n",
       "      <td>Wristshot</td>\n",
       "      <td>NaN</td>\n",
       "      <td>NaN</td>\n",
       "      <td>NaN</td>\n",
       "      <td>Blocked</td>\n",
       "      <td>True</td>\n",
       "      <td>False</td>\n",
       "      <td>3642.0</td>\n",
       "      <td>NaN</td>\n",
       "      <td>Olympic (Women) - Finland</td>\n",
       "      <td>Olympic (Women) - Switzerland</td>\n",
       "      <td>3</td>\n",
       "      <td>1</td>\n",
       "      <td>0</td>\n",
       "      <td>5</td>\n",
       "      <td>3</td>\n",
       "      <td>6</td>\n",
       "      <td>0</td>\n",
       "      <td>-2</td>\n",
       "      <td>960.0</td>\n",
       "      <td>5</td>\n",
       "      <td>26</td>\n",
       "      <td>5</td>\n",
       "      <td>4</td>\n",
       "      <td>1</td>\n",
       "      <td>140.809268</td>\n",
       "      <td>6.177778</td>\n",
       "      <td>Zone Entry</td>\n",
       "      <td>7.0</td>\n",
       "      <td>Carried</td>\n",
       "      <td>2.0</td>\n",
       "      <td>74.0</td>\n",
       "      <td>16.0</td>\n",
       "      <td>961.0</td>\n",
       "      <td>118.988445</td>\n",
       "      <td>4.377358</td>\n",
       "      <td>-1.0</td>\n",
       "      <td>1.800419</td>\n",
       "      <td>21.820823</td>\n",
       "      <td>Play</td>\n",
       "      <td>3.0</td>\n",
       "      <td>Direct</td>\n",
       "      <td>6.0</td>\n",
       "      <td>168.0</td>\n",
       "      <td>81.0</td>\n",
       "      <td>967.0</td>\n",
       "      <td>44.342418</td>\n",
       "      <td>0.571429</td>\n",
       "      <td>-6.0</td>\n",
       "      <td>3.805930</td>\n",
       "      <td>74.646027</td>\n",
       "    </tr>\n",
       "  </tbody>\n",
       "</table>\n",
       "</div>"
      ],
      "text/plain": [
       "       game_date  season_year                      team_name  \\\n",
       "4996   12/2/2022         2021  Olympic (Women) - Switzerland   \n",
       "5049   12/2/2022         2021  Olympic (Women) - Switzerland   \n",
       "10165  16/2/2022         2021  Olympic (Women) - Switzerland   \n",
       "\n",
       "                                        opp_team_name venue  period  \\\n",
       "4996   Olympic (Women) - Olympic Athletes from Russia  away       3   \n",
       "5049   Olympic (Women) - Olympic Athletes from Russia  away       3   \n",
       "10165                       Olympic (Women) - Finland  away       3   \n",
       "\n",
       "       clock_seconds situation_type  goals_for  goals_against   player_name  \\\n",
       "4996             737         5 on 4          2              1  Alina Muller   \n",
       "5049             642         5 on 4          2              1  Alina Muller   \n",
       "10165            960         5 on 4          0              2  Alina Muller   \n",
       "\n",
       "      event  event_successful  x_coord  y_coord event_type player_name_2  \\\n",
       "4996   Shot             False       59       26  Wristshot           NaN   \n",
       "5049   Shot             False       40       27   Slapshot           NaN   \n",
       "10165  Shot             False       51       20  Wristshot           NaN   \n",
       "\n",
       "       x_coord_2  y_coord_2 event_detail_1  event_detail_2  event_detail_3  \\\n",
       "4996         NaN        NaN        Blocked            True           False   \n",
       "5049         NaN        NaN         On Net           False           False   \n",
       "10165        NaN        NaN        Blocked            True           False   \n",
       "\n",
       "       frame_id_1  frame_id_2                                       home_team  \\\n",
       "4996        219.0         NaN  Olympic (Women) - Olympic Athletes from Russia   \n",
       "5049       4887.0         NaN  Olympic (Women) - Olympic Athletes from Russia   \n",
       "10165      3642.0         NaN                       Olympic (Women) - Finland   \n",
       "\n",
       "                           away_team  game_id  is_shot  is_goal  event_id  \\\n",
       "4996   Olympic (Women) - Switzerland        0        1        0         5   \n",
       "5049   Olympic (Women) - Switzerland        0        1        0         5   \n",
       "10165  Olympic (Women) - Switzerland        3        1        0         5   \n",
       "\n",
       "       team_id  player_id  detail_1_code  goal_diff  game_seconds_remaining  \\\n",
       "4996         3          6              0          1                   737.0   \n",
       "5049         3          6              2          1                   642.0   \n",
       "10165        3          6              0         -2                   960.0   \n",
       "\n",
       "       event_code  event_type_code  skaters_for  skaters_against  \\\n",
       "4996            5               26            5                4   \n",
       "5049            5               19            5                4   \n",
       "10165           5               26            5                4   \n",
       "\n",
       "       strength_state  distance_to_goal  angle_to_goal  prev_event  \\\n",
       "4996                1        132.035033       7.939394        Play   \n",
       "5049                1        150.798707       9.677419        Play   \n",
       "10165               1        140.809268       6.177778  Zone Entry   \n",
       "\n",
       "       prev_event_code prev_event_type  prev_event_type_code  \\\n",
       "4996               3.0          Direct                   6.0   \n",
       "5049               3.0          Direct                   6.0   \n",
       "10165              7.0         Carried                   2.0   \n",
       "\n",
       "       prev_event_x_coord  prev_event_y_coord  \\\n",
       "4996                 68.0                42.0   \n",
       "5049                 38.0                63.0   \n",
       "10165                74.0                16.0   \n",
       "\n",
       "       prev_event_game_seconds_remaining  prev_event_distance_to_goal  \\\n",
       "4996                               739.0                   122.001025   \n",
       "5049                               643.0                   153.376172   \n",
       "10165                              961.0                   118.988445   \n",
       "\n",
       "       prev_event_angle_to_goal  time_diff_last_event  angle_diff_last_event  \\\n",
       "4996                 244.000000                  -2.0            -236.060606   \n",
       "5049                   7.414634                  -1.0               2.262785   \n",
       "10165                  4.377358                  -1.0               1.800419   \n",
       "\n",
       "       distance_diff_last_event second_prev_event  second_prev_event_code  \\\n",
       "4996                  10.034009              Play                     3.0   \n",
       "5049                  -2.577465              Play                     3.0   \n",
       "10165                 21.820823              Play                     3.0   \n",
       "\n",
       "      second_prev_event_type  second_prev_event_type_code  \\\n",
       "4996                  Direct                          6.0   \n",
       "5049                  Direct                          6.0   \n",
       "10165                 Direct                          6.0   \n",
       "\n",
       "       second_prev_event_x_coord  second_prev_event_y_coord  \\\n",
       "4996                        50.0                        5.0   \n",
       "5049                        66.0                       38.0   \n",
       "10165                      168.0                       81.0   \n",
       "\n",
       "       second_prev_event_game_seconds_remaining  \\\n",
       "4996                                      741.0   \n",
       "5049                                      645.0   \n",
       "10165                                     967.0   \n",
       "\n",
       "       second_prev_event_distance_to_goal  second_prev_event_angle_to_goal  \\\n",
       "4996                           144.935330                         3.733333   \n",
       "5049                           124.081626                        27.555556   \n",
       "10165                           44.342418                         0.571429   \n",
       "\n",
       "       prev_time_diff_last_event  prev_angle_diff_last_event  \\\n",
       "4996                        -2.0                  240.266667   \n",
       "5049                        -2.0                  -20.140921   \n",
       "10165                       -6.0                    3.805930   \n",
       "\n",
       "       prev_distance_diff_last_event  \n",
       "4996                      -22.934306  \n",
       "5049                       29.294545  \n",
       "10165                      74.646027  "
      ]
     },
     "execution_count": 159,
     "metadata": {},
     "output_type": "execute_result"
    }
   ],
   "source": [
    "df_pbp[(df_pbp['is_shot']==1) & (df_pbp['player_name'] == 'Alina Muller') & (df_pbp['strength_state'] > 0)]"
   ]
  },
  {
   "cell_type": "code",
   "execution_count": 160,
   "metadata": {},
   "outputs": [
    {
     "data": {
      "text/plain": [
       "(709, 66)"
      ]
     },
     "execution_count": 160,
     "metadata": {},
     "output_type": "execute_result"
    }
   ],
   "source": [
    "df_pbp[(df_pbp['is_shot']==1)].shape"
   ]
  },
  {
   "cell_type": "code",
   "execution_count": null,
   "metadata": {},
   "outputs": [],
   "source": []
  }
 ],
 "metadata": {
  "interpreter": {
   "hash": "aee8b7b246df8f9039afb4144a1f6fd8d2ca17a180786b69acc140d282b71a49"
  },
  "kernelspec": {
   "display_name": "Python 3.9.10 64-bit",
   "language": "python",
   "name": "python3"
  },
  "language_info": {
   "codemirror_mode": {
    "name": "ipython",
    "version": 3
   },
   "file_extension": ".py",
   "mimetype": "text/x-python",
   "name": "python",
   "nbconvert_exporter": "python",
   "pygments_lexer": "ipython3",
   "version": "3.9.10"
  },
  "orig_nbformat": 4
 },
 "nbformat": 4,
 "nbformat_minor": 2
}
