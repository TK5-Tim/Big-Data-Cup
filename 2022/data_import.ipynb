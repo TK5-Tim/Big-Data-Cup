{
 "cells": [
  {
   "cell_type": "code",
   "execution_count": 226,
   "metadata": {},
   "outputs": [],
   "source": [
    "import pandas as pd\n",
    "import sqlite3\n",
    "import os\n",
    "import pandas as pd\n",
    "import numpy as np\n",
    "from tqdm import tqdm\n",
    "import re\n",
    "import csv\n",
    "\n",
    "pd.set_option(\"display.max_columns\", None)"
   ]
  },
  {
   "cell_type": "code",
   "execution_count": 227,
   "metadata": {},
   "outputs": [],
   "source": [
    "# Data Directory\n",
    "data_dir = \"../../Data/Big-Data-Cup-2021\"\n",
    "bucketless_data_dir = '../../Data/bdc/data'\n",
    "tracking_data_dir = \"{}/TrackingData\".format(data_dir)\n",
    "db_path = '/Users/keltim01/Documents/databases/'\n"
   ]
  },
  {
   "cell_type": "markdown",
   "metadata": {},
   "source": [
    "### Importing and cleaning the data"
   ]
  },
  {
   "cell_type": "markdown",
   "metadata": {},
   "source": [
    "Thanks to [The Bucketless](https://twitter.com/the_bucketless) for the great [Tutorial](https://github.com/the-bucketless/bdc/blob/main/bdc_merge_example.ipynb) and the [Cleaned Data](https://github.com/the-bucketless/bdc/tree/main/data) as well as the [hockey_rink](https://github.com/the-bucketless/hockey_rink) package"
   ]
  },
  {
   "cell_type": "markdown",
   "metadata": {},
   "source": [
    "### Play by Play Data "
   ]
  },
  {
   "cell_type": "code",
   "execution_count": 228,
   "metadata": {},
   "outputs": [],
   "source": [
    "# important numbers for the hockey rink \n",
    "ICE_LENGTH = 200\n",
    "ICE_WIDTH = 85\n",
    "GOAL_X = ICE_LENGTH - 10\n",
    "GOAL_Y = ICE_WIDTH / 2\n",
    "D_ZONE = 75\n",
    "O_ZONE = ICE_LENGTH - 75"
   ]
  },
  {
   "cell_type": "code",
   "execution_count": 229,
   "metadata": {},
   "outputs": [],
   "source": [
    "# create and connect to database \n",
    "conn = sqlite3.connect(db_path + 'bdc_2022.db')\n",
    "cursor = conn.cursor()"
   ]
  },
  {
   "cell_type": "code",
   "execution_count": 230,
   "metadata": {},
   "outputs": [],
   "source": [
    "df_pp_info = pd.read_csv(\"{}/pp_info.csv\".format(bucketless_data_dir))\n"
   ]
  },
  {
   "cell_type": "code",
   "execution_count": 231,
   "metadata": {},
   "outputs": [],
   "source": [
    "df_pbp = pd.read_csv(\"{}/pxp_womens_oly_2022_v2.csv\".format(bucketless_data_dir))\n"
   ]
  },
  {
   "cell_type": "code",
   "execution_count": 232,
   "metadata": {},
   "outputs": [],
   "source": [
    "df_pbp['home_team'] = df_pbp.apply(lambda x: x['team_name'] if x['venue'] == 'home' else x['opp_team_name'], axis=1)\n",
    "df_pbp['away_team'] = df_pbp.apply(lambda x: x['team_name'] if x['venue'] == 'away' else x['opp_team_name'], axis=1)\n",
    "df_pbp['is_shot'] = 0\n",
    "df_pbp['is_goal'] = 0\n",
    "df_pbp['event_id'] = df_pbp['event'].astype('category').cat.codes\n",
    "df_pbp['team_id'] = df_pbp['team_name'].astype('category').cat.codes\n",
    "df_pbp['player_id'] = df_pbp['player_name'].astype('category').cat.codes\n",
    "df_pbp['event_successful'] = df_pbp.apply(lambda x: True if x['event_successful']=='t' else False, axis=1)\n",
    "df_pbp['event_detail_2'] = df_pbp.apply(lambda x: True if x['event_detail_2']=='t' else False, axis=1)\n",
    "df_pbp['event_detail_3'] = df_pbp.apply(lambda x: True if x['event_detail_3']=='t' else False, axis=1)\n",
    "df_pbp[f'detail_1_code'] = df_pbp[f'event_detail_1'].astype('category').cat.codes\n",
    "df_pbp.loc[df_pbp['event']=='Shot', 'is_shot'] = 1\n",
    "df_pbp.loc[(df_pbp['event']=='Shot') & (df_pbp['event_successful']), 'is_goal'] = 1\n",
    "df_pbp['goal_diff'] = df_pbp['goals_for'].sub(df_pbp['goals_against'])\n",
    "df_pbp.loc[df_pbp['period'] == 1,'game_seconds_remaining'] = 2400 + df_pbp.loc[df_pbp['period'] == 1,'clock_seconds'] \n",
    "df_pbp.loc[df_pbp['period'] == 2,'game_seconds_remaining'] = 1200 + df_pbp.loc[df_pbp['period'] == 2,'clock_seconds']\n",
    "df_pbp.loc[df_pbp['period'] == 3,'game_seconds_remaining'] = df_pbp.loc[df_pbp['period'] == 3,'clock_seconds']\n",
    "\n",
    "df_pbp['event_code'] = df_pbp['event'].astype('category').cat.codes\n",
    "df_pbp['event_type_code'] = df_pbp['event_type'].astype('category').cat.codes\n",
    "# mirror home team in even-numbered periods / away team in odd-numbered periods and the opposite for Canada - Usa Game (Thanks to the Bucketless for the code)\n",
    "wrong_way_teams = [\"Olympic (Women) - Canada\", \"Olympic (Women) - United States\"]\n",
    "mirror_indices = (\n",
    "    (\n",
    "        # need to mirror the home team in even-numbered periods\n",
    "        ((df_pbp.venue == \"home\") & ~(df_pbp.period % 2))\n",
    "        # and the away team in odd-numbered\n",
    "        | ((df_pbp.venue == \"away\") & (df_pbp.period % 2))\n",
    "    )\n",
    "    # flipping things in the Canada-USA game\n",
    "    ^ (df_pbp.team_name.isin(wrong_way_teams) & df_pbp.opp_team_name.isin(wrong_way_teams))\n",
    ")\n",
    "\n",
    "# a rink is 200 ft long\n",
    "coord_columns = [\"x_coord\", \"x_coord_2\"]\n",
    "df_pbp.loc[mirror_indices, coord_columns] = 200 - df_pbp.loc[mirror_indices, coord_columns]\n",
    "df_pbp[['skaters_for','skaters_against']] = df_pbp['situation_type'].str.extract(r'(\\d) on (\\d)')\n",
    "df_pbp = df_pbp.astype({'skaters_for': 'int64', 'skaters_against': 'int64'})\n",
    "df_pbp['strength_state'] = df_pbp['skaters_for'].sub(df_pbp['skaters_against'])\n",
    "\n",
    "# calculating angles and distances to the goal\n",
    "diff_x1 = GOAL_X - df_pbp['x_coord']\n",
    "diff_x1 = diff_x1.astype(float)\n",
    "diff_y1 = abs(GOAL_Y - df_pbp['y_coord'])\n",
    "df_pbp['distance_to_goal'] = np.sqrt(diff_x1 ** 2 + diff_y1 ** 2)\n",
    "df_pbp['angle_to_goal'] = np.divide(diff_x1, diff_y1,out=np.zeros_like(diff_x1),where=(diff_y1 != 0))\n",
    "\n",
    "# getting the information about the previous event\n",
    "df_pbp[['prev_event','prev_event_code','prev_event_type','prev_event_type_code','prev_event_x_coord','prev_event_y_coord','prev_event_game_seconds_remaining','prev_event_distance_to_goal','prev_event_angle_to_goal']] = df_pbp[['event','event_code','event_type','event_type_code','x_coord', 'y_coord', 'game_seconds_remaining', 'distance_to_goal', 'angle_to_goal']].shift(1)\n",
    "df_pbp['time_diff_last_event'] = df_pbp['game_seconds_remaining'] - df_pbp['prev_event_game_seconds_remaining']\n",
    "df_pbp['angle_diff_last_event'] = df_pbp['angle_to_goal'] - df_pbp['prev_event_angle_to_goal']\n",
    "df_pbp['distance_diff_last_event'] = df_pbp['distance_to_goal'] - df_pbp['prev_event_distance_to_goal']"
   ]
  },
  {
   "cell_type": "code",
   "execution_count": 233,
   "metadata": {},
   "outputs": [
    {
     "name": "stdout",
     "output_type": "stream",
     "text": [
      "<class 'pandas.core.frame.DataFrame'>\n",
      "RangeIndex: 10609 entries, 0 to 10608\n",
      "Data columns (total 53 columns):\n",
      " #   Column                             Non-Null Count  Dtype  \n",
      "---  ------                             --------------  -----  \n",
      " 0   game_date                          10609 non-null  object \n",
      " 1   season_year                        10609 non-null  int64  \n",
      " 2   team_name                          10609 non-null  object \n",
      " 3   opp_team_name                      10609 non-null  object \n",
      " 4   venue                              10609 non-null  object \n",
      " 5   period                             10609 non-null  int64  \n",
      " 6   clock_seconds                      10609 non-null  int64  \n",
      " 7   situation_type                     10609 non-null  object \n",
      " 8   goals_for                          10609 non-null  int64  \n",
      " 9   goals_against                      10609 non-null  int64  \n",
      " 10  player_name                        10609 non-null  object \n",
      " 11  event                              10609 non-null  object \n",
      " 12  event_successful                   10609 non-null  bool   \n",
      " 13  x_coord                            10609 non-null  int64  \n",
      " 14  y_coord                            10609 non-null  int64  \n",
      " 15  event_type                         6221 non-null   object \n",
      " 16  player_name_2                      5512 non-null   object \n",
      " 17  x_coord_2                          4392 non-null   float64\n",
      " 18  y_coord_2                          4392 non-null   float64\n",
      " 19  event_detail_1                     709 non-null    object \n",
      " 20  event_detail_2                     10609 non-null  bool   \n",
      " 21  event_detail_3                     10609 non-null  bool   \n",
      " 22  frame_id_1                         1246 non-null   float64\n",
      " 23  frame_id_2                         476 non-null    float64\n",
      " 24  home_team                          10609 non-null  object \n",
      " 25  away_team                          10609 non-null  object \n",
      " 26  is_shot                            10609 non-null  int64  \n",
      " 27  is_goal                            10609 non-null  int64  \n",
      " 28  event_id                           10609 non-null  int8   \n",
      " 29  team_id                            10609 non-null  int8   \n",
      " 30  player_id                          10609 non-null  int8   \n",
      " 31  detail_1_code                      10609 non-null  int8   \n",
      " 32  goal_diff                          10609 non-null  int64  \n",
      " 33  game_seconds_remaining             10609 non-null  float64\n",
      " 34  event_code                         10609 non-null  int8   \n",
      " 35  event_type_code                    10609 non-null  int8   \n",
      " 36  skaters_for                        10609 non-null  int64  \n",
      " 37  skaters_against                    10609 non-null  int64  \n",
      " 38  strength_state                     10609 non-null  int64  \n",
      " 39  distance_to_goal                   10609 non-null  float64\n",
      " 40  angle_to_goal                      10609 non-null  float64\n",
      " 41  prev_event                         10608 non-null  object \n",
      " 42  prev_event_code                    10608 non-null  float64\n",
      " 43  prev_event_type                    6220 non-null   object \n",
      " 44  prev_event_type_code               10608 non-null  float64\n",
      " 45  prev_event_x_coord                 10608 non-null  float64\n",
      " 46  prev_event_y_coord                 10608 non-null  float64\n",
      " 47  prev_event_game_seconds_remaining  10608 non-null  float64\n",
      " 48  prev_event_distance_to_goal        10608 non-null  float64\n",
      " 49  prev_event_angle_to_goal           10608 non-null  float64\n",
      " 50  time_diff_last_event               10608 non-null  float64\n",
      " 51  angle_diff_last_event              10608 non-null  float64\n",
      " 52  distance_diff_last_event           10608 non-null  float64\n",
      "dtypes: bool(3), float64(17), int64(13), int8(6), object(14)\n",
      "memory usage: 3.7+ MB\n"
     ]
    }
   ],
   "source": [
    "df_pbp.info()"
   ]
  },
  {
   "cell_type": "code",
   "execution_count": 234,
   "metadata": {},
   "outputs": [],
   "source": [
    "df_pbp.to_sql('play_by_play', conn, if_exists='replace')"
   ]
  },
  {
   "cell_type": "markdown",
   "metadata": {},
   "source": [
    "### Powerplay Info "
   ]
  },
  {
   "cell_type": "code",
   "execution_count": 235,
   "metadata": {},
   "outputs": [
    {
     "data": {
      "text/plain": [
       "Index(['game_name', 'penalty_number', 'start_video_clock_seconds',\n",
       "       'end_video_clock_seconds', 'start_period', 'end_period',\n",
       "       'start_game_clock_seconds', 'end_game_clock_seconds'],\n",
       "      dtype='object')"
      ]
     },
     "execution_count": 235,
     "metadata": {},
     "output_type": "execute_result"
    }
   ],
   "source": [
    "df_pp_info.columns"
   ]
  },
  {
   "cell_type": "code",
   "execution_count": 236,
   "metadata": {},
   "outputs": [
    {
     "data": {
      "text/html": [
       "<div>\n",
       "<style scoped>\n",
       "    .dataframe tbody tr th:only-of-type {\n",
       "        vertical-align: middle;\n",
       "    }\n",
       "\n",
       "    .dataframe tbody tr th {\n",
       "        vertical-align: top;\n",
       "    }\n",
       "\n",
       "    .dataframe thead th {\n",
       "        text-align: right;\n",
       "    }\n",
       "</style>\n",
       "<table border=\"1\" class=\"dataframe\">\n",
       "  <thead>\n",
       "    <tr style=\"text-align: right;\">\n",
       "      <th></th>\n",
       "      <th>game_name</th>\n",
       "      <th>penalty_number</th>\n",
       "      <th>start_video_clock_seconds</th>\n",
       "      <th>end_video_clock_seconds</th>\n",
       "      <th>start_period</th>\n",
       "      <th>end_period</th>\n",
       "      <th>start_game_clock_seconds</th>\n",
       "      <th>end_game_clock_seconds</th>\n",
       "    </tr>\n",
       "  </thead>\n",
       "  <tbody>\n",
       "    <tr>\n",
       "      <th>0</th>\n",
       "      <td>2022-02-08 Canada at USA</td>\n",
       "      <td>1</td>\n",
       "      <td>1278</td>\n",
       "      <td>1314</td>\n",
       "      <td>1</td>\n",
       "      <td>1</td>\n",
       "      <td>386</td>\n",
       "      <td>350</td>\n",
       "    </tr>\n",
       "    <tr>\n",
       "      <th>1</th>\n",
       "      <td>2022-02-08 Canada at USA</td>\n",
       "      <td>2</td>\n",
       "      <td>1624</td>\n",
       "      <td>1744</td>\n",
       "      <td>1</td>\n",
       "      <td>1</td>\n",
       "      <td>216</td>\n",
       "      <td>96</td>\n",
       "    </tr>\n",
       "    <tr>\n",
       "      <th>2</th>\n",
       "      <td>2022-02-08 Canada at USA</td>\n",
       "      <td>3</td>\n",
       "      <td>409</td>\n",
       "      <td>562</td>\n",
       "      <td>2</td>\n",
       "      <td>2</td>\n",
       "      <td>991</td>\n",
       "      <td>871</td>\n",
       "    </tr>\n",
       "    <tr>\n",
       "      <th>3</th>\n",
       "      <td>2022-02-08 Canada at USA</td>\n",
       "      <td>4</td>\n",
       "      <td>898</td>\n",
       "      <td>898</td>\n",
       "      <td>2</td>\n",
       "      <td>2</td>\n",
       "      <td>613</td>\n",
       "      <td>613</td>\n",
       "    </tr>\n",
       "    <tr>\n",
       "      <th>4</th>\n",
       "      <td>2022-02-08 Canada at USA</td>\n",
       "      <td>5</td>\n",
       "      <td>1690</td>\n",
       "      <td>1927</td>\n",
       "      <td>2</td>\n",
       "      <td>2</td>\n",
       "      <td>272</td>\n",
       "      <td>152</td>\n",
       "    </tr>\n",
       "  </tbody>\n",
       "</table>\n",
       "</div>"
      ],
      "text/plain": [
       "                  game_name  penalty_number  start_video_clock_seconds  \\\n",
       "0  2022-02-08 Canada at USA               1                       1278   \n",
       "1  2022-02-08 Canada at USA               2                       1624   \n",
       "2  2022-02-08 Canada at USA               3                        409   \n",
       "3  2022-02-08 Canada at USA               4                        898   \n",
       "4  2022-02-08 Canada at USA               5                       1690   \n",
       "\n",
       "   end_video_clock_seconds  start_period  end_period  \\\n",
       "0                     1314             1           1   \n",
       "1                     1744             1           1   \n",
       "2                      562             2           2   \n",
       "3                      898             2           2   \n",
       "4                     1927             2           2   \n",
       "\n",
       "   start_game_clock_seconds  end_game_clock_seconds  \n",
       "0                       386                     350  \n",
       "1                       216                      96  \n",
       "2                       991                     871  \n",
       "3                       613                     613  \n",
       "4                       272                     152  "
      ]
     },
     "execution_count": 236,
     "metadata": {},
     "output_type": "execute_result"
    }
   ],
   "source": [
    "df_pp_info.head()"
   ]
  },
  {
   "cell_type": "code",
   "execution_count": 237,
   "metadata": {},
   "outputs": [],
   "source": [
    "df_pp_info.loc[df_pp_info['start_period'] == 1,'start_game_seconds_remaining'] = 2400 + df_pp_info.loc[df_pp_info['start_period'] == 1,'start_game_clock_seconds'] \n",
    "df_pp_info.loc[df_pp_info['start_period'] == 2,'start_game_seconds_remaining'] = 1200 + df_pp_info.loc[df_pp_info['start_period'] == 2,'start_game_clock_seconds']\n",
    "df_pp_info.loc[df_pp_info['start_period'] == 3,'start_game_seconds_remaining'] = df_pp_info.loc[df_pp_info['start_period'] == 3,'end_game_clock_seconds']\n",
    "df_pp_info.loc[df_pp_info['end_period'] == 1,'end_game_seconds_remaining'] = 2400 + df_pp_info.loc[df_pp_info['end_period'] == 1,'end_game_clock_seconds'] \n",
    "df_pp_info.loc[df_pp_info['end_period'] == 2,'end_game_seconds_remaining'] = 1200 + df_pp_info.loc[df_pp_info['end_period'] == 2,'end_game_clock_seconds']\n",
    "df_pp_info.loc[df_pp_info['end_period'] == 3,'end_game_seconds_remaining'] = df_pp_info.loc[df_pp_info['end_period'] == 3,'end_game_clock_seconds']"
   ]
  },
  {
   "cell_type": "code",
   "execution_count": 238,
   "metadata": {},
   "outputs": [],
   "source": [
    "df_pp_info.to_sql('powerplay_info', conn, if_exists='replace')"
   ]
  },
  {
   "cell_type": "markdown",
   "metadata": {},
   "source": [
    "### tracking data "
   ]
  },
  {
   "cell_type": "code",
   "execution_count": 239,
   "metadata": {},
   "outputs": [],
   "source": [
    "bucketless_games = [x for x in os.listdir('{}'.format(bucketless_data_dir)) if x.startswith('2022')]"
   ]
  },
  {
   "cell_type": "code",
   "execution_count": 240,
   "metadata": {},
   "outputs": [],
   "source": [
    "tracking_games = [x for x in os.listdir('{}'.format(tracking_data_dir)) if bool(re.search('\\d{4}', x))]"
   ]
  },
  {
   "cell_type": "code",
   "execution_count": 241,
   "metadata": {},
   "outputs": [],
   "source": [
    "for game in tracking_games:\n",
    "    if game in bucketless_games:\n",
    "        df_tracking = pd.read_csv(\"{}/{}/{} P1 PP1.csv\".format(bucketless_data_dir, game, game))\n",
    "        game_date, away_team, _, home_team = game.split(' ')\n",
    "        df_tracking.loc[df_tracking['period'] == 1,'game_seconds'] = 2400 + df_tracking.loc[df_tracking['period'] == 1,'game_seconds'] \n",
    "        df_tracking.loc[df_tracking['period'] == 2,'game_seconds'] = 1200 + df_tracking.loc[df_tracking['period'] == 2,'game_seconds']\n",
    "        df_tracking['venue'] = df_tracking['team_name'].map({home_team: 'home', away_team: 'away'})\n",
    "        df_roster = pd.read_csv('{}/{}/{} roster.csv'.format(tracking_data_dir, game, game))\n",
    "        df_roster = df_roster.rename(columns={'jn': 'jersey_number', 'team':'venue'})\n",
    "        df_tracking = df_tracking.merge(df_roster, on=['venue','jersey_number'],how=\"left\")\n",
    "        df_tracking = df_tracking.rename(columns={'x_ft': \"x_coord\", 'y_ft': \"y_coord\"})\n",
    "        df_pp_info.to_sql('tracking', conn, if_exists='append')\n"
   ]
  },
  {
   "cell_type": "markdown",
   "metadata": {},
   "source": [
    "### old Event data as training data"
   ]
  },
  {
   "cell_type": "code",
   "execution_count": 242,
   "metadata": {},
   "outputs": [],
   "source": [
    "df_pbp_2021_womens = pd.read_csv(\"{}/hackathon_womens.csv\".format(data_dir))\n",
    "df_pbp_2021_nwhl = pd.read_csv(\"{}/hackathon_nwhl.csv\".format(data_dir))\n",
    "df_pbp_2021_womens = df_pbp_2021_womens.append(df_pbp_2021_nwhl, ignore_index=True)\n"
   ]
  },
  {
   "cell_type": "code",
   "execution_count": 243,
   "metadata": {},
   "outputs": [],
   "source": [
    "df_pbp_2021_womens.columns = df_pbp_2021_womens.columns.str.lower().str.replace(' ', '_')\n",
    "df_pbp_2021_womens = df_pbp_2021_womens.rename(columns={'x_coordinate': 'x_coord', 'y_coordinate': 'y_coord'})"
   ]
  },
  {
   "cell_type": "code",
   "execution_count": 244,
   "metadata": {},
   "outputs": [],
   "source": [
    "df_pbp_2021_womens['game_id'] = df_pbp_2021_womens.loc[:, ['game_date', 'home_team', 'away_team']].sum(axis=1).astype('category').cat.codes\n",
    "df_pbp_2021_womens['event_id'] = df_pbp_2021_womens['event'].astype('category').cat.codes\n",
    "df_pbp_2021_womens['team_id'] = df_pbp_2021_womens['team'].astype('category').cat.codes\n",
    "df_pbp_2021_womens['player_id'] = df_pbp_2021_womens['player'].astype('category').cat.codes\n",
    "df_pbp_2021_womens['is_shot'] = 0\n",
    "df_pbp_2021_womens['is_goal'] = 0\n",
    "for x in range(1,5):\n",
    "    df_pbp_2021_womens[f'detail_{x}_code'] = df_pbp_2021_womens[f'detail_{x}'].astype('category').cat.codes\n",
    "df_pbp_2021_womens.loc[df_pbp_2021_womens['home_team'] == df_pbp_2021_womens['team'], 'is_home'] = 1\n",
    "df_pbp_2021_womens.loc[df_pbp_2021_womens['event']=='Shot', 'is_shot'] = 1\n",
    "df_pbp_2021_womens.loc[df_pbp_2021_womens['event']=='Goal', 'is_goal'] = 1\n",
    "df_pbp_2021_womens['goal_diff'] = df_pbp_2021_womens['home_team_goals'].sub(df_pbp_2021_womens['away_team_goals'])\n",
    "df_pbp_2021_womens['clock'] = pd.to_datetime(df_pbp_2021_womens['clock'], format='%M:%S')\n",
    "df_pbp_2021_womens['game_seconds_remaining'] = df_pbp_2021_womens['clock'].dt.minute.mul(60).add(df_pbp_2021_womens['clock'].dt.second)\n",
    "\n",
    "df_pbp_2021_womens['event_code'] = df_pbp_2021_womens['event'].astype('category').cat.codes\n",
    "df_pbp_2021_womens['detail_1_code'] = df_pbp_2021_womens['detail_1'].astype('category').cat.codes\n"
   ]
  },
  {
   "cell_type": "code",
   "execution_count": 245,
   "metadata": {},
   "outputs": [],
   "source": [
    "df_pbp_2021_womens.loc[df_pbp_2021_womens['team']==df_pbp_2021_womens['home_team'],'strength_state'] = df_pbp_2021_womens.loc[df_pbp_2021_womens['team']==df_pbp_2021_womens['home_team'],'home_team_skaters'].sub(df_pbp_2021_womens.loc[df_pbp_2021_womens['team']==df_pbp_2021_womens['home_team'],'away_team_skaters'])\n",
    "df_pbp_2021_womens.loc[df_pbp_2021_womens['team']==df_pbp_2021_womens['away_team'],'strength_state'] = df_pbp_2021_womens.loc[df_pbp_2021_womens['team']==df_pbp_2021_womens['away_team'],'away_team_skaters'].sub(df_pbp_2021_womens.loc[df_pbp_2021_womens['team']==df_pbp_2021_womens['away_team'],'home_team_skaters'])"
   ]
  },
  {
   "cell_type": "code",
   "execution_count": 246,
   "metadata": {},
   "outputs": [],
   "source": [
    "# calculating angles and distances to the goal\n",
    "diff_2021_x1 = GOAL_X - df_pbp_2021_womens['x_coord']\n",
    "diff_2021_x1 = diff_2021_x1.astype(float)\n",
    "diff_2021_y1 = abs(GOAL_Y - df_pbp_2021_womens['y_coord'])\n",
    "\n",
    "df_pbp_2021_womens['distance_to_goal'] = np.sqrt(diff_2021_x1 ** 2 + diff_2021_y1 ** 2)\n",
    "df_pbp_2021_womens['angle_to_goal'] = np.divide(diff_2021_x1, diff_2021_y1,out=np.zeros_like(diff_2021_x1),where=(diff_2021_y1 != 0))\n",
    "\n",
    "# getting the information about the previous event\n",
    "df_pbp_2021_womens[['prev_event','prev_event_code','prev_event_type','prev_event_type_code','prev_event_x_coord','prev_event_y_coord','prev_event_game_seconds_remaining','prev_event_distance_to_goal','prev_event_angle_to_goal']] = df_pbp_2021_womens[['event','event_code','detail_1','detail_1_code','x_coord', 'y_coord', 'game_seconds_remaining', 'distance_to_goal', 'angle_to_goal']].shift(1)\n",
    "df_pbp_2021_womens['time_diff_last_event'] = df_pbp_2021_womens['game_seconds_remaining'] - df_pbp_2021_womens['prev_event_game_seconds_remaining']\n",
    "df_pbp_2021_womens['angle_diff_last_event'] = df_pbp_2021_womens['angle_to_goal'] - df_pbp_2021_womens['prev_event_angle_to_goal']\n",
    "df_pbp_2021_womens['distance_diff_last_event'] = df_pbp_2021_womens['distance_to_goal'] - df_pbp_2021_womens['prev_event_distance_to_goal']"
   ]
  },
  {
   "cell_type": "code",
   "execution_count": 247,
   "metadata": {},
   "outputs": [],
   "source": [
    "df_pbp_2021_womens.to_sql('pbp_training', conn, if_exists='replace')"
   ]
  },
  {
   "cell_type": "code",
   "execution_count": 248,
   "metadata": {},
   "outputs": [
    {
     "data": {
      "text/plain": [
       "array([nan, 'Backhand', 'Retained', 'Dumped', 'Indirect', 'Direct',\n",
       "       'Carried', 'Lost', 'Played', 'Snapshot', 'Fan', 'Cross-checking',\n",
       "       'Slapshot', 'Wristshot', 'Deflection', 'Forehand', 'Tripping',\n",
       "       'Wrap Around', 'Roughing', 'Holding', 'Delay of game', 'Slashing',\n",
       "       'Too many men on the ice', 'Interference', 'Closing hand on puck',\n",
       "       'Hooking', 'Goalkeeper interference', 'Boarding', 'High-sticking',\n",
       "       'Charging', 'Illegal Check to the Head', 'Game Misconduct', 'Feet',\n",
       "       'Elbowing', 'Unsportsmanlike conduct', 'Face-off violation',\n",
       "       'Holding the stick'], dtype=object)"
      ]
     },
     "execution_count": 248,
     "metadata": {},
     "output_type": "execute_result"
    }
   ],
   "source": [
    "df_pbp_2021_womens['prev_event_type'].unique()"
   ]
  },
  {
   "cell_type": "code",
   "execution_count": 249,
   "metadata": {},
   "outputs": [
    {
     "data": {
      "text/plain": [
       "(array(['Backhand', nan, 'Dumped', 'Indirect', 'Direct', 'Slapshot',\n",
       "        'Snapshot', 'Carried', 'Fan', 'Played', 'Wristshot', 'Deflection',\n",
       "        'Forehand', 'Cross-checking', 'Hooking', 'Boarding',\n",
       "        'Interference', 'Wrap Around', 'Unsportsmanlike conduct',\n",
       "        'Tripping', 'Roughing', 'Holding', 'Slashing', 'High-sticking',\n",
       "        'Feet', 'Checking from behind', 'Goalkeeper interference',\n",
       "        'Too many men on the ice'], dtype=object),\n",
       " array([nan, 'Backhand', 'Dumped', 'Indirect', 'Direct', 'Slapshot',\n",
       "        'Snapshot', 'Carried', 'Fan', 'Played', 'Wristshot', 'Deflection',\n",
       "        'Forehand', 'Cross-checking', 'Hooking', 'Boarding',\n",
       "        'Interference', 'Wrap Around', 'Unsportsmanlike conduct',\n",
       "        'Tripping', 'Roughing', 'Holding', 'Slashing', 'High-sticking',\n",
       "        'Feet', 'Checking from behind', 'Goalkeeper interference',\n",
       "        'Too many men on the ice'], dtype=object))"
      ]
     },
     "execution_count": 249,
     "metadata": {},
     "output_type": "execute_result"
    }
   ],
   "source": [
    "df_pbp['event_type'].unique(), df_pbp['prev_event_type'].unique()"
   ]
  },
  {
   "cell_type": "code",
   "execution_count": 250,
   "metadata": {},
   "outputs": [
    {
     "data": {
      "text/plain": [
       "(array(['Faceoff Win', 'Puck Recovery', 'Dump In/Out', 'Zone Entry',\n",
       "        'Play', 'Shot', 'Takeaway', 'Penalty Taken'], dtype=object),\n",
       " array([nan, 'Faceoff Win', 'Puck Recovery', 'Dump In/Out', 'Zone Entry',\n",
       "        'Play', 'Shot', 'Takeaway', 'Penalty Taken'], dtype=object))"
      ]
     },
     "execution_count": 250,
     "metadata": {},
     "output_type": "execute_result"
    }
   ],
   "source": [
    "df_pbp['event'].unique(), df_pbp['prev_event'].unique()"
   ]
  },
  {
   "cell_type": "code",
   "execution_count": 251,
   "metadata": {},
   "outputs": [
    {
     "data": {
      "text/plain": [
       "(array(['Faceoff Win', 'Puck Recovery', 'Dump In/Out', 'Zone Entry',\n",
       "        'Play', 'Takeaway', 'Incomplete Play', 'Shot', 'Penalty Taken',\n",
       "        'Goal'], dtype=object),\n",
       " array([nan, 'Faceoff Win', 'Puck Recovery', 'Dump In/Out', 'Zone Entry',\n",
       "        'Play', 'Takeaway', 'Incomplete Play', 'Shot', 'Penalty Taken',\n",
       "        'Goal'], dtype=object))"
      ]
     },
     "execution_count": 251,
     "metadata": {},
     "output_type": "execute_result"
    }
   ],
   "source": [
    "df_pbp_2021_womens['event'].unique(), df_pbp_2021_womens['prev_event'].unique()"
   ]
  }
 ],
 "metadata": {
  "interpreter": {
   "hash": "aee8b7b246df8f9039afb4144a1f6fd8d2ca17a180786b69acc140d282b71a49"
  },
  "kernelspec": {
   "display_name": "Python 3.9.10 64-bit",
   "language": "python",
   "name": "python3"
  },
  "language_info": {
   "codemirror_mode": {
    "name": "ipython",
    "version": 3
   },
   "file_extension": ".py",
   "mimetype": "text/x-python",
   "name": "python",
   "nbconvert_exporter": "python",
   "pygments_lexer": "ipython3",
   "version": "3.9.10"
  },
  "orig_nbformat": 4
 },
 "nbformat": 4,
 "nbformat_minor": 2
}
