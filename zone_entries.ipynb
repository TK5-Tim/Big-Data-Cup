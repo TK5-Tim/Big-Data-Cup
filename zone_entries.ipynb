{
 "metadata": {
  "language_info": {
   "codemirror_mode": {
    "name": "ipython",
    "version": 3
   },
   "file_extension": ".py",
   "mimetype": "text/x-python",
   "name": "python",
   "nbconvert_exporter": "python",
   "pygments_lexer": "ipython3",
   "version": "3.9.1-final"
  },
  "orig_nbformat": 2,
  "kernelspec": {
   "name": "python3",
   "display_name": "Python 3.9.1 64-bit",
   "metadata": {
    "interpreter": {
     "hash": "aee8b7b246df8f9039afb4144a1f6fd8d2ca17a180786b69acc140d282b71a49"
    }
   }
  }
 },
 "nbformat": 4,
 "nbformat_minor": 2,
 "cells": [
  {
   "cell_type": "code",
   "execution_count": 73,
   "metadata": {},
   "outputs": [],
   "source": [
    "import pandas as pd\n",
    "from tqdm.notebook import tqdm\n",
    "import numpy as np\n",
    "\n",
    "from sklearn.model_selection import KFold\n",
    "from sklearn.metrics import log_loss, accuracy_score, mean_squared_error\n",
    "from scipy.stats import pearsonr, spearmanr\n",
    "from sklearn.linear_model import LinearRegression, LogisticRegression\n",
    "from sklearn.ensemble import RandomForestRegressor, RandomForestClassifier\n",
    "import lightgbm as lgb"
   ]
  },
  {
   "cell_type": "code",
   "execution_count": 74,
   "metadata": {},
   "outputs": [],
   "source": [
    "project_dir = '/Users/keltim01/git_repos/TK5/Data/Big-Data-Cup-2021/'"
   ]
  },
  {
   "cell_type": "code",
   "execution_count": 75,
   "metadata": {},
   "outputs": [],
   "source": [
    "womens = pd.read_csv(project_dir + 'hackathon_womens.csv')\n",
    "nwhl = pd.read_csv(project_dir + 'hackathon_nwhl.csv')"
   ]
  },
  {
   "cell_type": "code",
   "execution_count": null,
   "metadata": {},
   "outputs": [],
   "source": []
  },
  {
   "cell_type": "code",
   "execution_count": 76,
   "metadata": {},
   "outputs": [],
   "source": [
    "womens = womens.append(nwhl, ignore_index=True)"
   ]
  },
  {
   "cell_type": "code",
   "execution_count": 77,
   "metadata": {},
   "outputs": [],
   "source": [
    "womens['game_id'] = womens.loc[:, ['game_date', 'Home Team', 'Away Team']].sum(axis=1).astype('category').cat.codes\n",
    "womens['is_home'] = 0 \n",
    "womens['is_shot'] = 0\n",
    "womens['is_goal'] = 0\n",
    "womens['event_id'] = womens['Event'].astype('category').cat.codes\n",
    "womens['team_id'] = womens['Team'].astype('category').cat.codes\n",
    "womens['player_id'] = womens['Player'].astype('category').cat.codes\n",
    "\n",
    "for x in range(1,5):\n",
    "    womens[f'Detail {x}_code'] = womens[f'Detail {x}'].astype('category').cat.codes\n",
    "womens.loc[womens['Home Team'] == womens['Team'], 'is_home'] = 1\n",
    "womens.loc[womens['Event']=='Shot', 'is_shot'] = 1\n",
    "womens.loc[womens['Event']=='Goal', 'is_goal'] = 1\n",
    "womens['goal_diff'] = womens['Home Team Goals'].sub(womens['Away Team Goals'])\n",
    "womens['Clock'] = pd.to_datetime(womens['Clock'], format='%M:%S')\n",
    "womens['seconds_remaining'] = womens['Clock'].dt.minute.mul(60).add(womens['Clock'].dt.second)"
   ]
  },
  {
   "cell_type": "code",
   "execution_count": 78,
   "metadata": {},
   "outputs": [],
   "source": [
    "PITCH_LENGTH = 200\n",
    "PITCH_WIDTH = 85 \n",
    "action_id = 5\n",
    "GOAL_X = PITCH_LENGTH - 10 \n",
    "GOAL_Y = PITCH_WIDTH / 2"
   ]
  },
  {
   "cell_type": "code",
   "execution_count": 79,
   "metadata": {},
   "outputs": [],
   "source": [
    "diff_x1 = GOAL_X - womens['X Coordinate']\n",
    "diff_y1 = abs(GOAL_Y - womens['Y Coordinate'])\n",
    "diff_x2 = GOAL_X - womens['X Coordinate 2']\n",
    "diff_y2 = abs(GOAL_Y - womens['Y Coordinate 2'])\n",
    "womens['start_distance_to_goal'] = np.sqrt(diff_x1 ** 2 + diff_y1 ** 2)\n",
    "womens['end_distance_to_goal'] = np.sqrt(diff_x2 ** 2 + diff_y2 ** 2)\n",
    "womens['diff_x'] = womens['X Coordinate 2'] - womens['X Coordinate']\n",
    "womens['diff_y'] = womens['Y Coordinate 2'] - womens['Y Coordinate']\n",
    "womens['distance_covered'] = np.sqrt((womens['X Coordinate 2'] - womens['X Coordinate']) ** 2 + (womens['Y Coordinate 2'] - womens['Y Coordinate']) ** 2)"
   ]
  },
  {
   "cell_type": "code",
   "execution_count": 80,
   "metadata": {},
   "outputs": [
    {
     "output_type": "execute_result",
     "data": {
      "text/plain": [
       "array(['Olympic (Women) - Canada',\n",
       "       'Olympic (Women) - Olympic Athletes from Russia',\n",
       "       'Olympic (Women) - Finland', 'Olympic (Women) - United States',\n",
       "       'St. Lawrence Saints', 'Clarkson Golden Knights', 'Boston Pride',\n",
       "       'Minnesota Whitecaps', 'Connecticut Whale', 'Buffalo Beauts',\n",
       "       'Toronto Six', 'Metropolitan Riveters'], dtype=object)"
      ]
     },
     "metadata": {},
     "execution_count": 80
    }
   ],
   "source": [
    "womens['Team'].unique()"
   ]
  },
  {
   "source": [
    "## Labels"
   ],
   "cell_type": "markdown",
   "metadata": {}
  },
  {
   "cell_type": "code",
   "execution_count": 81,
   "metadata": {},
   "outputs": [],
   "source": [
    "goals = womens['Event'].str.contains('Goal')\n",
    "y = pd.concat([womens.loc[:, 'is_goal'], womens.loc[:,'team_id']], axis = 1)\n",
    "y.columns = ['goal','team_id']\n",
    "for i in range(1, 10):\n",
    "    for col in ['team_id', 'goal']:\n",
    "        shifted = y[col].shift(-i)\n",
    "        shifted[-i:] = y[col][len(y) - 1]\n",
    "        y[f'{col}+{i}'] = shifted.astype(int)\n",
    "\n",
    "scores = y['goal']\n",
    "concedes = y['goal']\n",
    "for i in range(1, 10):\n",
    "    goal_scored = y[f'goal+{i}'] & (y[f'team_id+{i}'] == y['team_id'])\n",
    "    goal_opponent = y[f'goal+{i}'] & (y[f'team_id+{i}'] != y['team_id'])\n",
    "    scores = scores | goal_scored\n",
    "    concedes = concedes | goal_opponent\n",
    "label_scores = pd.DataFrame(scores, columns=['scores'])\n",
    "label_concedes = pd.DataFrame(concedes, columns=['concedes'])    "
   ]
  },
  {
   "cell_type": "code",
   "execution_count": 82,
   "metadata": {},
   "outputs": [],
   "source": [
    "df_labels = pd.concat([label_scores, label_concedes], axis=1)"
   ]
  },
  {
   "source": [
    "## Features "
   ],
   "cell_type": "markdown",
   "metadata": {}
  },
  {
   "cell_type": "code",
   "execution_count": 83,
   "metadata": {},
   "outputs": [],
   "source": [
    "features = ['team_id','Period', 'Home Team Skaters', 'Away Team Skaters', 'X Coordinate',\n",
    "       'Y Coordinate', 'X Coordinate 2', 'Y Coordinate 2', 'is_home', 'event_id', 'Detail 1_code', 'Detail 2_code', 'Detail 3_code', 'Detail 4_code',\n",
    "       'goal_diff', 'seconds_remaining','diff_x', 'diff_y', 'distance_covered']"
   ]
  },
  {
   "cell_type": "code",
   "execution_count": 84,
   "metadata": {},
   "outputs": [
    {
     "output_type": "execute_result",
     "data": {
      "text/plain": [
       "Index(['game_date', 'Home Team', 'Away Team', 'Period', 'Clock',\n",
       "       'Home Team Skaters', 'Away Team Skaters', 'Home Team Goals',\n",
       "       'Away Team Goals', 'Team', 'Player', 'Event', 'X Coordinate',\n",
       "       'Y Coordinate', 'Detail 1', 'Detail 2', 'Detail 3', 'Detail 4',\n",
       "       'Player 2', 'X Coordinate 2', 'Y Coordinate 2', 'game_id', 'is_home',\n",
       "       'is_shot', 'is_goal', 'event_id', 'team_id', 'player_id',\n",
       "       'Detail 1_code', 'Detail 2_code', 'Detail 3_code', 'Detail 4_code',\n",
       "       'goal_diff', 'seconds_remaining', 'start_distance_to_goal',\n",
       "       'end_distance_to_goal', 'diff_x', 'diff_y', 'distance_covered'],\n",
       "      dtype='object')"
      ]
     },
     "metadata": {},
     "execution_count": 84
    }
   ],
   "source": [
    "womens.columns"
   ]
  },
  {
   "cell_type": "code",
   "execution_count": 85,
   "metadata": {},
   "outputs": [
    {
     "output_type": "execute_result",
     "data": {
      "text/plain": [
       "       start_distance_to_goal  end_distance_to_goal  diff_x  diff_y  \\\n",
       "0                   90.001389                   NaN     NaN     NaN   \n",
       "1                  101.986519                   NaN     NaN     NaN   \n",
       "2                   92.402651                   NaN     NaN     NaN   \n",
       "3                   92.402651                   NaN     NaN     NaN   \n",
       "4                   46.970736                   NaN     NaN     NaN   \n",
       "...                       ...                   ...     ...     ...   \n",
       "50879              182.937831                   NaN     NaN     NaN   \n",
       "50880              182.937831            165.774697    21.0    21.0   \n",
       "50881              161.425679                   NaN     NaN     NaN   \n",
       "50882               69.615013                   NaN     NaN     NaN   \n",
       "50883               69.615013             50.569259    23.0     2.0   \n",
       "\n",
       "       distance_covered  \n",
       "0                   NaN  \n",
       "1                   NaN  \n",
       "2                   NaN  \n",
       "3                   NaN  \n",
       "4                   NaN  \n",
       "...                 ...  \n",
       "50879               NaN  \n",
       "50880         29.698485  \n",
       "50881               NaN  \n",
       "50882               NaN  \n",
       "50883         23.086793  \n",
       "\n",
       "[50884 rows x 5 columns]"
      ],
      "text/html": "<div>\n<style scoped>\n    .dataframe tbody tr th:only-of-type {\n        vertical-align: middle;\n    }\n\n    .dataframe tbody tr th {\n        vertical-align: top;\n    }\n\n    .dataframe thead th {\n        text-align: right;\n    }\n</style>\n<table border=\"1\" class=\"dataframe\">\n  <thead>\n    <tr style=\"text-align: right;\">\n      <th></th>\n      <th>start_distance_to_goal</th>\n      <th>end_distance_to_goal</th>\n      <th>diff_x</th>\n      <th>diff_y</th>\n      <th>distance_covered</th>\n    </tr>\n  </thead>\n  <tbody>\n    <tr>\n      <th>0</th>\n      <td>90.001389</td>\n      <td>NaN</td>\n      <td>NaN</td>\n      <td>NaN</td>\n      <td>NaN</td>\n    </tr>\n    <tr>\n      <th>1</th>\n      <td>101.986519</td>\n      <td>NaN</td>\n      <td>NaN</td>\n      <td>NaN</td>\n      <td>NaN</td>\n    </tr>\n    <tr>\n      <th>2</th>\n      <td>92.402651</td>\n      <td>NaN</td>\n      <td>NaN</td>\n      <td>NaN</td>\n      <td>NaN</td>\n    </tr>\n    <tr>\n      <th>3</th>\n      <td>92.402651</td>\n      <td>NaN</td>\n      <td>NaN</td>\n      <td>NaN</td>\n      <td>NaN</td>\n    </tr>\n    <tr>\n      <th>4</th>\n      <td>46.970736</td>\n      <td>NaN</td>\n      <td>NaN</td>\n      <td>NaN</td>\n      <td>NaN</td>\n    </tr>\n    <tr>\n      <th>...</th>\n      <td>...</td>\n      <td>...</td>\n      <td>...</td>\n      <td>...</td>\n      <td>...</td>\n    </tr>\n    <tr>\n      <th>50879</th>\n      <td>182.937831</td>\n      <td>NaN</td>\n      <td>NaN</td>\n      <td>NaN</td>\n      <td>NaN</td>\n    </tr>\n    <tr>\n      <th>50880</th>\n      <td>182.937831</td>\n      <td>165.774697</td>\n      <td>21.0</td>\n      <td>21.0</td>\n      <td>29.698485</td>\n    </tr>\n    <tr>\n      <th>50881</th>\n      <td>161.425679</td>\n      <td>NaN</td>\n      <td>NaN</td>\n      <td>NaN</td>\n      <td>NaN</td>\n    </tr>\n    <tr>\n      <th>50882</th>\n      <td>69.615013</td>\n      <td>NaN</td>\n      <td>NaN</td>\n      <td>NaN</td>\n      <td>NaN</td>\n    </tr>\n    <tr>\n      <th>50883</th>\n      <td>69.615013</td>\n      <td>50.569259</td>\n      <td>23.0</td>\n      <td>2.0</td>\n      <td>23.086793</td>\n    </tr>\n  </tbody>\n</table>\n<p>50884 rows × 5 columns</p>\n</div>"
     },
     "metadata": {},
     "execution_count": 85
    }
   ],
   "source": [
    "womens[['start_distance_to_goal','end_distance_to_goal','diff_x','diff_y','distance_covered']]"
   ]
  },
  {
   "cell_type": "code",
   "execution_count": 86,
   "metadata": {},
   "outputs": [],
   "source": [
    "for step in range(0,3):\n",
    "    df_features[f'team-{step}'] = df_features['team_id-0'] == df_features[f'team_id-{step}']"
   ]
  },
  {
   "cell_type": "code",
   "execution_count": 90,
   "metadata": {},
   "outputs": [
    {
     "output_type": "execute_result",
     "data": {
      "text/plain": [
       "Index(['team_id-0', 'Period-0', 'Home Team Skaters-0', 'Away Team Skaters-0',\n",
       "       'X Coordinate-0', 'Y Coordinate-0', 'X Coordinate 2-0',\n",
       "       'Y Coordinate 2-0', 'is_home-0', 'event_id-0', 'Detail 1_code-0',\n",
       "       'Detail 2_code-0', 'Detail 3_code-0', 'Detail 4_code-0', 'goal_diff-0',\n",
       "       'seconds_remaining-0', 'diff_x-0', 'diff_y-0', 'distance_covered-0',\n",
       "       'team_id-1', 'Period-1', 'Home Team Skaters-1', 'Away Team Skaters-1',\n",
       "       'X Coordinate-1', 'Y Coordinate-1', 'X Coordinate 2-1',\n",
       "       'Y Coordinate 2-1', 'is_home-1', 'event_id-1', 'Detail 1_code-1',\n",
       "       'Detail 2_code-1', 'Detail 3_code-1', 'Detail 4_code-1', 'goal_diff-1',\n",
       "       'seconds_remaining-1', 'diff_x-1', 'diff_y-1', 'distance_covered-1',\n",
       "       'team_id-2', 'Period-2', 'Home Team Skaters-2', 'Away Team Skaters-2',\n",
       "       'X Coordinate-2', 'Y Coordinate-2', 'X Coordinate 2-2',\n",
       "       'Y Coordinate 2-2', 'is_home-2', 'event_id-2', 'Detail 1_code-2',\n",
       "       'Detail 2_code-2', 'Detail 3_code-2', 'Detail 4_code-2', 'goal_diff-2',\n",
       "       'seconds_remaining-2', 'diff_x-2', 'diff_y-2', 'distance_covered-2',\n",
       "       'team-0', 'team-1', 'team-2', 'start_distance_to_goal-0',\n",
       "       'end_distance_to_goal-0', 'start_distance_to_goal-1',\n",
       "       'end_distance_to_goal-1', 'start_distance_to_goal-2',\n",
       "       'end_distance_to_goal-2', 'xdiff_sequenc_pre', 'ydiff_sequenc_pre'],\n",
       "      dtype='object')"
      ]
     },
     "metadata": {},
     "execution_count": 90
    }
   ],
   "source": [
    "df_features.columns"
   ]
  },
  {
   "cell_type": "code",
   "execution_count": null,
   "metadata": {},
   "outputs": [],
   "source": []
  },
  {
   "cell_type": "code",
   "execution_count": 87,
   "metadata": {},
   "outputs": [],
   "source": [
    "for step in range(0,3):\n",
    "    df_features.loc[~(df_features[f'team-{step}']),f'X Coordinate-{step}'] = PITCH_LENGTH - df_features[f'X Coordinate-{step}']\n",
    "    df_features.loc[~(df_features[f'team-{step}']),f'X Coordinate 2-{step}'] = PITCH_LENGTH - df_features[f'X Coordinate 2-{step}']\n",
    "    df_features.loc[~(df_features[f'team-{step}']),f'Y Coordinate-{step}'] = PITCH_WIDTH - df_features[f'Y Coordinate-{step}']\n",
    "    df_features.loc[~(df_features[f'team-{step}']),f'Y Coordinate 2-{step}'] = PITCH_WIDTH - df_features[f'Y Coordinate 2-{step}']\n",
    "    "
   ]
  },
  {
   "cell_type": "code",
   "execution_count": 88,
   "metadata": {},
   "outputs": [],
   "source": [
    "for step in range(0,3):\n",
    "    start_diff_x = GOAL_X - df_features[f'X Coordinate-{step}']\n",
    "    start_diff_y = abs(GOAL_Y - df_features[f'Y Coordinate-{step}'])\n",
    "    df_features[f'start_distance_to_goal-{step}'] = np.sqrt(start_diff_x ** 2 + start_diff_y ** 2)\n",
    "    end_diff_x = GOAL_X - df_features[f'X Coordinate 2-{step}']\n",
    "    end_diff_y = abs(GOAL_Y - df_features[f'Y Coordinate 2-{step}'])\n",
    "    df_features[f'end_distance_to_goal-{step}'] = np.sqrt(end_diff_x ** 2 + end_diff_y ** 2)\n",
    "    df_features[f'diff_x-{step}'] = df_features[f'X Coordinate 2-{step}'] - df_features[f'X Coordinate-{step}']\n",
    "    df_features[f'diff_y-{step}'] = df_features[f'Y Coordinate 2-{step}'] - df_features[f'Y Coordinate-{step}']\n",
    "    df_features[f'distance_covered-{step}'] = np.sqrt((df_features[f'X Coordinate 2-{step}'] - df_features[f'X Coordinate-{step}']) ** 2 + (df_features[f'Y Coordinate 2-{step}'] - df_features[f'Y Coordinate-{step}']) ** 2)\n",
    "        "
   ]
  },
  {
   "cell_type": "code",
   "execution_count": 91,
   "metadata": {},
   "outputs": [],
   "source": [
    "df_features['xdiff_sequenc_pre'] = df_features['X Coordinate-0'] - df_features['X Coordinate-2']\n",
    "df_features['ydiff_sequenc_pre'] = df_features['Y Coordinate-0'] - df_features['Y Coordinate-2']\n",
    "df_features['time_sequence_pre'] = df_features['seconds_remaining-0'] - df_features['seconds_remaining-2']"
   ]
  },
  {
   "cell_type": "code",
   "execution_count": null,
   "metadata": {},
   "outputs": [],
   "source": []
  },
  {
   "cell_type": "code",
   "execution_count": null,
   "metadata": {},
   "outputs": [],
   "source": []
  }
 ]
}