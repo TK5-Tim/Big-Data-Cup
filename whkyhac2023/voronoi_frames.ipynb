{
 "cells": [
  {
   "cell_type": "code",
   "execution_count": 1,
   "metadata": {},
   "outputs": [],
   "source": [
    "import pandas as pd\n",
    "import sqlite3\n",
    "import os\n",
    "import pandas as pd\n",
    "import numpy as np\n",
    "from tqdm import tqdm\n",
    "import seaborn as sns\n",
    "import matplotlib.pyplot as plt\n",
    "from hockey_rink import IIHFRink\n",
    "from shapely.geometry import Polygon \n",
    "\n",
    "\n",
    "from scipy.spatial import Voronoi, voronoi_plot_2d\n",
    "\n",
    "pd.set_option(\"display.max_columns\", None)\n",
    "pd.set_option(\"display.max_rows\", None)"
   ]
  },
  {
   "cell_type": "code",
   "execution_count": 2,
   "metadata": {},
   "outputs": [],
   "source": [
    "# Data Directory\n",
    "data_dir = \"../../Data/Big-Data-Cup-2021\"\n",
    "bucketless_data_dir = '../../Data/bdc/data'\n",
    "tracking_data_dir = \"{}/TrackingData\".format(data_dir)\n",
    "db_path = '/Users/keltim01/Documents/databases/'\n",
    "\n",
    "#connect to database \n",
    "conn = sqlite3.connect(db_path + 'bdc_2022.db')\n",
    "cursor = conn.cursor()"
   ]
  },
  {
   "cell_type": "code",
   "execution_count": 3,
   "metadata": {},
   "outputs": [],
   "source": [
    "df_pbp_pp = pd.read_sql('SELECT * FROM play_by_play WHERE frame_id_1 IS NOT NULL AND strength_state > 0', conn) "
   ]
  },
  {
   "cell_type": "code",
   "execution_count": 4,
   "metadata": {},
   "outputs": [],
   "source": [
    "# Merging Tracking and Play-by-Play data \n",
    "df_tracking = pd.read_sql('SELECT * FROM tracking', conn)"
   ]
  },
  {
   "cell_type": "code",
   "execution_count": 5,
   "metadata": {},
   "outputs": [],
   "source": [
    "df_pbp_pp['x_coord_adj'] = df_pbp_pp['x_coord'].apply(lambda x: x-100)\n",
    "df_pbp_pp['y_coord_adj'] = df_pbp_pp['y_coord'].apply(lambda x: x-42.5)\n",
    "df_pbp_pp['x_end_coord_adj'] = df_pbp_pp['x_coord_2'].apply(lambda x: x-100)\n",
    "df_pbp_pp['y_end_coord_adj'] = df_pbp_pp['y_coord_2'].apply(lambda x: x-42.5)"
   ]
  },
  {
   "cell_type": "code",
   "execution_count": 6,
   "metadata": {},
   "outputs": [],
   "source": [
    "df_tracking['x_coord_adj'] = df_tracking['x_coord'].apply(lambda x: x-100)\n",
    "df_tracking['y_coord_adj'] = df_tracking['y_coord'].apply(lambda x: x-42.5)"
   ]
  },
  {
   "cell_type": "code",
   "execution_count": 7,
   "metadata": {},
   "outputs": [],
   "source": [
    "df_distance = pd.DataFrame(index=df_pbp_pp.index)\n",
    "dfs_distance = []\n",
    "for index in df_pbp_pp.index:\n",
    "    test_pbp = df_pbp_pp.loc[index]\n",
    "    test_pbp_next = df_pbp_pp.loc[index]\n",
    "    test_tracking = df_tracking[(df_tracking['frame_id'] == test_pbp['frame_id_1']) & (df_tracking['game_id'] == test_pbp['game_id']) & (df_tracking['period'] == test_pbp['period'])]\n",
    "    if (test_pbp['player_name'] in test_tracking['player'].to_list()):\n",
    "        diff_x1 = test_tracking.loc[(test_tracking['player'] != test_pbp['player_name']) & (test_tracking['venue'] != test_pbp['venue']),'x_coord'] - test_tracking.loc[test_tracking['player'] == test_pbp['player_name'],'x_coord'].values[0]\n",
    "        diff_x1 = diff_x1.astype(float)\n",
    "        diff_y1 = abs(test_tracking.loc[(test_tracking['player'] != test_pbp['player_name']) & (test_tracking['venue'] != test_pbp['venue']),'y_coord'] - test_tracking.loc[test_tracking['player'] == test_pbp['player_name'],'y_coord'].values[0])\n",
    "        pl_distance = np.sqrt(diff_x1**2 + diff_y1**2)\n",
    "        dfs_distance.append(pl_distance.min())\n",
    "    else:\n",
    "        if (test_tracking.size > 0): \n",
    "            diff_x1 = test_tracking.loc[(test_tracking['player'] != test_pbp['player_name']) & (test_tracking['venue'] != test_pbp['venue']),'x_coord'] - test_pbp['x_coord']\n",
    "            diff_x1 = diff_x1.astype(float)\n",
    "            diff_y1 = abs(test_tracking.loc[(test_tracking['player'] != test_pbp['player_name']) & (test_tracking['venue'] != test_pbp['venue']),'y_coord'] - test_pbp['y_coord'])\n",
    "            pl_distance = np.sqrt(diff_x1**2 + diff_y1**2)\n",
    "            dfs_distance.append(pl_distance.min())\n",
    "        else: \n",
    "            dfs_distance.append(np.nan)\n",
    "    "
   ]
  },
  {
   "cell_type": "code",
   "execution_count": 8,
   "metadata": {},
   "outputs": [
    {
     "data": {
      "text/plain": [
       "861"
      ]
     },
     "execution_count": 8,
     "metadata": {},
     "output_type": "execute_result"
    }
   ],
   "source": [
    "len(dfs_distance)"
   ]
  },
  {
   "cell_type": "code",
   "execution_count": 9,
   "metadata": {},
   "outputs": [],
   "source": [
    "df_pbp_pp['nearest_defender'] = dfs_distance"
   ]
  },
  {
   "cell_type": "code",
   "execution_count": 10,
   "metadata": {},
   "outputs": [],
   "source": [
    "df_positions = pd.DataFrame(columns=['game_id','period','frame_id','team_name','player','x_coord','y_coord','venue'])\n",
    "df_distance_to_avg = pd.DataFrame(index=df_pbp_pp.index)\n",
    "\n",
    "for index in df_pbp_pp.index:\n",
    "    test_pbp = df_pbp_pp.loc[index]\n",
    "    test_tracking = df_tracking[\n",
    "        (df_tracking['frame_id'] == test_pbp['frame_id_1']) & \n",
    "        (df_tracking['game_id'] == test_pbp['game_id']) & \n",
    "        (df_tracking['period'] == test_pbp['period']) & \n",
    "        (df_tracking['venue'] == test_pbp['venue'])\n",
    "    ]\n",
    "    df_positions = pd.concat([df_positions,test_tracking[['game_id','period','frame_id','team_name','player','x_coord','y_coord','venue']]])\n",
    "\n"
   ]
  },
  {
   "cell_type": "code",
   "execution_count": 11,
   "metadata": {},
   "outputs": [
    {
     "data": {
      "text/plain": [
       "(4908, 8)"
      ]
     },
     "execution_count": 11,
     "metadata": {},
     "output_type": "execute_result"
    }
   ],
   "source": [
    "df_positions.shape"
   ]
  },
  {
   "cell_type": "code",
   "execution_count": 12,
   "metadata": {},
   "outputs": [
    {
     "data": {
      "text/html": [
       "<div>\n",
       "<style scoped>\n",
       "    .dataframe tbody tr th:only-of-type {\n",
       "        vertical-align: middle;\n",
       "    }\n",
       "\n",
       "    .dataframe tbody tr th {\n",
       "        vertical-align: top;\n",
       "    }\n",
       "\n",
       "    .dataframe thead th {\n",
       "        text-align: right;\n",
       "    }\n",
       "</style>\n",
       "<table border=\"1\" class=\"dataframe\">\n",
       "  <thead>\n",
       "    <tr style=\"text-align: right;\">\n",
       "      <th></th>\n",
       "      <th>game_id</th>\n",
       "      <th>period</th>\n",
       "      <th>frame_id</th>\n",
       "      <th>team_name</th>\n",
       "      <th>player</th>\n",
       "      <th>x_coord</th>\n",
       "      <th>y_coord</th>\n",
       "      <th>venue</th>\n",
       "    </tr>\n",
       "  </thead>\n",
       "  <tbody>\n",
       "    <tr>\n",
       "      <th>499666</th>\n",
       "      <td>0</td>\n",
       "      <td>1</td>\n",
       "      <td>2062</td>\n",
       "      <td>Switzerland</td>\n",
       "      <td>Nicole Vallario</td>\n",
       "      <td>134.685276</td>\n",
       "      <td>23.150990</td>\n",
       "      <td>away</td>\n",
       "    </tr>\n",
       "    <tr>\n",
       "      <th>499667</th>\n",
       "      <td>0</td>\n",
       "      <td>1</td>\n",
       "      <td>2062</td>\n",
       "      <td>Switzerland</td>\n",
       "      <td>Rahel Enzler</td>\n",
       "      <td>120.093170</td>\n",
       "      <td>35.527584</td>\n",
       "      <td>away</td>\n",
       "    </tr>\n",
       "    <tr>\n",
       "      <th>499669</th>\n",
       "      <td>0</td>\n",
       "      <td>1</td>\n",
       "      <td>2062</td>\n",
       "      <td>Switzerland</td>\n",
       "      <td>Lara Christen</td>\n",
       "      <td>146.650222</td>\n",
       "      <td>56.618526</td>\n",
       "      <td>away</td>\n",
       "    </tr>\n",
       "    <tr>\n",
       "      <th>499670</th>\n",
       "      <td>0</td>\n",
       "      <td>1</td>\n",
       "      <td>2062</td>\n",
       "      <td>Switzerland</td>\n",
       "      <td>Dominique Ruegg</td>\n",
       "      <td>111.323152</td>\n",
       "      <td>67.359344</td>\n",
       "      <td>away</td>\n",
       "    </tr>\n",
       "    <tr>\n",
       "      <th>519689</th>\n",
       "      <td>0</td>\n",
       "      <td>1</td>\n",
       "      <td>2062</td>\n",
       "      <td>Switzerland</td>\n",
       "      <td>Phoebe Staenz</td>\n",
       "      <td>16.752410</td>\n",
       "      <td>49.352073</td>\n",
       "      <td>away</td>\n",
       "    </tr>\n",
       "  </tbody>\n",
       "</table>\n",
       "</div>"
      ],
      "text/plain": [
       "       game_id period frame_id    team_name           player     x_coord  \\\n",
       "499666       0      1     2062  Switzerland  Nicole Vallario  134.685276   \n",
       "499667       0      1     2062  Switzerland     Rahel Enzler  120.093170   \n",
       "499669       0      1     2062  Switzerland    Lara Christen  146.650222   \n",
       "499670       0      1     2062  Switzerland  Dominique Ruegg  111.323152   \n",
       "519689       0      1     2062  Switzerland    Phoebe Staenz   16.752410   \n",
       "\n",
       "          y_coord venue  \n",
       "499666  23.150990  away  \n",
       "499667  35.527584  away  \n",
       "499669  56.618526  away  \n",
       "499670  67.359344  away  \n",
       "519689  49.352073  away  "
      ]
     },
     "execution_count": 12,
     "metadata": {},
     "output_type": "execute_result"
    }
   ],
   "source": [
    "df_positions[df_positions['frame_id']==2062]"
   ]
  },
  {
   "cell_type": "code",
   "execution_count": 13,
   "metadata": {},
   "outputs": [],
   "source": [
    "df_tracking_test = df_tracking.loc[(df_tracking['frame_id']==96) & (df_tracking['period']==1) & (df_tracking['game_id']==4), :].copy()"
   ]
  },
  {
   "cell_type": "code",
   "execution_count": 73,
   "metadata": {},
   "outputs": [],
   "source": [
    "def calculate_voronoi(dfTemp):\n",
    "  values = np.vstack((dfTemp[['x_coord_adj','y_coord_adj']].values,\n",
    "                      [10,-42.5],\n",
    "                      [10,+42.5],\n",
    "                      [130,-42.5],\n",
    "                      [130,42.5],\n",
    "                      [10,0],\n",
    "                      [130,0],\n",
    "                      ))\n",
    "  vor = Voronoi(values)\n",
    "\n",
    "  dfTemp['region'] = vor.point_region[:-6]\n",
    "\n",
    "  return vor, dfTemp"
   ]
  },
  {
   "cell_type": "code",
   "execution_count": 74,
   "metadata": {},
   "outputs": [],
   "source": [
    "vor, df_tracking_test = calculate_voronoi(df_tracking_test)"
   ]
  },
  {
   "cell_type": "code",
   "execution_count": 75,
   "metadata": {},
   "outputs": [],
   "source": [
    "for index, region in enumerate(vor.regions):\n",
    "    polygon = Polygon([vor.vertices[i] for i in region])\n",
    "    pl = df_tracking_test.loc[df_tracking_test['region']==index]\n",
    "    df_tracking_test.loc[df_tracking_test['region']==index,'area'] = polygon.area\n"
   ]
  },
  {
   "cell_type": "code",
   "execution_count": 76,
   "metadata": {},
   "outputs": [
    {
     "data": {
      "text/html": [
       "<div>\n",
       "<style scoped>\n",
       "    .dataframe tbody tr th:only-of-type {\n",
       "        vertical-align: middle;\n",
       "    }\n",
       "\n",
       "    .dataframe tbody tr th {\n",
       "        vertical-align: top;\n",
       "    }\n",
       "\n",
       "    .dataframe thead th {\n",
       "        text-align: right;\n",
       "    }\n",
       "</style>\n",
       "<table border=\"1\" class=\"dataframe\">\n",
       "  <thead>\n",
       "    <tr style=\"text-align: right;\">\n",
       "      <th></th>\n",
       "      <th>index</th>\n",
       "      <th>frame_id</th>\n",
       "      <th>period</th>\n",
       "      <th>track_id</th>\n",
       "      <th>team_id</th>\n",
       "      <th>team_name</th>\n",
       "      <th>jersey_number</th>\n",
       "      <th>x_coord</th>\n",
       "      <th>y_coord</th>\n",
       "      <th>video_shot</th>\n",
       "      <th>game_seconds</th>\n",
       "      <th>venue</th>\n",
       "      <th>player</th>\n",
       "      <th>position</th>\n",
       "      <th>game_id</th>\n",
       "      <th>x_coord_adj</th>\n",
       "      <th>y_coord_adj</th>\n",
       "      <th>region</th>\n",
       "      <th>area</th>\n",
       "    </tr>\n",
       "  </thead>\n",
       "  <tbody>\n",
       "    <tr>\n",
       "      <th>0</th>\n",
       "      <td>0</td>\n",
       "      <td>96</td>\n",
       "      <td>1</td>\n",
       "      <td>2</td>\n",
       "      <td>Light</td>\n",
       "      <td>ROC</td>\n",
       "      <td>100</td>\n",
       "      <td>176.651307</td>\n",
       "      <td>52.308133</td>\n",
       "      <td>1</td>\n",
       "      <td>2590</td>\n",
       "      <td>away</td>\n",
       "      <td>None</td>\n",
       "      <td>None</td>\n",
       "      <td>4</td>\n",
       "      <td>76.651307</td>\n",
       "      <td>9.808133</td>\n",
       "      <td>17</td>\n",
       "      <td>1698.965885</td>\n",
       "    </tr>\n",
       "    <tr>\n",
       "      <th>1</th>\n",
       "      <td>1</td>\n",
       "      <td>96</td>\n",
       "      <td>1</td>\n",
       "      <td>3</td>\n",
       "      <td>Light</td>\n",
       "      <td>ROC</td>\n",
       "      <td>27</td>\n",
       "      <td>158.782222</td>\n",
       "      <td>41.325801</td>\n",
       "      <td>1</td>\n",
       "      <td>2590</td>\n",
       "      <td>away</td>\n",
       "      <td>Veronika Korzhakova</td>\n",
       "      <td>Center</td>\n",
       "      <td>4</td>\n",
       "      <td>58.782222</td>\n",
       "      <td>-1.174199</td>\n",
       "      <td>16</td>\n",
       "      <td>1476.413036</td>\n",
       "    </tr>\n",
       "    <tr>\n",
       "      <th>2</th>\n",
       "      <td>2</td>\n",
       "      <td>96</td>\n",
       "      <td>1</td>\n",
       "      <td>4</td>\n",
       "      <td>Dark</td>\n",
       "      <td>Finland</td>\n",
       "      <td>10</td>\n",
       "      <td>151.138502</td>\n",
       "      <td>51.883526</td>\n",
       "      <td>1</td>\n",
       "      <td>2590</td>\n",
       "      <td>home</td>\n",
       "      <td>Elisa Holopainen</td>\n",
       "      <td>Left Wing</td>\n",
       "      <td>4</td>\n",
       "      <td>51.138502</td>\n",
       "      <td>9.383526</td>\n",
       "      <td>12</td>\n",
       "      <td>312.640948</td>\n",
       "    </tr>\n",
       "    <tr>\n",
       "      <th>3</th>\n",
       "      <td>3</td>\n",
       "      <td>96</td>\n",
       "      <td>1</td>\n",
       "      <td>5</td>\n",
       "      <td>Light</td>\n",
       "      <td>ROC</td>\n",
       "      <td>100</td>\n",
       "      <td>163.814533</td>\n",
       "      <td>59.253376</td>\n",
       "      <td>1</td>\n",
       "      <td>2590</td>\n",
       "      <td>away</td>\n",
       "      <td>None</td>\n",
       "      <td>None</td>\n",
       "      <td>4</td>\n",
       "      <td>63.814533</td>\n",
       "      <td>16.753376</td>\n",
       "      <td>11</td>\n",
       "      <td>1067.100794</td>\n",
       "    </tr>\n",
       "    <tr>\n",
       "      <th>4</th>\n",
       "      <td>4</td>\n",
       "      <td>96</td>\n",
       "      <td>1</td>\n",
       "      <td>8</td>\n",
       "      <td>Dark</td>\n",
       "      <td>Finland</td>\n",
       "      <td>88</td>\n",
       "      <td>165.000000</td>\n",
       "      <td>50.000000</td>\n",
       "      <td>1</td>\n",
       "      <td>2590</td>\n",
       "      <td>home</td>\n",
       "      <td>Ronja Savolainen</td>\n",
       "      <td>Defense</td>\n",
       "      <td>4</td>\n",
       "      <td>65.000000</td>\n",
       "      <td>7.500000</td>\n",
       "      <td>15</td>\n",
       "      <td>79.319865</td>\n",
       "    </tr>\n",
       "    <tr>\n",
       "      <th>5</th>\n",
       "      <td>5</td>\n",
       "      <td>96</td>\n",
       "      <td>1</td>\n",
       "      <td>6</td>\n",
       "      <td>Light</td>\n",
       "      <td>ROC</td>\n",
       "      <td>100</td>\n",
       "      <td>163.000000</td>\n",
       "      <td>48.000000</td>\n",
       "      <td>1</td>\n",
       "      <td>2590</td>\n",
       "      <td>away</td>\n",
       "      <td>None</td>\n",
       "      <td>None</td>\n",
       "      <td>4</td>\n",
       "      <td>63.000000</td>\n",
       "      <td>5.500000</td>\n",
       "      <td>13</td>\n",
       "      <td>75.799105</td>\n",
       "    </tr>\n",
       "    <tr>\n",
       "      <th>6</th>\n",
       "      <td>6</td>\n",
       "      <td>96</td>\n",
       "      <td>1</td>\n",
       "      <td>7</td>\n",
       "      <td>Dark</td>\n",
       "      <td>Finland</td>\n",
       "      <td>24</td>\n",
       "      <td>159.000000</td>\n",
       "      <td>53.000000</td>\n",
       "      <td>1</td>\n",
       "      <td>2590</td>\n",
       "      <td>home</td>\n",
       "      <td>Viivi Vainikka</td>\n",
       "      <td>Center</td>\n",
       "      <td>4</td>\n",
       "      <td>59.000000</td>\n",
       "      <td>10.500000</td>\n",
       "      <td>14</td>\n",
       "      <td>73.699687</td>\n",
       "    </tr>\n",
       "    <tr>\n",
       "      <th>7</th>\n",
       "      <td>7</td>\n",
       "      <td>96</td>\n",
       "      <td>1</td>\n",
       "      <td>9</td>\n",
       "      <td>Dark</td>\n",
       "      <td>Finland</td>\n",
       "      <td>9</td>\n",
       "      <td>126.500000</td>\n",
       "      <td>34.100000</td>\n",
       "      <td>1</td>\n",
       "      <td>2590</td>\n",
       "      <td>home</td>\n",
       "      <td>Nelli Laitinen</td>\n",
       "      <td>Defense</td>\n",
       "      <td>4</td>\n",
       "      <td>26.500000</td>\n",
       "      <td>-8.400000</td>\n",
       "      <td>10</td>\n",
       "      <td>1064.732459</td>\n",
       "    </tr>\n",
       "    <tr>\n",
       "      <th>8</th>\n",
       "      <td>8</td>\n",
       "      <td>96</td>\n",
       "      <td>1</td>\n",
       "      <td>23</td>\n",
       "      <td>Dark</td>\n",
       "      <td>Finland</td>\n",
       "      <td>15</td>\n",
       "      <td>135.000000</td>\n",
       "      <td>62.000000</td>\n",
       "      <td>1</td>\n",
       "      <td>2590</td>\n",
       "      <td>home</td>\n",
       "      <td>Minnamari Tuominen</td>\n",
       "      <td>Defense</td>\n",
       "      <td>4</td>\n",
       "      <td>35.000000</td>\n",
       "      <td>19.500000</td>\n",
       "      <td>9</td>\n",
       "      <td>1037.890259</td>\n",
       "    </tr>\n",
       "  </tbody>\n",
       "</table>\n",
       "</div>"
      ],
      "text/plain": [
       "   index  frame_id  period  track_id team_id team_name  jersey_number  \\\n",
       "0      0        96       1         2   Light       ROC            100   \n",
       "1      1        96       1         3   Light       ROC             27   \n",
       "2      2        96       1         4    Dark   Finland             10   \n",
       "3      3        96       1         5   Light       ROC            100   \n",
       "4      4        96       1         8    Dark   Finland             88   \n",
       "5      5        96       1         6   Light       ROC            100   \n",
       "6      6        96       1         7    Dark   Finland             24   \n",
       "7      7        96       1         9    Dark   Finland              9   \n",
       "8      8        96       1        23    Dark   Finland             15   \n",
       "\n",
       "      x_coord    y_coord  video_shot  game_seconds venue               player  \\\n",
       "0  176.651307  52.308133           1          2590  away                 None   \n",
       "1  158.782222  41.325801           1          2590  away  Veronika Korzhakova   \n",
       "2  151.138502  51.883526           1          2590  home     Elisa Holopainen   \n",
       "3  163.814533  59.253376           1          2590  away                 None   \n",
       "4  165.000000  50.000000           1          2590  home     Ronja Savolainen   \n",
       "5  163.000000  48.000000           1          2590  away                 None   \n",
       "6  159.000000  53.000000           1          2590  home       Viivi Vainikka   \n",
       "7  126.500000  34.100000           1          2590  home       Nelli Laitinen   \n",
       "8  135.000000  62.000000           1          2590  home   Minnamari Tuominen   \n",
       "\n",
       "    position  game_id  x_coord_adj  y_coord_adj  region         area  \n",
       "0       None        4    76.651307     9.808133      17  1698.965885  \n",
       "1     Center        4    58.782222    -1.174199      16  1476.413036  \n",
       "2  Left Wing        4    51.138502     9.383526      12   312.640948  \n",
       "3       None        4    63.814533    16.753376      11  1067.100794  \n",
       "4    Defense        4    65.000000     7.500000      15    79.319865  \n",
       "5       None        4    63.000000     5.500000      13    75.799105  \n",
       "6     Center        4    59.000000    10.500000      14    73.699687  \n",
       "7    Defense        4    26.500000    -8.400000      10  1064.732459  \n",
       "8    Defense        4    35.000000    19.500000       9  1037.890259  "
      ]
     },
     "execution_count": 76,
     "metadata": {},
     "output_type": "execute_result"
    }
   ],
   "source": [
    "df_tracking_test"
   ]
  },
  {
   "cell_type": "code",
   "execution_count": 77,
   "metadata": {},
   "outputs": [],
   "source": [
    "direction = -1\n",
    "def draw_voronoi(dfFrame):\n",
    "  vor, dfVor = calculate_voronoi(dfFrame)\n",
    "  for index, region in enumerate(vor.regions): \n",
    "      if not -1 in region: \n",
    "          if len(region)>0: \n",
    "            try: \n",
    "              pl = dfVor.loc[dfVor['region']==index]\n",
    "              polygon = Polygon([vor.vertices[i] for i in region])\n",
    "              if pl['venue'].values[0]=='home':\n",
    "                color = 'b'\n",
    "              else:\n",
    "                color = 'r'\n",
    "              x,y = polygon.exterior.xy\n",
    "              plt.fill(x,y, c=color , alpha=0.2)\n",
    "            except IndexError:\n",
    "              pass\n",
    "            except AttributeError: \n",
    "              pass\n",
    "  return fig, ax, dfFrame"
   ]
  },
  {
   "cell_type": "code",
   "execution_count": 78,
   "metadata": {},
   "outputs": [
    {
     "data": {
      "image/png": "[encoded data removed]",
      "text/plain": [
       "<Figure size 1800x800 with 1 Axes>"
      ]
     },
     "metadata": {},
     "output_type": "display_data"
    }
   ],
   "source": [
    "rink = IIHFRink()\n",
    "\n",
    "fig, ax = plt.subplots(figsize=(18, 8))\n",
    "\n",
    "text_color = \"black\"\n",
    "background = \"white\"\n",
    "edge = \"white\"\n",
    "sns.set_context(\"paper\")\n",
    "#fig.text(0.15,0.9,'net expected Threat: {}, lane crossing blue line: {} ,lane exit location: {}'.format(round(plot_xT_net,4), plot_exit_lane_int, plot_exit_lane_loc), fontweight='regular',fontsize=18,color=text_color)\n",
    "\n",
    "\n",
    "rink.plot_fn(sns.scatterplot, x=\"x_coord_adj\", y=\"y_coord_adj\", s=100, legend=False, data=df_tracking_test, ax=ax, hue='venue', palette=['red','blue'], edgecolor=edge, linewidth=1, alpha=0.8)\n",
    "for i,row in df_tracking_test.iterrows():\n",
    "    if row['jersey_number'] != 100:\n",
    "        ax.annotate(row['jersey_number'], xy=(row['x_coord_adj'], row['y_coord_adj']), size=14, rotation=-20)\n",
    "draw_voronoi(df_tracking_test)\n",
    "\n",
    "plt.show()\n",
    "\n",
    "fig.savefig('figs/voronoi_test.png', dpi=300, bbox_inches='tight')\n"
   ]
  },
  {
   "cell_type": "markdown",
   "metadata": {},
   "source": [
    "## Calculate all the areas for all the unique frames"
   ]
  },
  {
   "cell_type": "code",
   "execution_count": 82,
   "metadata": {},
   "outputs": [],
   "source": [
    "df_tracking['frame_id_unique'] =  df_tracking['frame_id'].astype(str) + '_' + df_tracking['period'].astype(str) + '_' + df_tracking['game_id'].astype(str)"
   ]
  },
  {
   "cell_type": "code",
   "execution_count": 84,
   "metadata": {},
   "outputs": [
    {
     "name": "stderr",
     "output_type": "stream",
     "text": [
      "100%|██████████| 56905/56905 [52:23<00:00, 18.10it/s]  \n"
     ]
    }
   ],
   "source": [
    "df_tracking['area'] = np.nan\n",
    "for id in tqdm(df_tracking['frame_id_unique'].unique()):\n",
    "    _df = df_tracking.loc[df_tracking['frame_id_unique']==id, :].copy()\n",
    "    _vor, _df = calculate_voronoi(_df)\n",
    "    if len(region)>0:\n",
    "        try:\n",
    "            for index, region in enumerate(_vor.regions):\n",
    "                _polygon = Polygon([_vor.vertices[i] for i in region])\n",
    "                _df.loc[_df['region']==index, 'area'] = _polygon.area\n",
    "        except IndexError:\n",
    "            pass\n",
    "        except AttributeError:\n",
    "            pass\n",
    "        except ValueError:\n",
    "            pass\n",
    "    df_tracking.loc[df_tracking['frame_id_unique']==id, 'area'] = _df['area'].values\n"
   ]
  },
  {
   "cell_type": "code",
   "execution_count": 85,
   "metadata": {},
   "outputs": [
    {
     "data": {
      "text/plain": [
       "count    2.315700e+04\n",
       "mean     2.176944e+03\n",
       "std      3.643041e+04\n",
       "min      1.094067e-01\n",
       "25%      3.322052e+02\n",
       "50%      7.037779e+02\n",
       "75%      1.239852e+03\n",
       "max      3.109543e+06\n",
       "Name: area, dtype: float64"
      ]
     },
     "execution_count": 85,
     "metadata": {},
     "output_type": "execute_result"
    }
   ],
   "source": [
    "df_tracking['area'].describe()\n"
   ]
  },
  {
   "cell_type": "code",
   "execution_count": 86,
   "metadata": {},
   "outputs": [
    {
     "data": {
      "text/plain": [
       "(570274, 19)"
      ]
     },
     "execution_count": 86,
     "metadata": {},
     "output_type": "execute_result"
    }
   ],
   "source": [
    "df_tracking.shape"
   ]
  },
  {
   "cell_type": "code",
   "execution_count": null,
   "metadata": {},
   "outputs": [
    {
     "data": {
      "text/plain": [
       "570274"
      ]
     },
     "execution_count": 36,
     "metadata": {},
     "output_type": "execute_result"
    }
   ],
   "source": [
    "df_tracking.to_sql('tracking', conn, if_exists='replace')"
   ]
  }
 ],
 "metadata": {
  "kernelspec": {
   "display_name": "Python 3",
   "language": "python",
   "name": "python3"
  },
  "language_info": {
   "codemirror_mode": {
    "name": "ipython",
    "version": 3
   },
   "file_extension": ".py",
   "mimetype": "text/x-python",
   "name": "python",
   "nbconvert_exporter": "python",
   "pygments_lexer": "ipython3",
   "version": "3.10.8"
  },
  "orig_nbformat": 4
 },
 "nbformat": 4,
 "nbformat_minor": 2
}
