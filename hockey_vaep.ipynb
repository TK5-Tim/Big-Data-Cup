{
 "metadata": {
  "language_info": {
   "codemirror_mode": {
    "name": "ipython",
    "version": 3
   },
   "file_extension": ".py",
   "mimetype": "text/x-python",
   "name": "python",
   "nbconvert_exporter": "python",
   "pygments_lexer": "ipython3",
   "version": "3.9.1-final"
  },
  "orig_nbformat": 2,
  "kernelspec": {
   "name": "python3",
   "display_name": "Python 3.9.1 64-bit",
   "metadata": {
    "interpreter": {
     "hash": "aee8b7b246df8f9039afb4144a1f6fd8d2ca17a180786b69acc140d282b71a49"
    }
   }
  }
 },
 "nbformat": 4,
 "nbformat_minor": 2,
 "cells": [
  {
   "source": [
    "# Hockey VAEP"
   ],
   "cell_type": "markdown",
   "metadata": {}
  },
  {
   "cell_type": "code",
   "execution_count": 302,
   "metadata": {},
   "outputs": [],
   "source": [
    "import pandas as pd\n",
    "from tqdm.notebook import tqdm\n",
    "import numpy as np\n",
    "\n",
    "from sklearn.model_selection import KFold\n",
    "from sklearn.metrics import log_loss, accuracy_score, mean_squared_error\n",
    "from scipy.stats import pearsonr, spearmanr\n",
    "from sklearn.linear_model import LinearRegression, LogisticRegression\n",
    "from sklearn.ensemble import RandomForestRegressor, RandomForestClassifier\n",
    "import lightgbm as lgb"
   ]
  },
  {
   "cell_type": "code",
   "execution_count": 304,
   "metadata": {},
   "outputs": [],
   "source": [
    "project_dir = '/Users/keltim01/git_repos/TK5/Data/Big-Data-Cup-2021/'"
   ]
  },
  {
   "cell_type": "code",
   "execution_count": 306,
   "metadata": {},
   "outputs": [
    {
     "output_type": "execute_result",
     "data": {
      "text/plain": [
       "    game_date                 Home Team  \\\n",
       "0  2018-02-11  Olympic (Women) - Canada   \n",
       "1  2018-02-11  Olympic (Women) - Canada   \n",
       "2  2018-02-11  Olympic (Women) - Canada   \n",
       "3  2018-02-11  Olympic (Women) - Canada   \n",
       "4  2018-02-11  Olympic (Women) - Canada   \n",
       "\n",
       "                                        Away Team  Period  Clock  \\\n",
       "0  Olympic (Women) - Olympic Athletes from Russia       1  20:00   \n",
       "1  Olympic (Women) - Olympic Athletes from Russia       1  19:59   \n",
       "2  Olympic (Women) - Olympic Athletes from Russia       1  19:59   \n",
       "3  Olympic (Women) - Olympic Athletes from Russia       1  19:59   \n",
       "4  Olympic (Women) - Olympic Athletes from Russia       1  19:53   \n",
       "\n",
       "   Home Team Skaters  Away Team Skaters  Home Team Goals  Away Team Goals  \\\n",
       "0                  5                  5                0                0   \n",
       "1                  5                  5                0                0   \n",
       "2                  5                  5                0                0   \n",
       "3                  5                  5                0                0   \n",
       "4                  5                  5                0                0   \n",
       "\n",
       "                       Team  ...          Event X Coordinate  Y Coordinate  \\\n",
       "0  Olympic (Women) - Canada  ...    Faceoff Win          100            42   \n",
       "1  Olympic (Women) - Canada  ...  Puck Recovery           91            67   \n",
       "2  Olympic (Women) - Canada  ...    Dump In/Out          106            81   \n",
       "3  Olympic (Women) - Canada  ...     Zone Entry          106            81   \n",
       "4  Olympic (Women) - Canada  ...  Puck Recovery          168             1   \n",
       "\n",
       "   Detail 1 Detail 2 Detail 3 Detail 4            Player 2 X Coordinate 2  \\\n",
       "0  Backhand      NaN      NaN      NaN  Lyudmila Belyakova            NaN   \n",
       "1       NaN      NaN      NaN      NaN                 NaN            NaN   \n",
       "2  Retained      NaN      NaN      NaN                 NaN            NaN   \n",
       "3    Dumped      NaN      NaN      NaN      Liana Ganeyeva            NaN   \n",
       "4       NaN      NaN      NaN      NaN                 NaN            NaN   \n",
       "\n",
       "   Y Coordinate 2  \n",
       "0             NaN  \n",
       "1             NaN  \n",
       "2             NaN  \n",
       "3             NaN  \n",
       "4             NaN  \n",
       "\n",
       "[5 rows x 21 columns]"
      ],
      "text/html": "<div>\n<style scoped>\n    .dataframe tbody tr th:only-of-type {\n        vertical-align: middle;\n    }\n\n    .dataframe tbody tr th {\n        vertical-align: top;\n    }\n\n    .dataframe thead th {\n        text-align: right;\n    }\n</style>\n<table border=\"1\" class=\"dataframe\">\n  <thead>\n    <tr style=\"text-align: right;\">\n      <th></th>\n      <th>game_date</th>\n      <th>Home Team</th>\n      <th>Away Team</th>\n      <th>Period</th>\n      <th>Clock</th>\n      <th>Home Team Skaters</th>\n      <th>Away Team Skaters</th>\n      <th>Home Team Goals</th>\n      <th>Away Team Goals</th>\n      <th>Team</th>\n      <th>...</th>\n      <th>Event</th>\n      <th>X Coordinate</th>\n      <th>Y Coordinate</th>\n      <th>Detail 1</th>\n      <th>Detail 2</th>\n      <th>Detail 3</th>\n      <th>Detail 4</th>\n      <th>Player 2</th>\n      <th>X Coordinate 2</th>\n      <th>Y Coordinate 2</th>\n    </tr>\n  </thead>\n  <tbody>\n    <tr>\n      <th>0</th>\n      <td>2018-02-11</td>\n      <td>Olympic (Women) - Canada</td>\n      <td>Olympic (Women) - Olympic Athletes from Russia</td>\n      <td>1</td>\n      <td>20:00</td>\n      <td>5</td>\n      <td>5</td>\n      <td>0</td>\n      <td>0</td>\n      <td>Olympic (Women) - Canada</td>\n      <td>...</td>\n      <td>Faceoff Win</td>\n      <td>100</td>\n      <td>42</td>\n      <td>Backhand</td>\n      <td>NaN</td>\n      <td>NaN</td>\n      <td>NaN</td>\n      <td>Lyudmila Belyakova</td>\n      <td>NaN</td>\n      <td>NaN</td>\n    </tr>\n    <tr>\n      <th>1</th>\n      <td>2018-02-11</td>\n      <td>Olympic (Women) - Canada</td>\n      <td>Olympic (Women) - Olympic Athletes from Russia</td>\n      <td>1</td>\n      <td>19:59</td>\n      <td>5</td>\n      <td>5</td>\n      <td>0</td>\n      <td>0</td>\n      <td>Olympic (Women) - Canada</td>\n      <td>...</td>\n      <td>Puck Recovery</td>\n      <td>91</td>\n      <td>67</td>\n      <td>NaN</td>\n      <td>NaN</td>\n      <td>NaN</td>\n      <td>NaN</td>\n      <td>NaN</td>\n      <td>NaN</td>\n      <td>NaN</td>\n    </tr>\n    <tr>\n      <th>2</th>\n      <td>2018-02-11</td>\n      <td>Olympic (Women) - Canada</td>\n      <td>Olympic (Women) - Olympic Athletes from Russia</td>\n      <td>1</td>\n      <td>19:59</td>\n      <td>5</td>\n      <td>5</td>\n      <td>0</td>\n      <td>0</td>\n      <td>Olympic (Women) - Canada</td>\n      <td>...</td>\n      <td>Dump In/Out</td>\n      <td>106</td>\n      <td>81</td>\n      <td>Retained</td>\n      <td>NaN</td>\n      <td>NaN</td>\n      <td>NaN</td>\n      <td>NaN</td>\n      <td>NaN</td>\n      <td>NaN</td>\n    </tr>\n    <tr>\n      <th>3</th>\n      <td>2018-02-11</td>\n      <td>Olympic (Women) - Canada</td>\n      <td>Olympic (Women) - Olympic Athletes from Russia</td>\n      <td>1</td>\n      <td>19:59</td>\n      <td>5</td>\n      <td>5</td>\n      <td>0</td>\n      <td>0</td>\n      <td>Olympic (Women) - Canada</td>\n      <td>...</td>\n      <td>Zone Entry</td>\n      <td>106</td>\n      <td>81</td>\n      <td>Dumped</td>\n      <td>NaN</td>\n      <td>NaN</td>\n      <td>NaN</td>\n      <td>Liana Ganeyeva</td>\n      <td>NaN</td>\n      <td>NaN</td>\n    </tr>\n    <tr>\n      <th>4</th>\n      <td>2018-02-11</td>\n      <td>Olympic (Women) - Canada</td>\n      <td>Olympic (Women) - Olympic Athletes from Russia</td>\n      <td>1</td>\n      <td>19:53</td>\n      <td>5</td>\n      <td>5</td>\n      <td>0</td>\n      <td>0</td>\n      <td>Olympic (Women) - Canada</td>\n      <td>...</td>\n      <td>Puck Recovery</td>\n      <td>168</td>\n      <td>1</td>\n      <td>NaN</td>\n      <td>NaN</td>\n      <td>NaN</td>\n      <td>NaN</td>\n      <td>NaN</td>\n      <td>NaN</td>\n      <td>NaN</td>\n    </tr>\n  </tbody>\n</table>\n<p>5 rows × 21 columns</p>\n</div>"
     },
     "metadata": {},
     "execution_count": 306
    }
   ],
   "source": [
    "womens = pd.read_csv(project_dir + 'hackathon_womens.csv')\n",
    "womens.head()"
   ]
  },
  {
   "source": [
    "## Defining the Actions"
   ],
   "cell_type": "markdown",
   "metadata": {}
  },
  {
   "cell_type": "code",
   "execution_count": 308,
   "metadata": {},
   "outputs": [
    {
     "output_type": "execute_result",
     "data": {
      "text/plain": [
       "Index(['game_date', 'Home Team', 'Away Team', 'Period', 'Clock',\n",
       "       'Home Team Skaters', 'Away Team Skaters', 'Home Team Goals',\n",
       "       'Away Team Goals', 'Team', 'Player', 'Event', 'X Coordinate',\n",
       "       'Y Coordinate', 'Detail 1', 'Detail 2', 'Detail 3', 'Detail 4',\n",
       "       'Player 2', 'X Coordinate 2', 'Y Coordinate 2'],\n",
       "      dtype='object')"
      ]
     },
     "metadata": {},
     "execution_count": 308
    }
   ],
   "source": [
    "womens.columns"
   ]
  },
  {
   "cell_type": "code",
   "execution_count": 310,
   "metadata": {},
   "outputs": [
    {
     "output_type": "execute_result",
     "data": {
      "text/plain": [
       "array(['Faceoff Win', 'Puck Recovery', 'Dump In/Out', 'Zone Entry',\n",
       "       'Play', 'Takeaway', 'Incomplete Play', 'Shot', 'Penalty Taken',\n",
       "       'Goal'], dtype=object)"
      ]
     },
     "metadata": {},
     "execution_count": 310
    }
   ],
   "source": [
    "womens['Event'].unique()"
   ]
  },
  {
   "cell_type": "code",
   "execution_count": 311,
   "metadata": {},
   "outputs": [],
   "source": [
    "womens['game_id'] = womens.loc[:, ['game_date', 'Home Team', 'Away Team']].sum(axis=1).astype('category').cat.codes\n",
    "womens['is_home'] = 0 \n",
    "womens['is_shot'] = 0\n",
    "womens['is_goal'] = 0\n",
    "womens['event_id'] = womens['Event'].astype('category').cat.codes\n",
    "womens['team_id'] = womens['Team'].astype('category').cat.codes\n",
    "womens['player_id'] = womens['Player'].astype('category').cat.codes\n",
    "\n",
    "for x in range(1,5):\n",
    "    womens[f'Detail {x}_code'] = womens[f'Detail {x}'].astype('category').cat.codes\n",
    "womens.loc[womens['Home Team'] == womens['Team'], 'is_home'] = 1\n",
    "womens.loc[womens['Event']=='Shot', 'is_shot'] = 1\n",
    "womens.loc[womens['Event']=='Goal', 'is_goal'] = 1\n",
    "womens['goal_diff'] = womens['Home Team Goals'].sub(womens['Away Team Goals'])\n",
    "womens['Clock'] = pd.to_datetime(womens['Clock'], format='%M:%S')\n",
    "womens['seconds_remaining'] = womens['Clock'].dt.minute.mul(60).add(womens['Clock'].dt.second)\n"
   ]
  },
  {
   "cell_type": "code",
   "execution_count": 312,
   "metadata": {},
   "outputs": [
    {
     "output_type": "execute_result",
     "data": {
      "text/plain": [
       "array([1, 3, 2, 4, 5, 0], dtype=int8)"
      ]
     },
     "metadata": {},
     "execution_count": 312
    }
   ],
   "source": [
    "womens['team_id'].unique()"
   ]
  },
  {
   "cell_type": "code",
   "execution_count": 313,
   "metadata": {},
   "outputs": [
    {
     "output_type": "execute_result",
     "data": {
      "text/plain": [
       "array(['Olympic (Women) - Canada',\n",
       "       'Olympic (Women) - Olympic Athletes from Russia',\n",
       "       'Olympic (Women) - Finland', 'Olympic (Women) - United States',\n",
       "       'St. Lawrence Saints', 'Clarkson Golden Knights'], dtype=object)"
      ]
     },
     "metadata": {},
     "execution_count": 313
    }
   ],
   "source": [
    "womens['Team'].unique()"
   ]
  },
  {
   "cell_type": "code",
   "execution_count": 314,
   "metadata": {},
   "outputs": [
    {
     "output_type": "execute_result",
     "data": {
      "text/plain": [
       "6       Olympic (Women) - Olympic Athletes from Russia\n",
       "7       Olympic (Women) - Olympic Athletes from Russia\n",
       "8       Olympic (Women) - Olympic Athletes from Russia\n",
       "9       Olympic (Women) - Olympic Athletes from Russia\n",
       "10      Olympic (Women) - Olympic Athletes from Russia\n",
       "                             ...                      \n",
       "6937    Olympic (Women) - Olympic Athletes from Russia\n",
       "6952    Olympic (Women) - Olympic Athletes from Russia\n",
       "6953    Olympic (Women) - Olympic Athletes from Russia\n",
       "6966    Olympic (Women) - Olympic Athletes from Russia\n",
       "6967    Olympic (Women) - Olympic Athletes from Russia\n",
       "Name: Team, Length: 1219, dtype: object"
      ]
     },
     "metadata": {},
     "execution_count": 314
    }
   ],
   "source": [
    "womens.loc[womens['team_id'] == 3,'Team']"
   ]
  },
  {
   "cell_type": "code",
   "execution_count": 315,
   "metadata": {},
   "outputs": [],
   "source": [
    "PITCH_LENGTH = 200\n",
    "PITCH_WIDTH = 85 "
   ]
  },
  {
   "cell_type": "code",
   "execution_count": 316,
   "metadata": {},
   "outputs": [],
   "source": [
    "action_id = 5\n"
   ]
  },
  {
   "cell_type": "code",
   "execution_count": 317,
   "metadata": {},
   "outputs": [
    {
     "output_type": "execute_result",
     "data": {
      "text/plain": [
       "   X Coordinate  Y Coordinate  X Coordinate 2  Y Coordinate 2\n",
       "5           168             1           197.0            26.0"
      ],
      "text/html": "<div>\n<style scoped>\n    .dataframe tbody tr th:only-of-type {\n        vertical-align: middle;\n    }\n\n    .dataframe tbody tr th {\n        vertical-align: top;\n    }\n\n    .dataframe thead th {\n        text-align: right;\n    }\n</style>\n<table border=\"1\" class=\"dataframe\">\n  <thead>\n    <tr style=\"text-align: right;\">\n      <th></th>\n      <th>X Coordinate</th>\n      <th>Y Coordinate</th>\n      <th>X Coordinate 2</th>\n      <th>Y Coordinate 2</th>\n    </tr>\n  </thead>\n  <tbody>\n    <tr>\n      <th>5</th>\n      <td>168</td>\n      <td>1</td>\n      <td>197.0</td>\n      <td>26.0</td>\n    </tr>\n  </tbody>\n</table>\n</div>"
     },
     "metadata": {},
     "execution_count": 317
    }
   ],
   "source": [
    "womens[action_id:action_id+1][['X Coordinate',\n",
    "       'Y Coordinate', 'X Coordinate 2', 'Y Coordinate 2']]"
   ]
  },
  {
   "cell_type": "code",
   "execution_count": 318,
   "metadata": {},
   "outputs": [],
   "source": [
    "GOAL_X = PITCH_LENGTH - 10 \n",
    "GOAL_Y = PITCH_WIDTH / 2"
   ]
  },
  {
   "cell_type": "code",
   "execution_count": 319,
   "metadata": {},
   "outputs": [],
   "source": [
    "diff_x1 = GOAL_X - womens['X Coordinate']\n",
    "diff_y1 = abs(GOAL_Y - womens['Y Coordinate'])\n",
    "diff_x2 = GOAL_X - womens['X Coordinate 2']\n",
    "diff_y2 = abs(GOAL_Y - womens['Y Coordinate 2'])\n",
    "womens['start_distance_to_goal'] = np.sqrt(diff_x1 ** 2 + diff_y1 ** 2)\n",
    "womens['end_distance_to_goal'] = np.sqrt(diff_x2 ** 2 + diff_y2 ** 2)\n"
   ]
  },
  {
   "source": [
    "womens['diff_x'] = womens['X Coordinate 2'] - womens['X Coordinate']\n",
    "womens['diff_y'] = womens['Y Coordinate 2'] - womens['Y Coordinate']\n",
    "womens['distance_covered'] = np.sqrt((womens['X Coordinate 2'] - womens['X Coordinate']) ** 2 + (womens['Y Coordinate 2'] - womens['Y Coordinate']) ** 2)\n"
   ],
   "cell_type": "code",
   "metadata": {},
   "execution_count": 320,
   "outputs": []
  },
  {
   "cell_type": "code",
   "execution_count": 321,
   "metadata": {},
   "outputs": [
    {
     "output_type": "execute_result",
     "data": {
      "text/plain": [
       "0              NaN\n",
       "1              NaN\n",
       "2              NaN\n",
       "3              NaN\n",
       "4              NaN\n",
       "           ...    \n",
       "23997    50.159745\n",
       "23998    22.360680\n",
       "23999    44.204072\n",
       "24000    20.124612\n",
       "24001          NaN\n",
       "Name: distance_covered, Length: 24002, dtype: float64"
      ]
     },
     "metadata": {},
     "execution_count": 321
    }
   ],
   "source": [
    "womens['distance_covered']"
   ]
  },
  {
   "cell_type": "code",
   "execution_count": 322,
   "metadata": {},
   "outputs": [
    {
     "output_type": "execute_result",
     "data": {
      "text/plain": [
       "Index(['game_date', 'Home Team', 'Away Team', 'Period', 'Clock',\n",
       "       'Home Team Skaters', 'Away Team Skaters', 'Home Team Goals',\n",
       "       'Away Team Goals', 'Team', 'Player', 'Event', 'X Coordinate',\n",
       "       'Y Coordinate', 'Detail 1', 'Detail 2', 'Detail 3', 'Detail 4',\n",
       "       'Player 2', 'X Coordinate 2', 'Y Coordinate 2', 'game_id', 'is_home',\n",
       "       'is_shot', 'is_goal', 'event_id', 'team_id', 'player_id',\n",
       "       'Detail 1_code', 'Detail 2_code', 'Detail 3_code', 'Detail 4_code',\n",
       "       'goal_diff', 'seconds_remaining', 'start_distance_to_goal',\n",
       "       'end_distance_to_goal', 'diff_x', 'diff_y', 'distance_covered'],\n",
       "      dtype='object')"
      ]
     },
     "metadata": {},
     "execution_count": 322
    }
   ],
   "source": [
    "womens.columns"
   ]
  },
  {
   "source": [
    "## Sequence Features"
   ],
   "cell_type": "markdown",
   "metadata": {}
  },
  {
   "cell_type": "code",
   "execution_count": 323,
   "metadata": {},
   "outputs": [
    {
     "output_type": "execute_result",
     "data": {
      "text/plain": [
       "game_date                         object\n",
       "Home Team                         object\n",
       "Away Team                         object\n",
       "Period                             int64\n",
       "Clock                     datetime64[ns]\n",
       "Home Team Skaters                  int64\n",
       "Away Team Skaters                  int64\n",
       "Home Team Goals                    int64\n",
       "Away Team Goals                    int64\n",
       "Team                              object\n",
       "Player                            object\n",
       "Event                             object\n",
       "X Coordinate                       int64\n",
       "Y Coordinate                       int64\n",
       "Detail 1                          object\n",
       "Detail 2                          object\n",
       "Detail 3                          object\n",
       "Detail 4                          object\n",
       "Player 2                          object\n",
       "X Coordinate 2                   float64\n",
       "Y Coordinate 2                   float64\n",
       "game_id                             int8\n",
       "is_home                            int64\n",
       "is_shot                            int64\n",
       "is_goal                            int64\n",
       "event_id                            int8\n",
       "team_id                             int8\n",
       "player_id                          int16\n",
       "Detail 1_code                       int8\n",
       "Detail 2_code                       int8\n",
       "Detail 3_code                       int8\n",
       "Detail 4_code                       int8\n",
       "goal_diff                          int64\n",
       "seconds_remaining                  int64\n",
       "start_distance_to_goal           float64\n",
       "end_distance_to_goal             float64\n",
       "diff_x                           float64\n",
       "diff_y                           float64\n",
       "distance_covered                 float64\n",
       "dtype: object"
      ]
     },
     "metadata": {},
     "execution_count": 323
    }
   ],
   "source": [
    "womens.dtypes"
   ]
  },
  {
   "cell_type": "code",
   "execution_count": 299,
   "metadata": {},
   "outputs": [],
   "source": [
    "_womens = pd.DataFrame()\n",
    "for gid in womens['game_id'].unique():\n",
    "    _df = womens.loc[womens['game_id']==gid].sort_values(['Period','seconds_remaining'], ascending=[1,0]).reset_index(drop=True).copy()\n",
    "    _df['goal_n10'] = _df.loc[:, 'is_goal'].rolling(10, min_periods=1).sum().shift(-9)\n",
    "    _df = _df.merge(_df.shift(1), left_index=True, right_index=True, suffixes=('', '_1back')).merge(_df.shift(2), left_index=True, right_index=True, suffixes=('', '_2back'))\n",
    "    _womens = _womens.append(_df)\n",
    "womens = _womens\n",
    "womens['is_goal_n10'] = womens['goal_n10'].astype(bool).astype(int)\n"
   ]
  },
  {
   "cell_type": "code",
   "execution_count": 300,
   "metadata": {},
   "outputs": [
    {
     "output_type": "execute_result",
     "data": {
      "text/plain": [
       "0       0.0\n",
       "1       0.0\n",
       "2       0.0\n",
       "3       0.0\n",
       "4       0.0\n",
       "       ... \n",
       "2139    NaN\n",
       "2140    NaN\n",
       "2141    NaN\n",
       "2142    NaN\n",
       "2143    NaN\n",
       "Name: goal_n10, Length: 24002, dtype: float64"
      ]
     },
     "metadata": {},
     "execution_count": 300
    }
   ],
   "source": [
    "womens['goal_n10']"
   ]
  },
  {
   "cell_type": "code",
   "execution_count": 301,
   "metadata": {},
   "outputs": [],
   "source": [
    "model_data = womens.dropna(subset=['goal_diff_2back']).copy()\n",
    "model_data['goal_n10'] = model_data['goal_n10'].fillna(0)"
   ]
  },
  {
   "cell_type": "code",
   "execution_count": 262,
   "metadata": {},
   "outputs": [
    {
     "output_type": "execute_result",
     "data": {
      "text/plain": [
       "0.0    23428\n",
       "1.0      545\n",
       "2.0        3\n",
       "Name: goal_n10, dtype: int64"
      ]
     },
     "metadata": {},
     "execution_count": 262
    }
   ],
   "source": []
  },
  {
   "cell_type": "code",
   "execution_count": null,
   "metadata": {},
   "outputs": [],
   "source": []
  },
  {
   "cell_type": "code",
   "execution_count": null,
   "metadata": {},
   "outputs": [],
   "source": []
  },
  {
   "cell_type": "code",
   "execution_count": 303,
   "metadata": {},
   "outputs": [],
   "source": [
    "features = ['Period', 'Home Team Skaters', 'Away Team Skaters', 'X Coordinate',\n",
    "       'Y Coordinate', 'is_home', 'event_id', 'Detail 1_code', 'Detail 2_code', 'Detail 3_code', 'Detail 4_code',\n",
    "       'goal_diff', 'seconds_remaining']\n",
    "features = features + [f\"{x}_1back\" for x in features] + [f\"{x}_2back\" for x in features]\n",
    "features = [x for x in features if x not in ['event_id', 'Detail 1_code', 'Detail 2_code', 'Detail 3_code', 'Detail 4_code']]\n",
    "target = 'is_goal_n10'\n"
   ]
  },
  {
   "cell_type": "code",
   "execution_count": null,
   "metadata": {},
   "outputs": [],
   "source": []
  },
  {
   "source": [
    "## Train model ? "
   ],
   "cell_type": "markdown",
   "metadata": {}
  },
  {
   "cell_type": "code",
   "execution_count": 305,
   "metadata": {},
   "outputs": [
    {
     "output_type": "stream",
     "name": "stdout",
     "text": [
      "[LightGBM] [Warning] Find whitespaces in feature_names, replace with underlines\n",
      "[LightGBM] [Info] Number of positive: 581, number of negative: 20998\n",
      "[LightGBM] [Warning] Auto-choosing row-wise multi-threading, the overhead of testing was 0.002053 seconds.\n",
      "You can set `force_row_wise=true` to remove the overhead.\n",
      "And if memory is not enough, you can set `force_col_wise=true`.\n",
      "[LightGBM] [Info] Total Bins 1798\n",
      "[LightGBM] [Info] Number of data points in the train set: 21579, number of used features: 34\n",
      "[LightGBM] [Warning] Find whitespaces in feature_names, replace with underlines\n",
      "[LightGBM] [Info] [binary:BoostFromScore]: pavg=0.026924 -> initscore=-3.587432\n",
      "[LightGBM] [Info] Start training from score -3.587432\n",
      "[1]\tvalid_0's binary_logloss: 0.128984\n",
      "Training until validation scores don't improve for 200 rounds\n",
      "[2]\tvalid_0's binary_logloss: 0.123203\n",
      "[3]\tvalid_0's binary_logloss: 0.119477\n",
      "[4]\tvalid_0's binary_logloss: 0.11757\n",
      "[5]\tvalid_0's binary_logloss: 0.115151\n",
      "[6]\tvalid_0's binary_logloss: 0.112857\n",
      "[7]\tvalid_0's binary_logloss: 0.111454\n",
      "[8]\tvalid_0's binary_logloss: 0.110633\n",
      "[9]\tvalid_0's binary_logloss: 0.109843\n",
      "[10]\tvalid_0's binary_logloss: 0.106863\n",
      "[11]\tvalid_0's binary_logloss: 0.106137\n",
      "[12]\tvalid_0's binary_logloss: 0.103153\n",
      "[13]\tvalid_0's binary_logloss: 0.102512\n",
      "[14]\tvalid_0's binary_logloss: 0.100574\n",
      "[15]\tvalid_0's binary_logloss: 0.0982023\n",
      "[16]\tvalid_0's binary_logloss: 0.098069\n",
      "[17]\tvalid_0's binary_logloss: 0.0964168\n",
      "[18]\tvalid_0's binary_logloss: 0.0952144\n",
      "[19]\tvalid_0's binary_logloss: 0.0946942\n",
      "[20]\tvalid_0's binary_logloss: 0.0929234\n",
      "[21]\tvalid_0's binary_logloss: 0.0914033\n",
      "[22]\tvalid_0's binary_logloss: 0.0894364\n",
      "[23]\tvalid_0's binary_logloss: 0.0880755\n",
      "[24]\tvalid_0's binary_logloss: 0.0878879\n",
      "[25]\tvalid_0's binary_logloss: 0.0860481\n",
      "[26]\tvalid_0's binary_logloss: 0.0845966\n",
      "[27]\tvalid_0's binary_logloss: 0.0834695\n",
      "[28]\tvalid_0's binary_logloss: 0.0831542\n",
      "[29]\tvalid_0's binary_logloss: 0.0825411\n",
      "[30]\tvalid_0's binary_logloss: 0.0825933\n",
      "[31]\tvalid_0's binary_logloss: 0.0826517\n",
      "[32]\tvalid_0's binary_logloss: 0.0822699\n",
      "[33]\tvalid_0's binary_logloss: 0.0819292\n",
      "[34]\tvalid_0's binary_logloss: 0.0819314\n",
      "[35]\tvalid_0's binary_logloss: 0.0806138\n",
      "[36]\tvalid_0's binary_logloss: 0.0804365\n",
      "[37]\tvalid_0's binary_logloss: 0.0802332\n",
      "[38]\tvalid_0's binary_logloss: 0.0794486\n",
      "[39]\tvalid_0's binary_logloss: 0.0789549\n",
      "[40]\tvalid_0's binary_logloss: 0.0786443\n",
      "[41]\tvalid_0's binary_logloss: 0.0782923\n",
      "[42]\tvalid_0's binary_logloss: 0.0777799\n",
      "[43]\tvalid_0's binary_logloss: 0.0771914\n",
      "[44]\tvalid_0's binary_logloss: 0.0773287\n",
      "[45]\tvalid_0's binary_logloss: 0.0769924\n",
      "[46]\tvalid_0's binary_logloss: 0.0764321\n",
      "[47]\tvalid_0's binary_logloss: 0.0759928\n",
      "[48]\tvalid_0's binary_logloss: 0.07569\n",
      "[49]\tvalid_0's binary_logloss: 0.0755337\n",
      "[50]\tvalid_0's binary_logloss: 0.0752892\n",
      "[51]\tvalid_0's binary_logloss: 0.0751283\n",
      "[52]\tvalid_0's binary_logloss: 0.0753468\n",
      "[53]\tvalid_0's binary_logloss: 0.0750895\n",
      "[54]\tvalid_0's binary_logloss: 0.0750544\n",
      "[55]\tvalid_0's binary_logloss: 0.0746706\n",
      "[56]\tvalid_0's binary_logloss: 0.0748238\n",
      "[57]\tvalid_0's binary_logloss: 0.0745711\n",
      "[58]\tvalid_0's binary_logloss: 0.0746722\n",
      "[59]\tvalid_0's binary_logloss: 0.0745482\n",
      "[60]\tvalid_0's binary_logloss: 0.0744545\n",
      "[61]\tvalid_0's binary_logloss: 0.0743505\n",
      "[62]\tvalid_0's binary_logloss: 0.0740883\n",
      "[63]\tvalid_0's binary_logloss: 0.0741131\n",
      "[64]\tvalid_0's binary_logloss: 0.0740345\n",
      "[65]\tvalid_0's binary_logloss: 0.0738866\n",
      "[66]\tvalid_0's binary_logloss: 0.0740516\n",
      "[67]\tvalid_0's binary_logloss: 0.0743108\n",
      "[68]\tvalid_0's binary_logloss: 0.0741614\n",
      "[69]\tvalid_0's binary_logloss: 0.0744155\n",
      "[70]\tvalid_0's binary_logloss: 0.0742748\n",
      "[71]\tvalid_0's binary_logloss: 0.0743852\n",
      "[72]\tvalid_0's binary_logloss: 0.0746362\n",
      "[73]\tvalid_0's binary_logloss: 0.0747835\n",
      "[74]\tvalid_0's binary_logloss: 0.0740274\n",
      "[75]\tvalid_0's binary_logloss: 0.0739349\n",
      "[76]\tvalid_0's binary_logloss: 0.0738259\n",
      "[77]\tvalid_0's binary_logloss: 0.0740054\n",
      "[78]\tvalid_0's binary_logloss: 0.0739717\n",
      "[79]\tvalid_0's binary_logloss: 0.0737077\n",
      "[80]\tvalid_0's binary_logloss: 0.0735491\n",
      "[81]\tvalid_0's binary_logloss: 0.0732492\n",
      "[82]\tvalid_0's binary_logloss: 0.0733155\n",
      "[83]\tvalid_0's binary_logloss: 0.0734315\n",
      "[84]\tvalid_0's binary_logloss: 0.0734771\n",
      "[85]\tvalid_0's binary_logloss: 0.0734269\n",
      "[86]\tvalid_0's binary_logloss: 0.0735557\n",
      "[87]\tvalid_0's binary_logloss: 0.073334\n",
      "[88]\tvalid_0's binary_logloss: 0.0732999\n",
      "[89]\tvalid_0's binary_logloss: 0.0727695\n",
      "[90]\tvalid_0's binary_logloss: 0.072599\n",
      "[91]\tvalid_0's binary_logloss: 0.0723434\n",
      "[92]\tvalid_0's binary_logloss: 0.0721591\n",
      "[93]\tvalid_0's binary_logloss: 0.0716839\n",
      "[94]\tvalid_0's binary_logloss: 0.0718069\n",
      "[95]\tvalid_0's binary_logloss: 0.0720285\n",
      "[96]\tvalid_0's binary_logloss: 0.0721086\n",
      "[97]\tvalid_0's binary_logloss: 0.0718318\n",
      "[98]\tvalid_0's binary_logloss: 0.0718487\n",
      "[99]\tvalid_0's binary_logloss: 0.0715845\n",
      "[100]\tvalid_0's binary_logloss: 0.0715708\n",
      "[101]\tvalid_0's binary_logloss: 0.0714555\n",
      "[102]\tvalid_0's binary_logloss: 0.0715046\n",
      "[103]\tvalid_0's binary_logloss: 0.0714283\n",
      "[104]\tvalid_0's binary_logloss: 0.0712901\n",
      "[105]\tvalid_0's binary_logloss: 0.0711861\n",
      "[106]\tvalid_0's binary_logloss: 0.0711094\n",
      "[107]\tvalid_0's binary_logloss: 0.0710688\n",
      "[108]\tvalid_0's binary_logloss: 0.0710326\n",
      "[109]\tvalid_0's binary_logloss: 0.0710533\n",
      "[110]\tvalid_0's binary_logloss: 0.0711755\n",
      "[111]\tvalid_0's binary_logloss: 0.0711578\n",
      "[112]\tvalid_0's binary_logloss: 0.0711714\n",
      "[113]\tvalid_0's binary_logloss: 0.0712072\n",
      "[114]\tvalid_0's binary_logloss: 0.0714823\n",
      "[115]\tvalid_0's binary_logloss: 0.0715986\n",
      "[116]\tvalid_0's binary_logloss: 0.0718175\n",
      "[117]\tvalid_0's binary_logloss: 0.0718487\n",
      "[118]\tvalid_0's binary_logloss: 0.0719572\n",
      "[119]\tvalid_0's binary_logloss: 0.0720241\n",
      "[120]\tvalid_0's binary_logloss: 0.0720822\n",
      "[121]\tvalid_0's binary_logloss: 0.0723109\n",
      "[122]\tvalid_0's binary_logloss: 0.0725016\n",
      "[123]\tvalid_0's binary_logloss: 0.0725947\n",
      "[124]\tvalid_0's binary_logloss: 0.0722529\n",
      "[125]\tvalid_0's binary_logloss: 0.0722857\n",
      "[126]\tvalid_0's binary_logloss: 0.0722513\n",
      "[127]\tvalid_0's binary_logloss: 0.0723298\n",
      "[128]\tvalid_0's binary_logloss: 0.0725079\n",
      "[129]\tvalid_0's binary_logloss: 0.0726177\n",
      "[130]\tvalid_0's binary_logloss: 0.0727796\n",
      "[131]\tvalid_0's binary_logloss: 0.0728011\n",
      "[132]\tvalid_0's binary_logloss: 0.0724711\n",
      "[133]\tvalid_0's binary_logloss: 0.0727371\n",
      "[134]\tvalid_0's binary_logloss: 0.0727288\n",
      "[135]\tvalid_0's binary_logloss: 0.0728918\n",
      "[136]\tvalid_0's binary_logloss: 0.0729616\n",
      "[137]\tvalid_0's binary_logloss: 0.0730222\n",
      "[138]\tvalid_0's binary_logloss: 0.072789\n",
      "[139]\tvalid_0's binary_logloss: 0.0729205\n",
      "[140]\tvalid_0's binary_logloss: 0.0728027\n",
      "[141]\tvalid_0's binary_logloss: 0.0727915\n",
      "[142]\tvalid_0's binary_logloss: 0.0730585\n",
      "[143]\tvalid_0's binary_logloss: 0.073134\n",
      "[144]\tvalid_0's binary_logloss: 0.0731016\n",
      "[145]\tvalid_0's binary_logloss: 0.0731503\n",
      "[146]\tvalid_0's binary_logloss: 0.0728768\n",
      "[147]\tvalid_0's binary_logloss: 0.0729798\n",
      "[148]\tvalid_0's binary_logloss: 0.0730979\n",
      "[149]\tvalid_0's binary_logloss: 0.07317\n",
      "[150]\tvalid_0's binary_logloss: 0.0732571\n",
      "[151]\tvalid_0's binary_logloss: 0.073389\n",
      "[152]\tvalid_0's binary_logloss: 0.0735446\n",
      "[153]\tvalid_0's binary_logloss: 0.0730384\n",
      "[154]\tvalid_0's binary_logloss: 0.0730101\n",
      "[155]\tvalid_0's binary_logloss: 0.0731509\n",
      "[156]\tvalid_0's binary_logloss: 0.0733264\n",
      "[157]\tvalid_0's binary_logloss: 0.0730607\n",
      "[158]\tvalid_0's binary_logloss: 0.0730068\n",
      "[159]\tvalid_0's binary_logloss: 0.0730902\n",
      "[160]\tvalid_0's binary_logloss: 0.0728902\n",
      "[161]\tvalid_0's binary_logloss: 0.0727873\n",
      "[162]\tvalid_0's binary_logloss: 0.0727962\n",
      "[163]\tvalid_0's binary_logloss: 0.072771\n",
      "[164]\tvalid_0's binary_logloss: 0.0728822\n",
      "[165]\tvalid_0's binary_logloss: 0.0729388\n",
      "[166]\tvalid_0's binary_logloss: 0.0729561\n",
      "[167]\tvalid_0's binary_logloss: 0.0730075\n",
      "[168]\tvalid_0's binary_logloss: 0.0727312\n",
      "[169]\tvalid_0's binary_logloss: 0.0727209\n",
      "[170]\tvalid_0's binary_logloss: 0.0728418\n",
      "[171]\tvalid_0's binary_logloss: 0.0726736\n",
      "[172]\tvalid_0's binary_logloss: 0.0728018\n",
      "[173]\tvalid_0's binary_logloss: 0.0728535\n",
      "[174]\tvalid_0's binary_logloss: 0.0727609\n",
      "[175]\tvalid_0's binary_logloss: 0.0728809\n",
      "[176]\tvalid_0's binary_logloss: 0.0728664\n",
      "[177]\tvalid_0's binary_logloss: 0.0727548\n",
      "[178]\tvalid_0's binary_logloss: 0.0728058\n",
      "[179]\tvalid_0's binary_logloss: 0.0728682\n",
      "[180]\tvalid_0's binary_logloss: 0.0728336\n",
      "[181]\tvalid_0's binary_logloss: 0.0725655\n",
      "[182]\tvalid_0's binary_logloss: 0.0725056\n",
      "[183]\tvalid_0's binary_logloss: 0.0726173\n",
      "[184]\tvalid_0's binary_logloss: 0.0727229\n",
      "[185]\tvalid_0's binary_logloss: 0.0723004\n",
      "[186]\tvalid_0's binary_logloss: 0.0725393\n",
      "[187]\tvalid_0's binary_logloss: 0.0726971\n",
      "[188]\tvalid_0's binary_logloss: 0.0727796\n",
      "[189]\tvalid_0's binary_logloss: 0.0728742\n",
      "[190]\tvalid_0's binary_logloss: 0.0730377\n",
      "[191]\tvalid_0's binary_logloss: 0.0730626\n",
      "[192]\tvalid_0's binary_logloss: 0.0729095\n",
      "[193]\tvalid_0's binary_logloss: 0.0729512\n",
      "[194]\tvalid_0's binary_logloss: 0.0729588\n",
      "[195]\tvalid_0's binary_logloss: 0.0730543\n",
      "[196]\tvalid_0's binary_logloss: 0.0726469\n",
      "[197]\tvalid_0's binary_logloss: 0.0727481\n",
      "[198]\tvalid_0's binary_logloss: 0.0728217\n",
      "[199]\tvalid_0's binary_logloss: 0.0726731\n",
      "[200]\tvalid_0's binary_logloss: 0.0727007\n",
      "[201]\tvalid_0's binary_logloss: 0.0729442\n",
      "[202]\tvalid_0's binary_logloss: 0.0730834\n",
      "[203]\tvalid_0's binary_logloss: 0.0731985\n",
      "[204]\tvalid_0's binary_logloss: 0.0728246\n",
      "[205]\tvalid_0's binary_logloss: 0.0729087\n",
      "[206]\tvalid_0's binary_logloss: 0.0731065\n",
      "[207]\tvalid_0's binary_logloss: 0.0732068\n",
      "[208]\tvalid_0's binary_logloss: 0.0733522\n",
      "[209]\tvalid_0's binary_logloss: 0.0733938\n",
      "[210]\tvalid_0's binary_logloss: 0.0735039\n",
      "[211]\tvalid_0's binary_logloss: 0.0734256\n",
      "[212]\tvalid_0's binary_logloss: 0.0734236\n",
      "[213]\tvalid_0's binary_logloss: 0.0734813\n",
      "[214]\tvalid_0's binary_logloss: 0.0732013\n",
      "[215]\tvalid_0's binary_logloss: 0.0732688\n",
      "[216]\tvalid_0's binary_logloss: 0.0732625\n",
      "[217]\tvalid_0's binary_logloss: 0.0733423\n",
      "[218]\tvalid_0's binary_logloss: 0.0735599\n",
      "[219]\tvalid_0's binary_logloss: 0.0735949\n",
      "[220]\tvalid_0's binary_logloss: 0.0736557\n",
      "[221]\tvalid_0's binary_logloss: 0.0738045\n",
      "[222]\tvalid_0's binary_logloss: 0.0739547\n",
      "[223]\tvalid_0's binary_logloss: 0.0740909\n",
      "[224]\tvalid_0's binary_logloss: 0.0742234\n",
      "[225]\tvalid_0's binary_logloss: 0.0742354\n",
      "[226]\tvalid_0's binary_logloss: 0.0743113\n",
      "[227]\tvalid_0's binary_logloss: 0.0742647\n",
      "[228]\tvalid_0's binary_logloss: 0.074321\n",
      "[229]\tvalid_0's binary_logloss: 0.074424\n",
      "[230]\tvalid_0's binary_logloss: 0.0745952\n",
      "[231]\tvalid_0's binary_logloss: 0.0747615\n",
      "[232]\tvalid_0's binary_logloss: 0.0749211\n",
      "[233]\tvalid_0's binary_logloss: 0.0750638\n",
      "[234]\tvalid_0's binary_logloss: 0.0752286\n",
      "[235]\tvalid_0's binary_logloss: 0.0755211\n",
      "[236]\tvalid_0's binary_logloss: 0.0756172\n",
      "[237]\tvalid_0's binary_logloss: 0.0757013\n",
      "[238]\tvalid_0's binary_logloss: 0.0758423\n",
      "[239]\tvalid_0's binary_logloss: 0.0759716\n",
      "[240]\tvalid_0's binary_logloss: 0.0761115\n",
      "[241]\tvalid_0's binary_logloss: 0.0764004\n",
      "[242]\tvalid_0's binary_logloss: 0.076566\n",
      "[243]\tvalid_0's binary_logloss: 0.0765296\n",
      "[244]\tvalid_0's binary_logloss: 0.0765484\n",
      "[245]\tvalid_0's binary_logloss: 0.0763132\n",
      "[246]\tvalid_0's binary_logloss: 0.076665\n",
      "[247]\tvalid_0's binary_logloss: 0.0767332\n",
      "[248]\tvalid_0's binary_logloss: 0.0769165\n",
      "[249]\tvalid_0's binary_logloss: 0.0770202\n",
      "[250]\tvalid_0's binary_logloss: 0.0768654\n",
      "[251]\tvalid_0's binary_logloss: 0.0770055\n",
      "[252]\tvalid_0's binary_logloss: 0.0771648\n",
      "[253]\tvalid_0's binary_logloss: 0.077222\n",
      "[254]\tvalid_0's binary_logloss: 0.077409\n",
      "[255]\tvalid_0's binary_logloss: 0.0776212\n",
      "[256]\tvalid_0's binary_logloss: 0.0775207\n",
      "[257]\tvalid_0's binary_logloss: 0.0775859\n",
      "[258]\tvalid_0's binary_logloss: 0.077607\n",
      "[259]\tvalid_0's binary_logloss: 0.0776225\n",
      "[260]\tvalid_0's binary_logloss: 0.0777469\n",
      "[261]\tvalid_0's binary_logloss: 0.0779078\n",
      "[262]\tvalid_0's binary_logloss: 0.0777488\n",
      "[263]\tvalid_0's binary_logloss: 0.0778926\n",
      "[264]\tvalid_0's binary_logloss: 0.0778668\n",
      "[265]\tvalid_0's binary_logloss: 0.0780235\n",
      "[266]\tvalid_0's binary_logloss: 0.0781202\n",
      "[267]\tvalid_0's binary_logloss: 0.0780978\n",
      "[268]\tvalid_0's binary_logloss: 0.0779975\n",
      "[269]\tvalid_0's binary_logloss: 0.0779943\n",
      "[270]\tvalid_0's binary_logloss: 0.0778297\n",
      "[271]\tvalid_0's binary_logloss: 0.0779151\n",
      "[272]\tvalid_0's binary_logloss: 0.0780014\n",
      "[273]\tvalid_0's binary_logloss: 0.0781226\n",
      "[274]\tvalid_0's binary_logloss: 0.0782059\n",
      "[275]\tvalid_0's binary_logloss: 0.0781875\n",
      "[276]\tvalid_0's binary_logloss: 0.0782137\n",
      "[277]\tvalid_0's binary_logloss: 0.078272\n",
      "[278]\tvalid_0's binary_logloss: 0.078436\n",
      "[279]\tvalid_0's binary_logloss: 0.0784714\n",
      "[280]\tvalid_0's binary_logloss: 0.0786181\n",
      "[281]\tvalid_0's binary_logloss: 0.0785916\n",
      "[282]\tvalid_0's binary_logloss: 0.0788023\n",
      "[283]\tvalid_0's binary_logloss: 0.0788903\n",
      "[284]\tvalid_0's binary_logloss: 0.0788444\n",
      "[285]\tvalid_0's binary_logloss: 0.0792924\n",
      "[286]\tvalid_0's binary_logloss: 0.0793407\n",
      "[287]\tvalid_0's binary_logloss: 0.0793821\n",
      "[288]\tvalid_0's binary_logloss: 0.0793675\n",
      "[289]\tvalid_0's binary_logloss: 0.0796884\n",
      "[290]\tvalid_0's binary_logloss: 0.0800675\n",
      "[291]\tvalid_0's binary_logloss: 0.0801529\n",
      "[292]\tvalid_0's binary_logloss: 0.0801214\n",
      "[293]\tvalid_0's binary_logloss: 0.080141\n",
      "[294]\tvalid_0's binary_logloss: 0.0804319\n",
      "[295]\tvalid_0's binary_logloss: 0.0802612\n",
      "[296]\tvalid_0's binary_logloss: 0.0803603\n",
      "[297]\tvalid_0's binary_logloss: 0.080402\n",
      "[298]\tvalid_0's binary_logloss: 0.0803781\n",
      "[299]\tvalid_0's binary_logloss: 0.0806465\n",
      "[300]\tvalid_0's binary_logloss: 0.0809314\n",
      "[301]\tvalid_0's binary_logloss: 0.0811407\n",
      "[302]\tvalid_0's binary_logloss: 0.0811269\n",
      "[303]\tvalid_0's binary_logloss: 0.0813427\n",
      "[304]\tvalid_0's binary_logloss: 0.0815411\n",
      "[305]\tvalid_0's binary_logloss: 0.0817591\n",
      "[306]\tvalid_0's binary_logloss: 0.0819918\n",
      "[307]\tvalid_0's binary_logloss: 0.0818181\n",
      "[308]\tvalid_0's binary_logloss: 0.0817862\n",
      "Early stopping, best iteration is:\n",
      "[108]\tvalid_0's binary_logloss: 0.0710326\n"
     ]
    },
    {
     "output_type": "execute_result",
     "data": {
      "text/plain": [
       "(2397, 125)"
      ]
     },
     "metadata": {},
     "execution_count": 305
    }
   ],
   "source": [
    "df_goal_prob_pred = pd.DataFrame()\n",
    "kf = KFold(10, shuffle=True)\n",
    "\n",
    "for train_idx, test_idx in kf.split(model_data):\n",
    "    train_data = model_data.iloc[train_idx].copy()\n",
    "    test_data = model_data.iloc[test_idx].copy()\n",
    "    test_data[f'{target}_naive_pred'] = model_data[target].mean()\n",
    "\n",
    "# linear \n",
    "model = LogisticRegression(max_iter=300)\n",
    "model.fit(train_data.loc[:, features], train_data[target])\n",
    "test_data[f'{target}_linear_pred'] = pd.DataFrame(model.predict_proba(test_data.loc[:, features]), index=test_data.index)[1]\n",
    "\n",
    "# rf \n",
    "model = RandomForestClassifier()\n",
    "model.fit(train_data.loc[:, features], train_data[target])\n",
    "test_data[f'{target}_rf_pred'] = pd.DataFrame(model.predict_proba(test_data.loc[:, features]), index=test_data.index)[1]\n",
    "\n",
    "# gbm \n",
    "lgb_train = lgb.Dataset(train_data.loc[:, features], train_data.loc[:, target])\n",
    "lgb_test = lgb.Dataset(test_data.loc[:, features], test_data.loc[:, target])\n",
    "p = dict(\n",
    "    objective='binary',\n",
    "    num_iterations=2000\n",
    ")\n",
    "\n",
    "model = lgb.train(p, lgb_train, early_stopping_rounds=200, valid_sets=lgb_test)\n",
    "test_data[f\"{target}_gbm_pred\"] = pd.Series(model.predict(test_data.loc[:, features]), index=test_data.index)\n",
    "df_goal_prob_pred = df_goal_prob_pred.append(test_data)\n",
    "\n",
    "df_goal_prob_pred.shape\n"
   ]
  },
  {
   "cell_type": "code",
   "execution_count": 307,
   "metadata": {},
   "outputs": [
    {
     "output_type": "stream",
     "name": "stdout",
     "text": [
      "naive_loss: 0.15277506236701402\nnaive_acc: 0.9649561952440551\n\nlinear_loss: 0.1453695353367623\nlinear_acc: 0.9649561952440551\n\nrf_loss: 0.08198430318512152\nrf_acc: 0.9745515227367543\n\ngbm_loss: 0.07103260079311756\ngbm_acc: 0.9766374634960368\n\n"
     ]
    }
   ],
   "source": [
    "goal_prob_metrics = {}\n",
    "goal_prob_metrics['naive_loss'] = log_loss(df_goal_prob_pred[target], df_goal_prob_pred[f\"{target}_naive_pred\"])\n",
    "goal_prob_metrics['naive_acc'] = accuracy_score(df_goal_prob_pred[target], round(df_goal_prob_pred[f\"{target}_naive_pred\"],0))\n",
    "\n",
    "goal_prob_metrics['linear_loss'] = log_loss(df_goal_prob_pred[target], df_goal_prob_pred[f\"{target}_linear_pred\"])\n",
    "goal_prob_metrics['linear_acc'] = accuracy_score(df_goal_prob_pred[target], round(df_goal_prob_pred[f\"{target}_linear_pred\"], 0)) \n",
    "\n",
    "goal_prob_metrics['rf_loss'] = log_loss(df_goal_prob_pred[target], df_goal_prob_pred[f\"{target}_rf_pred\"])\n",
    "goal_prob_metrics['rf_acc'] = accuracy_score(df_goal_prob_pred[target], round(df_goal_prob_pred[f\"{target}_rf_pred\"], 0)) \n",
    "\n",
    "goal_prob_metrics['gbm_loss'] = log_loss(df_goal_prob_pred[target], df_goal_prob_pred[f\"{target}_gbm_pred\"])\n",
    "goal_prob_metrics['gbm_acc'] = accuracy_score(df_goal_prob_pred[target], round(df_goal_prob_pred[f\"{target}_gbm_pred\"], 0)) \n",
    "\n",
    "for model_type in ['naive', 'linear', 'rf', 'gbm']:\n",
    "  print(f\"\"\"{model_type}_loss: {goal_prob_metrics[f'{model_type}_loss']}\\n{model_type}_acc: {goal_prob_metrics[f'{model_type}_acc']}\\n\"\"\")"
   ]
  },
  {
   "cell_type": "code",
   "execution_count": 309,
   "metadata": {},
   "outputs": [
    {
     "output_type": "execute_result",
     "data": {
      "text/plain": [
       "                                                                   5     \\\n",
       "game_date                                                    2018-02-11   \n",
       "Home Team                                      Olympic (Women) - Canada   \n",
       "Away Team                Olympic (Women) - Olympic Athletes from Russia   \n",
       "Period                                                                1   \n",
       "Clock                                               1900-01-01 00:19:53   \n",
       "...                                                                 ...   \n",
       "is_goal_n10                                                           0   \n",
       "is_goal_n10_naive_pred                                        0.0277361   \n",
       "is_goal_n10_linear_pred                                       0.0159856   \n",
       "is_goal_n10_rf_pred                                                0.08   \n",
       "is_goal_n10_gbm_pred                                         0.00299959   \n",
       "\n",
       "                                                                   23    \\\n",
       "game_date                                                    2018-02-11   \n",
       "Home Team                                      Olympic (Women) - Canada   \n",
       "Away Team                Olympic (Women) - Olympic Athletes from Russia   \n",
       "Period                                                                1   \n",
       "Clock                                               1900-01-01 00:19:16   \n",
       "...                                                                 ...   \n",
       "is_goal_n10                                                           0   \n",
       "is_goal_n10_naive_pred                                        0.0277361   \n",
       "is_goal_n10_linear_pred                                      0.00786753   \n",
       "is_goal_n10_rf_pred                                                0.01   \n",
       "is_goal_n10_gbm_pred                                         0.00120431   \n",
       "\n",
       "                                                                   24    \\\n",
       "game_date                                                    2018-02-11   \n",
       "Home Team                                      Olympic (Women) - Canada   \n",
       "Away Team                Olympic (Women) - Olympic Athletes from Russia   \n",
       "Period                                                                1   \n",
       "Clock                                               1900-01-01 00:19:16   \n",
       "...                                                                 ...   \n",
       "is_goal_n10                                                           0   \n",
       "is_goal_n10_naive_pred                                        0.0277361   \n",
       "is_goal_n10_linear_pred                                      0.00918289   \n",
       "is_goal_n10_rf_pred                                                   0   \n",
       "is_goal_n10_gbm_pred                                         0.00129287   \n",
       "\n",
       "                                                                   33    \\\n",
       "game_date                                                    2018-02-11   \n",
       "Home Team                                      Olympic (Women) - Canada   \n",
       "Away Team                Olympic (Women) - Olympic Athletes from Russia   \n",
       "Period                                                                1   \n",
       "Clock                                               1900-01-01 00:18:58   \n",
       "...                                                                 ...   \n",
       "is_goal_n10                                                           0   \n",
       "is_goal_n10_naive_pred                                        0.0277361   \n",
       "is_goal_n10_linear_pred                                       0.0116487   \n",
       "is_goal_n10_rf_pred                                                0.01   \n",
       "is_goal_n10_gbm_pred                                         0.00186914   \n",
       "\n",
       "                                                                   39    \\\n",
       "game_date                                                    2018-02-11   \n",
       "Home Team                                      Olympic (Women) - Canada   \n",
       "Away Team                Olympic (Women) - Olympic Athletes from Russia   \n",
       "Period                                                                1   \n",
       "Clock                                               1900-01-01 00:18:51   \n",
       "...                                                                 ...   \n",
       "is_goal_n10                                                           0   \n",
       "is_goal_n10_naive_pred                                        0.0277361   \n",
       "is_goal_n10_linear_pred                                      0.00747685   \n",
       "is_goal_n10_rf_pred                                                0.01   \n",
       "is_goal_n10_gbm_pred                                        0.000959961   \n",
       "\n",
       "                                                                   48    \\\n",
       "game_date                                                    2018-02-11   \n",
       "Home Team                                      Olympic (Women) - Canada   \n",
       "Away Team                Olympic (Women) - Olympic Athletes from Russia   \n",
       "Period                                                                1   \n",
       "Clock                                               1900-01-01 00:18:26   \n",
       "...                                                                 ...   \n",
       "is_goal_n10                                                           0   \n",
       "is_goal_n10_naive_pred                                        0.0277361   \n",
       "is_goal_n10_linear_pred                                       0.0250762   \n",
       "is_goal_n10_rf_pred                                                0.01   \n",
       "is_goal_n10_gbm_pred                                         0.00751054   \n",
       "\n",
       "                                                                   60    \\\n",
       "game_date                                                    2018-02-11   \n",
       "Home Team                                      Olympic (Women) - Canada   \n",
       "Away Team                Olympic (Women) - Olympic Athletes from Russia   \n",
       "Period                                                                1   \n",
       "Clock                                               1900-01-01 00:18:10   \n",
       "...                                                                 ...   \n",
       "is_goal_n10                                                           0   \n",
       "is_goal_n10_naive_pred                                        0.0277361   \n",
       "is_goal_n10_linear_pred                                       0.0227551   \n",
       "is_goal_n10_rf_pred                                                0.04   \n",
       "is_goal_n10_gbm_pred                                          0.0025775   \n",
       "\n",
       "                                                                   68    \\\n",
       "game_date                                                    2018-02-11   \n",
       "Home Team                                      Olympic (Women) - Canada   \n",
       "Away Team                Olympic (Women) - Olympic Athletes from Russia   \n",
       "Period                                                                1   \n",
       "Clock                                               1900-01-01 00:17:56   \n",
       "...                                                                 ...   \n",
       "is_goal_n10                                                           0   \n",
       "is_goal_n10_naive_pred                                        0.0277361   \n",
       "is_goal_n10_linear_pred                                       0.0152011   \n",
       "is_goal_n10_rf_pred                                                   0   \n",
       "is_goal_n10_gbm_pred                                         0.00349714   \n",
       "\n",
       "                                                                   103   \\\n",
       "game_date                                                    2018-02-11   \n",
       "Home Team                                      Olympic (Women) - Canada   \n",
       "Away Team                Olympic (Women) - Olympic Athletes from Russia   \n",
       "Period                                                                1   \n",
       "Clock                                               1900-01-01 00:16:38   \n",
       "...                                                                 ...   \n",
       "is_goal_n10                                                           0   \n",
       "is_goal_n10_naive_pred                                        0.0277361   \n",
       "is_goal_n10_linear_pred                                       0.0145233   \n",
       "is_goal_n10_rf_pred                                                   0   \n",
       "is_goal_n10_gbm_pred                                         0.00203346   \n",
       "\n",
       "                                                                   104   ...  \\\n",
       "game_date                                                    2018-02-11  ...   \n",
       "Home Team                                      Olympic (Women) - Canada  ...   \n",
       "Away Team                Olympic (Women) - Olympic Athletes from Russia  ...   \n",
       "Period                                                                1  ...   \n",
       "Clock                                               1900-01-01 00:16:36  ...   \n",
       "...                                                                 ...  ...   \n",
       "is_goal_n10                                                           0  ...   \n",
       "is_goal_n10_naive_pred                                        0.0277361  ...   \n",
       "is_goal_n10_linear_pred                                       0.0152378  ...   \n",
       "is_goal_n10_rf_pred                                                0.01  ...   \n",
       "is_goal_n10_gbm_pred                                         0.00325093  ...   \n",
       "\n",
       "                                                    2012  \\\n",
       "game_date                                     2019-04-14   \n",
       "Home Team                      Olympic (Women) - Finland   \n",
       "Away Team                Olympic (Women) - United States   \n",
       "Period                                                 4   \n",
       "Clock                                1900-01-01 00:05:34   \n",
       "...                                                  ...   \n",
       "is_goal_n10                                            0   \n",
       "is_goal_n10_naive_pred                         0.0277361   \n",
       "is_goal_n10_linear_pred                        0.0467222   \n",
       "is_goal_n10_rf_pred                                 0.01   \n",
       "is_goal_n10_gbm_pred                          0.00263912   \n",
       "\n",
       "                                                    2015  \\\n",
       "game_date                                     2019-04-14   \n",
       "Home Team                      Olympic (Women) - Finland   \n",
       "Away Team                Olympic (Women) - United States   \n",
       "Period                                                 4   \n",
       "Clock                                1900-01-01 00:05:23   \n",
       "...                                                  ...   \n",
       "is_goal_n10                                            0   \n",
       "is_goal_n10_naive_pred                         0.0277361   \n",
       "is_goal_n10_linear_pred                        0.0732697   \n",
       "is_goal_n10_rf_pred                                 0.02   \n",
       "is_goal_n10_gbm_pred                          0.00814426   \n",
       "\n",
       "                                                    2066  \\\n",
       "game_date                                     2019-04-14   \n",
       "Home Team                      Olympic (Women) - Finland   \n",
       "Away Team                Olympic (Women) - United States   \n",
       "Period                                                 4   \n",
       "Clock                                1900-01-01 00:02:52   \n",
       "...                                                  ...   \n",
       "is_goal_n10                                            0   \n",
       "is_goal_n10_naive_pred                         0.0277361   \n",
       "is_goal_n10_linear_pred                         0.037135   \n",
       "is_goal_n10_rf_pred                                 0.01   \n",
       "is_goal_n10_gbm_pred                          0.00121783   \n",
       "\n",
       "                                                    2072  \\\n",
       "game_date                                     2019-04-14   \n",
       "Home Team                      Olympic (Women) - Finland   \n",
       "Away Team                Olympic (Women) - United States   \n",
       "Period                                                 4   \n",
       "Clock                                1900-01-01 00:02:47   \n",
       "...                                                  ...   \n",
       "is_goal_n10                                            0   \n",
       "is_goal_n10_naive_pred                         0.0277361   \n",
       "is_goal_n10_linear_pred                        0.0748763   \n",
       "is_goal_n10_rf_pred                                    0   \n",
       "is_goal_n10_gbm_pred                          0.00586629   \n",
       "\n",
       "                                                    2075  \\\n",
       "game_date                                     2019-04-14   \n",
       "Home Team                      Olympic (Women) - Finland   \n",
       "Away Team                Olympic (Women) - United States   \n",
       "Period                                                 4   \n",
       "Clock                                1900-01-01 00:02:43   \n",
       "...                                                  ...   \n",
       "is_goal_n10                                            0   \n",
       "is_goal_n10_naive_pred                         0.0277361   \n",
       "is_goal_n10_linear_pred                        0.0868145   \n",
       "is_goal_n10_rf_pred                                 0.02   \n",
       "is_goal_n10_gbm_pred                          0.00158117   \n",
       "\n",
       "                                                    2090  \\\n",
       "game_date                                     2019-04-14   \n",
       "Home Team                      Olympic (Women) - Finland   \n",
       "Away Team                Olympic (Women) - United States   \n",
       "Period                                                 4   \n",
       "Clock                                1900-01-01 00:02:03   \n",
       "...                                                  ...   \n",
       "is_goal_n10                                            0   \n",
       "is_goal_n10_naive_pred                         0.0277361   \n",
       "is_goal_n10_linear_pred                        0.0212466   \n",
       "is_goal_n10_rf_pred                                 0.03   \n",
       "is_goal_n10_gbm_pred                          0.00469324   \n",
       "\n",
       "                                                    2098  \\\n",
       "game_date                                     2019-04-14   \n",
       "Home Team                      Olympic (Women) - Finland   \n",
       "Away Team                Olympic (Women) - United States   \n",
       "Period                                                 4   \n",
       "Clock                                1900-01-01 00:01:49   \n",
       "...                                                  ...   \n",
       "is_goal_n10                                            0   \n",
       "is_goal_n10_naive_pred                         0.0277361   \n",
       "is_goal_n10_linear_pred                         0.114722   \n",
       "is_goal_n10_rf_pred                                 0.05   \n",
       "is_goal_n10_gbm_pred                          0.00195056   \n",
       "\n",
       "                                                    2111  \\\n",
       "game_date                                     2019-04-14   \n",
       "Home Team                      Olympic (Women) - Finland   \n",
       "Away Team                Olympic (Women) - United States   \n",
       "Period                                                 4   \n",
       "Clock                                1900-01-01 00:01:15   \n",
       "...                                                  ...   \n",
       "is_goal_n10                                            0   \n",
       "is_goal_n10_naive_pred                         0.0277361   \n",
       "is_goal_n10_linear_pred                        0.0942207   \n",
       "is_goal_n10_rf_pred                                 0.04   \n",
       "is_goal_n10_gbm_pred                           0.0027838   \n",
       "\n",
       "                                                    2140  \\\n",
       "game_date                                     2019-04-14   \n",
       "Home Team                      Olympic (Women) - Finland   \n",
       "Away Team                Olympic (Women) - United States   \n",
       "Period                                                 4   \n",
       "Clock                                1900-01-01 00:00:07   \n",
       "...                                                  ...   \n",
       "is_goal_n10                                            1   \n",
       "is_goal_n10_naive_pred                         0.0277361   \n",
       "is_goal_n10_linear_pred                         0.131859   \n",
       "is_goal_n10_rf_pred                                 0.88   \n",
       "is_goal_n10_gbm_pred                            0.930211   \n",
       "\n",
       "                                                    2143  \n",
       "game_date                                     2019-04-14  \n",
       "Home Team                      Olympic (Women) - Finland  \n",
       "Away Team                Olympic (Women) - United States  \n",
       "Period                                                 4  \n",
       "Clock                                1900-01-01 00:00:01  \n",
       "...                                                  ...  \n",
       "is_goal_n10                                            1  \n",
       "is_goal_n10_naive_pred                         0.0277361  \n",
       "is_goal_n10_linear_pred                        0.0677592  \n",
       "is_goal_n10_rf_pred                                 0.84  \n",
       "is_goal_n10_gbm_pred                            0.933964  \n",
       "\n",
       "[125 rows x 2397 columns]"
      ],
      "text/html": "<div>\n<style scoped>\n    .dataframe tbody tr th:only-of-type {\n        vertical-align: middle;\n    }\n\n    .dataframe tbody tr th {\n        vertical-align: top;\n    }\n\n    .dataframe thead th {\n        text-align: right;\n    }\n</style>\n<table border=\"1\" class=\"dataframe\">\n  <thead>\n    <tr style=\"text-align: right;\">\n      <th></th>\n      <th>5</th>\n      <th>23</th>\n      <th>24</th>\n      <th>33</th>\n      <th>39</th>\n      <th>48</th>\n      <th>60</th>\n      <th>68</th>\n      <th>103</th>\n      <th>104</th>\n      <th>...</th>\n      <th>2012</th>\n      <th>2015</th>\n      <th>2066</th>\n      <th>2072</th>\n      <th>2075</th>\n      <th>2090</th>\n      <th>2098</th>\n      <th>2111</th>\n      <th>2140</th>\n      <th>2143</th>\n    </tr>\n  </thead>\n  <tbody>\n    <tr>\n      <th>game_date</th>\n      <td>2018-02-11</td>\n      <td>2018-02-11</td>\n      <td>2018-02-11</td>\n      <td>2018-02-11</td>\n      <td>2018-02-11</td>\n      <td>2018-02-11</td>\n      <td>2018-02-11</td>\n      <td>2018-02-11</td>\n      <td>2018-02-11</td>\n      <td>2018-02-11</td>\n      <td>...</td>\n      <td>2019-04-14</td>\n      <td>2019-04-14</td>\n      <td>2019-04-14</td>\n      <td>2019-04-14</td>\n      <td>2019-04-14</td>\n      <td>2019-04-14</td>\n      <td>2019-04-14</td>\n      <td>2019-04-14</td>\n      <td>2019-04-14</td>\n      <td>2019-04-14</td>\n    </tr>\n    <tr>\n      <th>Home Team</th>\n      <td>Olympic (Women) - Canada</td>\n      <td>Olympic (Women) - Canada</td>\n      <td>Olympic (Women) - Canada</td>\n      <td>Olympic (Women) - Canada</td>\n      <td>Olympic (Women) - Canada</td>\n      <td>Olympic (Women) - Canada</td>\n      <td>Olympic (Women) - Canada</td>\n      <td>Olympic (Women) - Canada</td>\n      <td>Olympic (Women) - Canada</td>\n      <td>Olympic (Women) - Canada</td>\n      <td>...</td>\n      <td>Olympic (Women) - Finland</td>\n      <td>Olympic (Women) - Finland</td>\n      <td>Olympic (Women) - Finland</td>\n      <td>Olympic (Women) - Finland</td>\n      <td>Olympic (Women) - Finland</td>\n      <td>Olympic (Women) - Finland</td>\n      <td>Olympic (Women) - Finland</td>\n      <td>Olympic (Women) - Finland</td>\n      <td>Olympic (Women) - Finland</td>\n      <td>Olympic (Women) - Finland</td>\n    </tr>\n    <tr>\n      <th>Away Team</th>\n      <td>Olympic (Women) - Olympic Athletes from Russia</td>\n      <td>Olympic (Women) - Olympic Athletes from Russia</td>\n      <td>Olympic (Women) - Olympic Athletes from Russia</td>\n      <td>Olympic (Women) - Olympic Athletes from Russia</td>\n      <td>Olympic (Women) - Olympic Athletes from Russia</td>\n      <td>Olympic (Women) - Olympic Athletes from Russia</td>\n      <td>Olympic (Women) - Olympic Athletes from Russia</td>\n      <td>Olympic (Women) - Olympic Athletes from Russia</td>\n      <td>Olympic (Women) - Olympic Athletes from Russia</td>\n      <td>Olympic (Women) - Olympic Athletes from Russia</td>\n      <td>...</td>\n      <td>Olympic (Women) - United States</td>\n      <td>Olympic (Women) - United States</td>\n      <td>Olympic (Women) - United States</td>\n      <td>Olympic (Women) - United States</td>\n      <td>Olympic (Women) - United States</td>\n      <td>Olympic (Women) - United States</td>\n      <td>Olympic (Women) - United States</td>\n      <td>Olympic (Women) - United States</td>\n      <td>Olympic (Women) - United States</td>\n      <td>Olympic (Women) - United States</td>\n    </tr>\n    <tr>\n      <th>Period</th>\n      <td>1</td>\n      <td>1</td>\n      <td>1</td>\n      <td>1</td>\n      <td>1</td>\n      <td>1</td>\n      <td>1</td>\n      <td>1</td>\n      <td>1</td>\n      <td>1</td>\n      <td>...</td>\n      <td>4</td>\n      <td>4</td>\n      <td>4</td>\n      <td>4</td>\n      <td>4</td>\n      <td>4</td>\n      <td>4</td>\n      <td>4</td>\n      <td>4</td>\n      <td>4</td>\n    </tr>\n    <tr>\n      <th>Clock</th>\n      <td>1900-01-01 00:19:53</td>\n      <td>1900-01-01 00:19:16</td>\n      <td>1900-01-01 00:19:16</td>\n      <td>1900-01-01 00:18:58</td>\n      <td>1900-01-01 00:18:51</td>\n      <td>1900-01-01 00:18:26</td>\n      <td>1900-01-01 00:18:10</td>\n      <td>1900-01-01 00:17:56</td>\n      <td>1900-01-01 00:16:38</td>\n      <td>1900-01-01 00:16:36</td>\n      <td>...</td>\n      <td>1900-01-01 00:05:34</td>\n      <td>1900-01-01 00:05:23</td>\n      <td>1900-01-01 00:02:52</td>\n      <td>1900-01-01 00:02:47</td>\n      <td>1900-01-01 00:02:43</td>\n      <td>1900-01-01 00:02:03</td>\n      <td>1900-01-01 00:01:49</td>\n      <td>1900-01-01 00:01:15</td>\n      <td>1900-01-01 00:00:07</td>\n      <td>1900-01-01 00:00:01</td>\n    </tr>\n    <tr>\n      <th>...</th>\n      <td>...</td>\n      <td>...</td>\n      <td>...</td>\n      <td>...</td>\n      <td>...</td>\n      <td>...</td>\n      <td>...</td>\n      <td>...</td>\n      <td>...</td>\n      <td>...</td>\n      <td>...</td>\n      <td>...</td>\n      <td>...</td>\n      <td>...</td>\n      <td>...</td>\n      <td>...</td>\n      <td>...</td>\n      <td>...</td>\n      <td>...</td>\n      <td>...</td>\n      <td>...</td>\n    </tr>\n    <tr>\n      <th>is_goal_n10</th>\n      <td>0</td>\n      <td>0</td>\n      <td>0</td>\n      <td>0</td>\n      <td>0</td>\n      <td>0</td>\n      <td>0</td>\n      <td>0</td>\n      <td>0</td>\n      <td>0</td>\n      <td>...</td>\n      <td>0</td>\n      <td>0</td>\n      <td>0</td>\n      <td>0</td>\n      <td>0</td>\n      <td>0</td>\n      <td>0</td>\n      <td>0</td>\n      <td>1</td>\n      <td>1</td>\n    </tr>\n    <tr>\n      <th>is_goal_n10_naive_pred</th>\n      <td>0.0277361</td>\n      <td>0.0277361</td>\n      <td>0.0277361</td>\n      <td>0.0277361</td>\n      <td>0.0277361</td>\n      <td>0.0277361</td>\n      <td>0.0277361</td>\n      <td>0.0277361</td>\n      <td>0.0277361</td>\n      <td>0.0277361</td>\n      <td>...</td>\n      <td>0.0277361</td>\n      <td>0.0277361</td>\n      <td>0.0277361</td>\n      <td>0.0277361</td>\n      <td>0.0277361</td>\n      <td>0.0277361</td>\n      <td>0.0277361</td>\n      <td>0.0277361</td>\n      <td>0.0277361</td>\n      <td>0.0277361</td>\n    </tr>\n    <tr>\n      <th>is_goal_n10_linear_pred</th>\n      <td>0.0159856</td>\n      <td>0.00786753</td>\n      <td>0.00918289</td>\n      <td>0.0116487</td>\n      <td>0.00747685</td>\n      <td>0.0250762</td>\n      <td>0.0227551</td>\n      <td>0.0152011</td>\n      <td>0.0145233</td>\n      <td>0.0152378</td>\n      <td>...</td>\n      <td>0.0467222</td>\n      <td>0.0732697</td>\n      <td>0.037135</td>\n      <td>0.0748763</td>\n      <td>0.0868145</td>\n      <td>0.0212466</td>\n      <td>0.114722</td>\n      <td>0.0942207</td>\n      <td>0.131859</td>\n      <td>0.0677592</td>\n    </tr>\n    <tr>\n      <th>is_goal_n10_rf_pred</th>\n      <td>0.08</td>\n      <td>0.01</td>\n      <td>0</td>\n      <td>0.01</td>\n      <td>0.01</td>\n      <td>0.01</td>\n      <td>0.04</td>\n      <td>0</td>\n      <td>0</td>\n      <td>0.01</td>\n      <td>...</td>\n      <td>0.01</td>\n      <td>0.02</td>\n      <td>0.01</td>\n      <td>0</td>\n      <td>0.02</td>\n      <td>0.03</td>\n      <td>0.05</td>\n      <td>0.04</td>\n      <td>0.88</td>\n      <td>0.84</td>\n    </tr>\n    <tr>\n      <th>is_goal_n10_gbm_pred</th>\n      <td>0.00299959</td>\n      <td>0.00120431</td>\n      <td>0.00129287</td>\n      <td>0.00186914</td>\n      <td>0.000959961</td>\n      <td>0.00751054</td>\n      <td>0.0025775</td>\n      <td>0.00349714</td>\n      <td>0.00203346</td>\n      <td>0.00325093</td>\n      <td>...</td>\n      <td>0.00263912</td>\n      <td>0.00814426</td>\n      <td>0.00121783</td>\n      <td>0.00586629</td>\n      <td>0.00158117</td>\n      <td>0.00469324</td>\n      <td>0.00195056</td>\n      <td>0.0027838</td>\n      <td>0.930211</td>\n      <td>0.933964</td>\n    </tr>\n  </tbody>\n</table>\n<p>125 rows × 2397 columns</p>\n</div>"
     },
     "metadata": {},
     "execution_count": 309
    }
   ],
   "source": [
    "df_goal_prob_pred.T"
   ]
  },
  {
   "cell_type": "code",
   "execution_count": null,
   "metadata": {},
   "outputs": [],
   "source": []
  },
  {
   "cell_type": "code",
   "execution_count": null,
   "metadata": {},
   "outputs": [],
   "source": []
  },
  {
   "cell_type": "code",
   "execution_count": null,
   "metadata": {},
   "outputs": [],
   "source": []
  },
  {
   "cell_type": "code",
   "execution_count": null,
   "metadata": {},
   "outputs": [],
   "source": []
  },
  {
   "cell_type": "code",
   "execution_count": null,
   "metadata": {},
   "outputs": [],
   "source": []
  },
  {
   "cell_type": "code",
   "execution_count": null,
   "metadata": {},
   "outputs": [],
   "source": []
  }
 ]
}