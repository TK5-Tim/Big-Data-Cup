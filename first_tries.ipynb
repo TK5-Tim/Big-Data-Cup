{
    "metadata": {
        "language_info": {
            "codemirror_mode": {"name": "ipython", "version": 3},
            "file_extension": ".py",
            "mimetype": "text/x-python",
            "name": "python",
            "nbconvert_exporter": "python",
            "pygments_lexer": "ipython3",
            "version": "3.9.1-final",
        },
        "orig_nbformat": 2,
        "kernelspec": {
            "name": "python3",
            "display_name": "Python 3.9.1 64-bit",
            "metadata": {
                "interpreter": {
                    "hash": "aee8b7b246df8f9039afb4144a1f6fd8d2ca17a180786b69acc140d282b71a49"
                }
            },
        },
    },
    "nbformat": 4,
    "nbformat_minor": 2,
    "cells": [
        {
            "source": [
                "# Big Data Cup 2021 \n",
                "\n",
                "## Ideas \n",
                "* Look at value ",
            ],
            "cell_type": "markdown",
            "metadata": {},
        },
        {
            "cell_type": "code",
            "execution_count": 35,
            "metadata": {},
            "outputs": [],
            "source": ["import pandas as pd"],
        },
        {
            "cell_type": "code",
            "execution_count": 36,
            "metadata": {},
            "outputs": [],
            "source": [
                "project_dir = '/Users/keltim01/git_repos/TK5/Data/Big-Data-Cup-2021/'    \n"
            ],
        },
        {
            "cell_type": "code",
            "execution_count": 37,
            "metadata": {},
            "outputs": [
                {
                    "output_type": "execute_result",
                    "data": {
                        "text/plain": [
                            "    game_date    Home Team       Away Team  Period  Clock  Home Team Skaters  \\\n",
                            "0  2019-09-20  Erie Otters  Sudbury Wolves       1  20:00                  5   \n",
                            "1  2019-09-20  Erie Otters  Sudbury Wolves       1  19:58                  5   \n",
                            "2  2019-09-20  Erie Otters  Sudbury Wolves       1  19:53                  5   \n",
                            "3  2019-09-20  Erie Otters  Sudbury Wolves       1  19:52                  5   \n",
                            "4  2019-09-20  Erie Otters  Sudbury Wolves       1  19:51                  5   \n",
                            "\n",
                            "   Away Team Skaters  Home Team Goals  Away Team Goals            Team  ...  \\\n",
                            "0                  5                0                0  Sudbury Wolves  ...   \n",
                            "1                  5                0                0  Sudbury Wolves  ...   \n",
                            "2                  5                0                0  Sudbury Wolves  ...   \n",
                            "3                  5                0                0     Erie Otters  ...   \n",
                            "4                  5                0                0     Erie Otters  ...   \n",
                            "\n",
                            "             Event X Coordinate  Y Coordinate  Detail 1 Detail 2 Detail 3  \\\n",
                            "0      Faceoff Win          100            43  Forehand      NaN      NaN   \n",
                            "1    Puck Recovery           67            77       NaN      NaN      NaN   \n",
                            "2  Incomplete Play           45            49    Direct      NaN      NaN   \n",
                            "3    Puck Recovery           89            36       NaN      NaN      NaN   \n",
                            "4  Incomplete Play           82            49    Direct      NaN      NaN   \n",
                            "\n",
                            "  Detail 4         Player 2 X Coordinate 2  Y Coordinate 2  \n",
                            "0      NaN  Connor Lockhart            NaN             NaN  \n",
                            "1      NaN              NaN            NaN             NaN  \n",
                            "2      NaN     Blake Murray           74.0            35.0  \n",
                            "3      NaN              NaN            NaN             NaN  \n",
                            "4      NaN  Connor Lockhart           94.0            46.0  \n",
                            "\n",
                            "[5 rows x 21 columns]",
                        ],
                        "text/html": '<div>\n<style scoped>\n    .dataframe tbody tr th:only-of-type {\n        vertical-align: middle;\n    }\n\n    .dataframe tbody tr th {\n        vertical-align: top;\n    }\n\n    .dataframe thead th {\n        text-align: right;\n    }\n</style>\n<table border="1" class="dataframe">\n  <thead>\n    <tr style="text-align: right;">\n      <th></th>\n      <th>game_date</th>\n      <th>Home Team</th>\n      <th>Away Team</th>\n      <th>Period</th>\n      <th>Clock</th>\n      <th>Home Team Skaters</th>\n      <th>Away Team Skaters</th>\n      <th>Home Team Goals</th>\n      <th>Away Team Goals</th>\n      <th>Team</th>\n      <th>...</th>\n      <th>Event</th>\n      <th>X Coordinate</th>\n      <th>Y Coordinate</th>\n      <th>Detail 1</th>\n      <th>Detail 2</th>\n      <th>Detail 3</th>\n      <th>Detail 4</th>\n      <th>Player 2</th>\n      <th>X Coordinate 2</th>\n      <th>Y Coordinate 2</th>\n    </tr>\n  </thead>\n  <tbody>\n    <tr>\n      <th>0</th>\n      <td>2019-09-20</td>\n      <td>Erie Otters</td>\n      <td>Sudbury Wolves</td>\n      <td>1</td>\n      <td>20:00</td>\n      <td>5</td>\n      <td>5</td>\n      <td>0</td>\n      <td>0</td>\n      <td>Sudbury Wolves</td>\n      <td>...</td>\n      <td>Faceoff Win</td>\n      <td>100</td>\n      <td>43</td>\n      <td>Forehand</td>\n      <td>NaN</td>\n      <td>NaN</td>\n      <td>NaN</td>\n      <td>Connor Lockhart</td>\n      <td>NaN</td>\n      <td>NaN</td>\n    </tr>\n    <tr>\n      <th>1</th>\n      <td>2019-09-20</td>\n      <td>Erie Otters</td>\n      <td>Sudbury Wolves</td>\n      <td>1</td>\n      <td>19:58</td>\n      <td>5</td>\n      <td>5</td>\n      <td>0</td>\n      <td>0</td>\n      <td>Sudbury Wolves</td>\n      <td>...</td>\n      <td>Puck Recovery</td>\n      <td>67</td>\n      <td>77</td>\n      <td>NaN</td>\n      <td>NaN</td>\n      <td>NaN</td>\n      <td>NaN</td>\n      <td>NaN</td>\n      <td>NaN</td>\n      <td>NaN</td>\n    </tr>\n    <tr>\n      <th>2</th>\n      <td>2019-09-20</td>\n      <td>Erie Otters</td>\n      <td>Sudbury Wolves</td>\n      <td>1</td>\n      <td>19:53</td>\n      <td>5</td>\n      <td>5</td>\n      <td>0</td>\n      <td>0</td>\n      <td>Sudbury Wolves</td>\n      <td>...</td>\n      <td>Incomplete Play</td>\n      <td>45</td>\n      <td>49</td>\n      <td>Direct</td>\n      <td>NaN</td>\n      <td>NaN</td>\n      <td>NaN</td>\n      <td>Blake Murray</td>\n      <td>74.0</td>\n      <td>35.0</td>\n    </tr>\n    <tr>\n      <th>3</th>\n      <td>2019-09-20</td>\n      <td>Erie Otters</td>\n      <td>Sudbury Wolves</td>\n      <td>1</td>\n      <td>19:52</td>\n      <td>5</td>\n      <td>5</td>\n      <td>0</td>\n      <td>0</td>\n      <td>Erie Otters</td>\n      <td>...</td>\n      <td>Puck Recovery</td>\n      <td>89</td>\n      <td>36</td>\n      <td>NaN</td>\n      <td>NaN</td>\n      <td>NaN</td>\n      <td>NaN</td>\n      <td>NaN</td>\n      <td>NaN</td>\n      <td>NaN</td>\n    </tr>\n    <tr>\n      <th>4</th>\n      <td>2019-09-20</td>\n      <td>Erie Otters</td>\n      <td>Sudbury Wolves</td>\n      <td>1</td>\n      <td>19:51</td>\n      <td>5</td>\n      <td>5</td>\n      <td>0</td>\n      <td>0</td>\n      <td>Erie Otters</td>\n      <td>...</td>\n      <td>Incomplete Play</td>\n      <td>82</td>\n      <td>49</td>\n      <td>Direct</td>\n      <td>NaN</td>\n      <td>NaN</td>\n      <td>NaN</td>\n      <td>Connor Lockhart</td>\n      <td>94.0</td>\n      <td>46.0</td>\n    </tr>\n  </tbody>\n</table>\n<p>5 rows × 21 columns</p>\n</div>',
                    },
                    "metadata": {},
                    "execution_count": 37,
                }
            ],
            "source": [
                "nwhl = pd.read_csv(project_dir + 'hackathon_nwhl.csv')\n",
                "scouting.head()",
            ],
        },
        {
            "cell_type": "code",
            "execution_count": 38,
            "metadata": {},
            "outputs": [
                {
                    "output_type": "execute_result",
                    "data": {
                        "text/plain": [
                            "    game_date                 Home Team  \\\n",
                            "0  2018-02-11  Olympic (Women) - Canada   \n",
                            "1  2018-02-11  Olympic (Women) - Canada   \n",
                            "2  2018-02-11  Olympic (Women) - Canada   \n",
                            "3  2018-02-11  Olympic (Women) - Canada   \n",
                            "4  2018-02-11  Olympic (Women) - Canada   \n",
                            "\n",
                            "                                        Away Team  Period  Clock  \\\n",
                            "0  Olympic (Women) - Olympic Athletes from Russia       1  20:00   \n",
                            "1  Olympic (Women) - Olympic Athletes from Russia       1  19:59   \n",
                            "2  Olympic (Women) - Olympic Athletes from Russia       1  19:59   \n",
                            "3  Olympic (Women) - Olympic Athletes from Russia       1  19:59   \n",
                            "4  Olympic (Women) - Olympic Athletes from Russia       1  19:53   \n",
                            "\n",
                            "   Home Team Skaters  Away Team Skaters  Home Team Goals  Away Team Goals  \\\n",
                            "0                  5                  5                0                0   \n",
                            "1                  5                  5                0                0   \n",
                            "2                  5                  5                0                0   \n",
                            "3                  5                  5                0                0   \n",
                            "4                  5                  5                0                0   \n",
                            "\n",
                            "                       Team  ...          Event X Coordinate  Y Coordinate  \\\n",
                            "0  Olympic (Women) - Canada  ...    Faceoff Win          100            42   \n",
                            "1  Olympic (Women) - Canada  ...  Puck Recovery           91            67   \n",
                            "2  Olympic (Women) - Canada  ...    Dump In/Out          106            81   \n",
                            "3  Olympic (Women) - Canada  ...     Zone Entry          106            81   \n",
                            "4  Olympic (Women) - Canada  ...  Puck Recovery          168             1   \n",
                            "\n",
                            "   Detail 1 Detail 2 Detail 3 Detail 4            Player 2 X Coordinate 2  \\\n",
                            "0  Backhand      NaN      NaN      NaN  Lyudmila Belyakova            NaN   \n",
                            "1       NaN      NaN      NaN      NaN                 NaN            NaN   \n",
                            "2  Retained      NaN      NaN      NaN                 NaN            NaN   \n",
                            "3    Dumped      NaN      NaN      NaN      Liana Ganeyeva            NaN   \n",
                            "4       NaN      NaN      NaN      NaN                 NaN            NaN   \n",
                            "\n",
                            "   Y Coordinate 2  \n",
                            "0             NaN  \n",
                            "1             NaN  \n",
                            "2             NaN  \n",
                            "3             NaN  \n",
                            "4             NaN  \n",
                            "\n",
                            "[5 rows x 21 columns]",
                        ],
                        "text/html": '<div>\n<style scoped>\n    .dataframe tbody tr th:only-of-type {\n        vertical-align: middle;\n    }\n\n    .dataframe tbody tr th {\n        vertical-align: top;\n    }\n\n    .dataframe thead th {\n        text-align: right;\n    }\n</style>\n<table border="1" class="dataframe">\n  <thead>\n    <tr style="text-align: right;">\n      <th></th>\n      <th>game_date</th>\n      <th>Home Team</th>\n      <th>Away Team</th>\n      <th>Period</th>\n      <th>Clock</th>\n      <th>Home Team Skaters</th>\n      <th>Away Team Skaters</th>\n      <th>Home Team Goals</th>\n      <th>Away Team Goals</th>\n      <th>Team</th>\n      <th>...</th>\n      <th>Event</th>\n      <th>X Coordinate</th>\n      <th>Y Coordinate</th>\n      <th>Detail 1</th>\n      <th>Detail 2</th>\n      <th>Detail 3</th>\n      <th>Detail 4</th>\n      <th>Player 2</th>\n      <th>X Coordinate 2</th>\n      <th>Y Coordinate 2</th>\n    </tr>\n  </thead>\n  <tbody>\n    <tr>\n      <th>0</th>\n      <td>2018-02-11</td>\n      <td>Olympic (Women) - Canada</td>\n      <td>Olympic (Women) - Olympic Athletes from Russia</td>\n      <td>1</td>\n      <td>20:00</td>\n      <td>5</td>\n      <td>5</td>\n      <td>0</td>\n      <td>0</td>\n      <td>Olympic (Women) - Canada</td>\n      <td>...</td>\n      <td>Faceoff Win</td>\n      <td>100</td>\n      <td>42</td>\n      <td>Backhand</td>\n      <td>NaN</td>\n      <td>NaN</td>\n      <td>NaN</td>\n      <td>Lyudmila Belyakova</td>\n      <td>NaN</td>\n      <td>NaN</td>\n    </tr>\n    <tr>\n      <th>1</th>\n      <td>2018-02-11</td>\n      <td>Olympic (Women) - Canada</td>\n      <td>Olympic (Women) - Olympic Athletes from Russia</td>\n      <td>1</td>\n      <td>19:59</td>\n      <td>5</td>\n      <td>5</td>\n      <td>0</td>\n      <td>0</td>\n      <td>Olympic (Women) - Canada</td>\n      <td>...</td>\n      <td>Puck Recovery</td>\n      <td>91</td>\n      <td>67</td>\n      <td>NaN</td>\n      <td>NaN</td>\n      <td>NaN</td>\n      <td>NaN</td>\n      <td>NaN</td>\n      <td>NaN</td>\n      <td>NaN</td>\n    </tr>\n    <tr>\n      <th>2</th>\n      <td>2018-02-11</td>\n      <td>Olympic (Women) - Canada</td>\n      <td>Olympic (Women) - Olympic Athletes from Russia</td>\n      <td>1</td>\n      <td>19:59</td>\n      <td>5</td>\n      <td>5</td>\n      <td>0</td>\n      <td>0</td>\n      <td>Olympic (Women) - Canada</td>\n      <td>...</td>\n      <td>Dump In/Out</td>\n      <td>106</td>\n      <td>81</td>\n      <td>Retained</td>\n      <td>NaN</td>\n      <td>NaN</td>\n      <td>NaN</td>\n      <td>NaN</td>\n      <td>NaN</td>\n      <td>NaN</td>\n    </tr>\n    <tr>\n      <th>3</th>\n      <td>2018-02-11</td>\n      <td>Olympic (Women) - Canada</td>\n      <td>Olympic (Women) - Olympic Athletes from Russia</td>\n      <td>1</td>\n      <td>19:59</td>\n      <td>5</td>\n      <td>5</td>\n      <td>0</td>\n      <td>0</td>\n      <td>Olympic (Women) - Canada</td>\n      <td>...</td>\n      <td>Zone Entry</td>\n      <td>106</td>\n      <td>81</td>\n      <td>Dumped</td>\n      <td>NaN</td>\n      <td>NaN</td>\n      <td>NaN</td>\n      <td>Liana Ganeyeva</td>\n      <td>NaN</td>\n      <td>NaN</td>\n    </tr>\n    <tr>\n      <th>4</th>\n      <td>2018-02-11</td>\n      <td>Olympic (Women) - Canada</td>\n      <td>Olympic (Women) - Olympic Athletes from Russia</td>\n      <td>1</td>\n      <td>19:53</td>\n      <td>5</td>\n      <td>5</td>\n      <td>0</td>\n      <td>0</td>\n      <td>Olympic (Women) - Canada</td>\n      <td>...</td>\n      <td>Puck Recovery</td>\n      <td>168</td>\n      <td>1</td>\n      <td>NaN</td>\n      <td>NaN</td>\n      <td>NaN</td>\n      <td>NaN</td>\n      <td>NaN</td>\n      <td>NaN</td>\n      <td>NaN</td>\n    </tr>\n  </tbody>\n</table>\n<p>5 rows × 21 columns</p>\n</div>',
                    },
                    "metadata": {},
                    "execution_count": 38,
                }
            ],
            "source": [
                "womens = pd.read_csv(project_dir + 'hackathon_womens.csv')\n",
                "womens.head()",
            ],
        },
        {
            "cell_type": "code",
            "execution_count": 39,
            "metadata": {},
            "outputs": [
                {
                    "output_type": "execute_result",
                    "data": {
                        "text/plain": [
                            "Index(['game_date', 'Home Team', 'Away Team', 'Period', 'Clock',\n",
                            "       'Home Team Skaters', 'Away Team Skaters', 'Home Team Goals',\n",
                            "       'Away Team Goals', 'Team', 'Player', 'Event', 'X Coordinate',\n",
                            "       'Y Coordinate', 'Detail 1', 'Detail 2', 'Detail 3', 'Detail 4',\n",
                            "       'Player 2', 'X Coordinate 2', 'Y Coordinate 2'],\n",
                            "      dtype='object')",
                        ]
                    },
                    "metadata": {},
                    "execution_count": 39,
                }
            ],
            "source": ["womens.columns"],
        },
        {
            "cell_type": "code",
            "execution_count": 40,
            "metadata": {},
            "outputs": [
                {
                    "output_type": "execute_result",
                    "data": {
                        "text/plain": [
                            "array(['Faceoff Win', 'Puck Recovery', 'Dump In/Out', 'Zone Entry',\n",
                            "       'Play', 'Takeaway', 'Incomplete Play', 'Shot', 'Penalty Taken',\n",
                            "       'Goal'], dtype=object)",
                        ]
                    },
                    "metadata": {},
                    "execution_count": 40,
                }
            ],
            "source": ["womens['Event'].unique()"],
        },
        {
            "cell_type": "code",
            "execution_count": 41,
            "metadata": {},
            "outputs": [
                {
                    "output_type": "execute_result",
                    "data": {
                        "text/plain": [
                            "Play               7424\n",
                            "Puck Recovery      6960\n",
                            "Incomplete Play    2681\n",
                            "Zone Entry         1800\n",
                            "Dump In/Out        1682\n",
                            "Shot               1615\n",
                            "Takeaway            885\n",
                            "Faceoff Win         783\n",
                            "Penalty Taken       116\n",
                            "Goal                 56\n",
                            "Name: Event, dtype: int64",
                        ]
                    },
                    "metadata": {},
                    "execution_count": 41,
                }
            ],
            "source": ["womens['Event'].value_counts()"],
        },
        {
            "cell_type": "code",
            "execution_count": 42,
            "metadata": {},
            "outputs": [
                {
                    "output_type": "execute_result",
                    "data": {
                        "text/plain": [
                            "Index(['game_date', 'Home Team', 'Away Team', 'Period', 'Clock',\n",
                            "       'Home Team Skaters', 'Away Team Skaters', 'Home Team Goals',\n",
                            "       'Away Team Goals', 'Team', 'Player', 'Event', 'X Coordinate',\n",
                            "       'Y Coordinate', 'Detail 1', 'Detail 2', 'Detail 3', 'Detail 4',\n",
                            "       'Player 2', 'X Coordinate 2', 'Y Coordinate 2'],\n",
                            "      dtype='object')",
                        ]
                    },
                    "metadata": {},
                    "execution_count": 42,
                }
            ],
            "source": ["womens.columns"],
        },
        {
            "cell_type": "code",
            "execution_count": 43,
            "metadata": {},
            "outputs": [
                {
                    "output_type": "execute_result",
                    "data": {
                        "text/plain": [
                            "Puck Recovery      8214\n",
                            "Play               7249\n",
                            "Incomplete Play    3430\n",
                            "Zone Entry         1944\n",
                            "Shot               1909\n",
                            "Dump In/Out        1863\n",
                            "Takeaway           1207\n",
                            "Faceoff Win         846\n",
                            "Penalty Taken       144\n",
                            "Goal                 76\n",
                            "Name: Event, dtype: int64",
                        ]
                    },
                    "metadata": {},
                    "execution_count": 43,
                }
            ],
            "source": ["nwhl['Event'].value_counts() "],
        },
        {
            "cell_type": "code",
            "execution_count": 33,
            "metadata": {},
            "outputs": [],
            "source": [],
        },
        {
            "cell_type": "code",
            "execution_count": 44,
            "metadata": {},
            "outputs": [
                {
                    "output_type": "execute_result",
                    "data": {
                        "text/plain": [
                            "Play               7424\n",
                            "Puck Recovery      6960\n",
                            "Incomplete Play    2681\n",
                            "Zone Entry         1800\n",
                            "Dump In/Out        1682\n",
                            "Shot               1615\n",
                            "Takeaway            885\n",
                            "Faceoff Win         783\n",
                            "Penalty Taken       116\n",
                            "Goal                 56\n",
                            "Name: Event, dtype: int64",
                        ]
                    },
                    "metadata": {},
                    "execution_count": 44,
                }
            ],
            "source": ["womens['Event'].value_counts()"],
        },
        {
            "cell_type": "code",
            "execution_count": 46,
            "metadata": {},
            "outputs": [
                {
                    "output_type": "execute_result",
                    "data": {
                        "text/plain": [
                            "Index(['game_date', 'Home Team', 'Away Team', 'Period', 'Clock',\n",
                            "       'Home Team Skaters', 'Away Team Skaters', 'Home Team Goals',\n",
                            "       'Away Team Goals', 'Team', 'Player', 'Event', 'X Coordinate',\n",
                            "       'Y Coordinate', 'Detail 1', 'Detail 2', 'Detail 3', 'Detail 4',\n",
                            "       'Player 2', 'X Coordinate 2', 'Y Coordinate 2'],\n",
                            "      dtype='object')",
                        ]
                    },
                    "metadata": {},
                    "execution_count": 46,
                }
            ],
            "source": ["womens.columns"],
        },
        {
            "cell_type": "code",
            "execution_count": 47,
            "metadata": {},
            "outputs": [
                {
                    "output_type": "execute_result",
                    "data": {
                        "text/plain": [
                            "Index(['game_date', 'Home Team', 'Away Team', 'Period', 'Clock',\n",
                            "       'Home Team Skaters', 'Away Team Skaters', 'Home Team Goals',\n",
                            "       'Away Team Goals', 'Team', 'Player', 'Event', 'X Coordinate',\n",
                            "       'Y Coordinate', 'Detail 1', 'Detail 2', 'Detail 3', 'Detail 4',\n",
                            "       'Player 2', 'X Coordinate 2', 'Y Coordinate 2'],\n",
                            "      dtype='object')",
                        ]
                    },
                    "metadata": {},
                    "execution_count": 47,
                }
            ],
            "source": ["nwhl.columns"],
        },
        {
            "cell_type": "code",
            "execution_count": 48,
            "metadata": {},
            "outputs": [
                {
                    "output_type": "stream",
                    "name": "stdout",
                    "text": [
                        "[ True  True  True  True  True  True  True  True  True  True  True  True\n  True  True  True  True  True  True  True  True  True]\n"
                    ],
                }
            ],
            "source": ["print(nwhl.columns == womens.columns)"],
        },
        {
            "cell_type": "code",
            "execution_count": null,
            "metadata": {},
            "outputs": [],
            "source": [],
        },
    ],
}
